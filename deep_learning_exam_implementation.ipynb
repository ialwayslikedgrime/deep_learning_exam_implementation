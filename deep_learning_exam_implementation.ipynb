{
  "cells": [
    {
      "cell_type": "code",
      "execution_count": null,
      "metadata": {
        "colab": {
          "base_uri": "https://localhost:8080/"
        },
        "id": "-jkyelF37PMT",
        "outputId": "06f78fca-7943-49ba-dcaf-349bf99112de"
      },
      "outputs": [
        {
          "name": "stdout",
          "output_type": "stream",
          "text": [
            "TensorFlow version: 2.18.0\n"
          ]
        }
      ],
      "source": [
        "import pandas as pd\n",
        "import numpy as np\n",
        "import tensorflow as tf\n",
        "import string\n",
        "import random\n",
        "import re\n",
        "import requests\n",
        "\n",
        "from tensorflow.keras.models import Model\n",
        "from tensorflow.keras.layers import Input, Dense, LSTM, Embedding, Concatenate, Dropout\n",
        "from tensorflow.keras.preprocessing.text import Tokenizer\n",
        "from tensorflow.keras.preprocessing.sequence import pad_sequences\n",
        "from tensorflow.keras.initializers import GlorotUniform\n",
        "from sklearn.model_selection import train_test_split\n",
        "from sklearn.preprocessing import LabelEncoder, StandardScaler\n",
        "from tensorflow.keras.optimizers import Adam\n",
        "from sklearn.model_selection import train_test_split\n",
        "import matplotlib.pyplot as plt\n",
        "from tensorflow.keras.callbacks import EarlyStopping\n",
        "\n",
        "\n",
        "print(\"TensorFlow version:\", tf.__version__)"
      ]
    },
    {
      "cell_type": "markdown",
      "metadata": {
        "id": "KzlsoGLt7PMU"
      },
      "source": [
        "# **Point 1 - MODEL.**\n",
        "\n",
        "### **\"which model do you identify most appropriate for this question and why\"**\n"
      ]
    },
    {
      "cell_type": "markdown",
      "metadata": {
        "id": "fbCpVk4L7PMV"
      },
      "source": [
        "In my answer I reasoned about the problem and came to the conclusion that: if we want only to predict the **review type** (good or bad), where we had just one input, a classic model, built with the Sequential() function from Keras, would be fine. BUT, if we, instead, wanted to take the more complete, \"correct\" (and complex) route, where we intended to classify both the review and the score, it would be a case of **multi-output model**, with two outputs. Similarly, when we have to choose which input to use, we may just take one single input, making the model more simplified, or decide to have a more complete (and complex) model, which would use a multi-input structure. In such case, we would have a multi-input and multi-output model, which would necessitate that we not use the sequential() model from Keras, but rather the functional API.\n",
        "\n",
        "My exam says: \"we will process the different types of inputs separately, then use concatenate(), process, and then produce the two different outputs.\" As I said, the exact kind of merge we're choosing is usually discovered empirically. Nonetheless, we may infer that, since we are going to have heterogeneous input types (text features from LSTM and categorical features from Dense layers) with different dimensionalities, we may start with concatenation, since it is able to preserve all information from both branches, allowing the subsequent layers to learn optimal feature interactions.\n",
        "\n",
        "Also, I wrote: \"I would choose this type of model also because yes, we may just use the text of reviews to predict the rating. It is probably the single most important feature. Nonetheless, I find it relevant to add also the other features, such as review_date, properly modified into categories like months or seasons, maybe the number of reviews, the nationality, etc. Hotel-address could actually be interesting if we could get the geospatial data and measure the distances from tourist attractions – but I would leave this behind for this specific task.\"\n",
        "\n",
        "So, I understood that we could use a simpler model, but went for the complex route. Here I already delineated input choices, model structure, and output, where I also already delineated the mathematical functions for outputs and activation and loss functions we would use: \"If we want to predict not only the review type, which would be just a binary classification problem (good or bad), for which I would expect a single neuron with a sigmoid (1/1+e^-x) activation function that tells me whether it is good or bad, we may have another output, where we may instead want to predict the review_score, a float number, for which we may instead expect to need a regression function, no activation function, mean squared error as a loss. In this case we would have these two outputs. Also, as input, we do have multiple inputs, of different types: It is pretty clear that we will need a multi-input, multi-output (two) model. In this case, we clearly cannot use the simple sequential() model from Keras, but we rather will have to use the functional API to build a personalized model. We will process the different types of inputs separately, then use concatenate, process, and then produce the two different outputs."
      ]
    },
    {
      "cell_type": "markdown",
      "metadata": {
        "id": "9KNrFU3t7PMV"
      },
      "source": [
        "For correctly implementing it, the first step is\n",
        "### **DATA LOADING**"
      ]
    },
    {
      "cell_type": "code",
      "execution_count": null,
      "metadata": {
        "colab": {
          "base_uri": "https://localhost:8080/"
        },
        "id": "qO5SOg627PMV",
        "outputId": "54c29b43-a1da-424f-b4de-10c1676ae954"
      },
      "outputs": [
        {
          "name": "stdout",
          "output_type": "stream",
          "text": [
            "Data shape: (13772, 10)\n",
            "Columns: ['Hotel_Address', 'Review_Date', 'Average_Score', 'Hotel_Name', 'Reviewer_Nationality', 'Hotel_number_reviews', 'Reviewer_number_reviews', 'Review_Score', 'Review', 'Review_Type']\n",
            "\n",
            "First few rows:\n",
            "                                           Hotel_Address Review_Date  \\\n",
            "88526  Scarsdale Scarsdale Place Kensington Kensingto...    5/2/2017   \n",
            "42019  53 53 59 Kilburn High Road Maida Vale London C...    8/4/2016   \n",
            "80574  Pelai Pelai 28 Ciutat Vella 08002 Barcelona Spain  11/17/2016   \n",
            "27131  3 3 Place du G n ral Koenig 17th arr 75017 Par...    2/4/2016   \n",
            "63857  Epping Epping Forest 30 Oak Hill London IG8 9N...   7/27/2016   \n",
            "\n",
            "       Average_Score                              Hotel_Name  \\\n",
            "88526            8.1  Copthorne Tara Hotel London Kensington   \n",
            "42019            7.1  BEST WESTERN Maitrise Hotel Maida Vale   \n",
            "80574            8.6                 Catalonia Ramblas 4 Sup   \n",
            "27131            7.1              Hyatt Regency Paris Etoile   \n",
            "63857            7.5         Best Western PLUS Epping Forest   \n",
            "\n",
            "      Reviewer_Nationality  Hotel_number_reviews  Reviewer_number_reviews  \\\n",
            "88526      United Kingdom                   7105                        2   \n",
            "42019      United Kingdom                   1877                        8   \n",
            "80574      United Kingdom                   4276                        2   \n",
            "27131      United Kingdom                   3973                        3   \n",
            "63857      United Kingdom                    587                        7   \n",
            "\n",
            "       Review_Score                                             Review  \\\n",
            "88526           6.7   Expensive room rate that didn t include parki...   \n",
            "42019           5.8   Bedroom in the basement No windows Very small...   \n",
            "80574           6.3                 Room ready for a makeover Location   \n",
            "27131           5.8   Firstly the lady at the check in desk was qui...   \n",
            "63857           3.3   Not being able to park my vehicle due to the ...   \n",
            "\n",
            "      Review_Type  \n",
            "88526  Bad_review  \n",
            "42019  Bad_review  \n",
            "80574  Bad_review  \n",
            "27131  Bad_review  \n",
            "63857  Bad_review  \n"
          ]
        }
      ],
      "source": [
        "\n",
        "# Download the data file\n",
        "url = \"http://my_professor_name/MLDNN/input_data.pkl\"\n",
        "response = requests.get(url)\n",
        "with open('input_data.pkl', 'wb') as f:\n",
        "    f.write(response.content)\n",
        "\n",
        "# Load the data\n",
        "data = pd.read_pickle('input_data.pkl')\n",
        "print(\"Data shape:\", data.shape)\n",
        "print(\"Columns:\", data.columns.tolist())\n",
        "print(\"\\nFirst few rows:\")\n",
        "print(data.head())\n",
        "\n",
        "\n"
      ]
    },
    {
      "cell_type": "markdown",
      "metadata": {
        "id": "806TMZk-7PMW"
      },
      "source": [
        "# **POINT 2a: INPUT DATA PREPROCESSING**\n"
      ]
    },
    {
      "cell_type": "markdown",
      "metadata": {
        "id": "bHp3r4yt7PMW"
      },
      "source": [
        "## **TEXT PREPROCESSING**"
      ]
    },
    {
      "cell_type": "markdown",
      "metadata": {
        "id": "wZ7gR01a7PMW"
      },
      "source": [
        "We do have raw text that needs to be preprocessed. Since the maximum length of words is 400, dimensionality reduction is not needed. I am preprocessing the text with the same exact passages I defined in the exam, specifically:\n",
        "\n",
        "-\tSplit into tokens by whitespace – or we will remove special characters such as, as we saw in laboratories, “—” in the old texts with space\n",
        "-\tRemove punctuations\n",
        "-   Convert to lowercase for consistency\n",
        "-\t“pad” the sequences to make them the same length. ( this will happen later in the code, where I am transforming for the input layer, as neural networks need fixed input size and we cannot feed variable-length sequences directly to Embedding/LSTM layers. )\n",
        "-\tRemoving stopwords, but not too many since we are dealing with sentiment analysis and some could actually be useful, such as negations (not) or adjectives such as \"very\" etc\n",
        "\n",
        "\n",
        "After having defined the preprocessing function, I will apply it to the column, and remove the original one , to not get confused later.\n"
      ]
    },
    {
      "cell_type": "code",
      "execution_count": null,
      "metadata": {
        "id": "xARgp4db7PMW"
      },
      "outputs": [],
      "source": [
        "\n",
        "def get_words(text):\n",
        "    text = text.replace('--', ' ')\n",
        "    text = text.replace('—', ' ')\n",
        "\n",
        "    # split into tokens by white space\n",
        "    words = text.split()\n",
        "\n",
        "    # remove punctuation from each token\n",
        "    table = str.maketrans('', '', string.punctuation)\n",
        "    words = [w.translate(table) for w in words]\n",
        "\n",
        "    # remove remaining tokens that are not alphabetic\n",
        "    words = [word for word in words if word.isalpha()]\n",
        "    # make lower case\n",
        "    words = [word.lower() for word in words]\n",
        "\n",
        "    # Remove stopwords - minimal list for sentiment analysis\n",
        "    minimal_stopwords = {'a', 'an', 'the', 'and', 'or', 'in', 'on', 'at', 'to', 'for', 'of', 'with', 'by'}\n",
        "    words = [word for word in words if word not in minimal_stopwords]\n",
        "\n",
        "    return words\n",
        "\n",
        "\n",
        "\n",
        "data['Review_Processed'] = data['Review'].apply(lambda x: ' '.join(get_words(x)))\n",
        "\n"
      ]
    },
    {
      "cell_type": "code",
      "execution_count": null,
      "metadata": {
        "colab": {
          "base_uri": "https://localhost:8080/",
          "height": 458
        },
        "id": "bfQcUpNb7PMW",
        "outputId": "b7c0f8d1-fbaa-4e2d-d281-c2f2d00c0b51"
      },
      "outputs": [
        {
          "data": {
            "text/html": [
              "<div>\n",
              "<style scoped>\n",
              "    .dataframe tbody tr th:only-of-type {\n",
              "        vertical-align: middle;\n",
              "    }\n",
              "\n",
              "    .dataframe tbody tr th {\n",
              "        vertical-align: top;\n",
              "    }\n",
              "\n",
              "    .dataframe thead th {\n",
              "        text-align: right;\n",
              "    }\n",
              "</style>\n",
              "<table border=\"1\" class=\"dataframe\">\n",
              "  <thead>\n",
              "    <tr style=\"text-align: right;\">\n",
              "      <th></th>\n",
              "      <th>Review_Processed</th>\n",
              "    </tr>\n",
              "  </thead>\n",
              "  <tbody>\n",
              "    <tr>\n",
              "      <th>88526</th>\n",
              "      <td>expensive room rate that didn t include parkin...</td>\n",
              "    </tr>\n",
              "    <tr>\n",
              "      <th>42019</th>\n",
              "      <td>bedroom basement no windows very small room ne...</td>\n",
              "    </tr>\n",
              "    <tr>\n",
              "      <th>80574</th>\n",
              "      <td>room ready makeover location</td>\n",
              "    </tr>\n",
              "    <tr>\n",
              "      <th>27131</th>\n",
              "      <td>firstly lady check desk was quite unfriendly s...</td>\n",
              "    </tr>\n",
              "    <tr>\n",
              "      <th>63857</th>\n",
              "      <td>not being able park my vehicle due staff filli...</td>\n",
              "    </tr>\n",
              "    <tr>\n",
              "      <th>...</th>\n",
              "      <td>...</td>\n",
              "    </tr>\n",
              "    <tr>\n",
              "      <th>11403</th>\n",
              "      <td>cleanliness room temperature location facilities</td>\n",
              "    </tr>\n",
              "    <tr>\n",
              "      <th>18169</th>\n",
              "      <td>cost parking location</td>\n",
              "    </tr>\n",
              "    <tr>\n",
              "      <th>15180</th>\n",
              "      <td>staff was very helpful</td>\n",
              "    </tr>\n",
              "    <tr>\n",
              "      <th>24929</th>\n",
              "      <td>tout home away from home</td>\n",
              "    </tr>\n",
              "    <tr>\n",
              "      <th>61379</th>\n",
              "      <td>there is no business center</td>\n",
              "    </tr>\n",
              "  </tbody>\n",
              "</table>\n",
              "<p>13772 rows × 1 columns</p>\n",
              "</div><br><label><b>dtype:</b> object</label>"
            ],
            "text/plain": [
              "88526    expensive room rate that didn t include parkin...\n",
              "42019    bedroom basement no windows very small room ne...\n",
              "80574                         room ready makeover location\n",
              "27131    firstly lady check desk was quite unfriendly s...\n",
              "63857    not being able park my vehicle due staff filli...\n",
              "                               ...                        \n",
              "11403     cleanliness room temperature location facilities\n",
              "18169                                cost parking location\n",
              "15180                               staff was very helpful\n",
              "24929                             tout home away from home\n",
              "61379                          there is no business center\n",
              "Name: Review_Processed, Length: 13772, dtype: object"
            ]
          },
          "execution_count": 4,
          "metadata": {},
          "output_type": "execute_result"
        }
      ],
      "source": [
        "data['Review_Processed']"
      ]
    },
    {
      "cell_type": "code",
      "execution_count": null,
      "metadata": {
        "id": "rMAjXv8J7PMW"
      },
      "outputs": [],
      "source": [
        "data = data.drop(columns = 'Review')"
      ]
    },
    {
      "cell_type": "markdown",
      "metadata": {
        "id": "02lIKM5e7PMW"
      },
      "source": [
        "## **DATE PREPROCESSING**\n",
        "\n"
      ]
    },
    {
      "cell_type": "markdown",
      "metadata": {
        "id": "HgVWsreBAL-U"
      },
      "source": [
        "I start by inspecting the column"
      ]
    },
    {
      "cell_type": "code",
      "execution_count": null,
      "metadata": {
        "colab": {
          "base_uri": "https://localhost:8080/",
          "height": 458
        },
        "id": "VPC8KrvP7PMW",
        "outputId": "ab4038f6-6ef3-4c4b-f59a-1ae8e0193cab"
      },
      "outputs": [
        {
          "data": {
            "text/html": [
              "<div>\n",
              "<style scoped>\n",
              "    .dataframe tbody tr th:only-of-type {\n",
              "        vertical-align: middle;\n",
              "    }\n",
              "\n",
              "    .dataframe tbody tr th {\n",
              "        vertical-align: top;\n",
              "    }\n",
              "\n",
              "    .dataframe thead th {\n",
              "        text-align: right;\n",
              "    }\n",
              "</style>\n",
              "<table border=\"1\" class=\"dataframe\">\n",
              "  <thead>\n",
              "    <tr style=\"text-align: right;\">\n",
              "      <th></th>\n",
              "      <th>Review_Date</th>\n",
              "    </tr>\n",
              "  </thead>\n",
              "  <tbody>\n",
              "    <tr>\n",
              "      <th>88526</th>\n",
              "      <td>5/2/2017</td>\n",
              "    </tr>\n",
              "    <tr>\n",
              "      <th>42019</th>\n",
              "      <td>8/4/2016</td>\n",
              "    </tr>\n",
              "    <tr>\n",
              "      <th>80574</th>\n",
              "      <td>11/17/2016</td>\n",
              "    </tr>\n",
              "    <tr>\n",
              "      <th>27131</th>\n",
              "      <td>2/4/2016</td>\n",
              "    </tr>\n",
              "    <tr>\n",
              "      <th>63857</th>\n",
              "      <td>7/27/2016</td>\n",
              "    </tr>\n",
              "    <tr>\n",
              "      <th>...</th>\n",
              "      <td>...</td>\n",
              "    </tr>\n",
              "    <tr>\n",
              "      <th>11403</th>\n",
              "      <td>3/9/2016</td>\n",
              "    </tr>\n",
              "    <tr>\n",
              "      <th>18169</th>\n",
              "      <td>9/1/2015</td>\n",
              "    </tr>\n",
              "    <tr>\n",
              "      <th>15180</th>\n",
              "      <td>9/4/2016</td>\n",
              "    </tr>\n",
              "    <tr>\n",
              "      <th>24929</th>\n",
              "      <td>10/6/2015</td>\n",
              "    </tr>\n",
              "    <tr>\n",
              "      <th>61379</th>\n",
              "      <td>4/9/2016</td>\n",
              "    </tr>\n",
              "  </tbody>\n",
              "</table>\n",
              "<p>13772 rows × 1 columns</p>\n",
              "</div><br><label><b>dtype:</b> object</label>"
            ],
            "text/plain": [
              "88526      5/2/2017\n",
              "42019      8/4/2016\n",
              "80574    11/17/2016\n",
              "27131      2/4/2016\n",
              "63857     7/27/2016\n",
              "            ...    \n",
              "11403      3/9/2016\n",
              "18169      9/1/2015\n",
              "15180      9/4/2016\n",
              "24929     10/6/2015\n",
              "61379      4/9/2016\n",
              "Name: Review_Date, Length: 13772, dtype: object"
            ]
          },
          "execution_count": 6,
          "metadata": {},
          "output_type": "execute_result"
        }
      ],
      "source": [
        "data['Review_Date']"
      ]
    },
    {
      "cell_type": "markdown",
      "metadata": {
        "id": "T4TRofV17PMW"
      },
      "source": [
        "the dates are in M/D/YYYY format (like 5/2/2017, 8/4/2016)"
      ]
    },
    {
      "cell_type": "markdown",
      "metadata": {
        "id": "SuZoG67w7PMW"
      },
      "source": [
        "\n",
        "As I stated in the exam, I need to preprocess DATE values by transforming them into categorical data.\n",
        "As I stated in the exam, I have two main options: \n",
        "- (1) one-hot encode all 12 months, or \n",
        "- (2) group into fewer categories like seasons.\n",
        "\n",
        "I chose the SEASONS approach (4 categories instead of 12) because:\n",
        "- Reduces dimensionality while preserving meaningful patterns\n",
        "- Hotel reviews likely have seasonal trends (summer vacations, winter holidays)\n",
        "\n",
        "\n",
        "We saw that the date format is MM/DD/YYYY, so, as I stated in the exam, I use regex to extract the first 1-2 digits (month).\n",
        "Following my exam reasoning about \"2 digits + 2 + 2\", I extract the month portion using regex pattern r'^(\\d{1,2})/' to capture 1 or 2 digits before the first slash.\n",
        "\n",
        "I then convert months to seasons and apply one-hot encoding, which creates binary features, suitable for neural networks (as opposed to keeping integers, which could imply ordinality).\n",
        "\n",
        "I finally remove the original column in this dataframe copy to not get confused when selecting columns when building the model for training.\n"
      ]
    },
    {
      "cell_type": "code",
      "execution_count": null,
      "metadata": {
        "colab": {
          "base_uri": "https://localhost:8080/"
        },
        "id": "SOJLK_SC7PMW",
        "outputId": "c9487374-4414-4cef-ca77-eb5de8915022"
      },
      "outputs": [
        {
          "name": "stdout",
          "output_type": "stream",
          "text": [
            "Date preprocessing complete!\n",
            "Created 4 season columns: ['season_Fall', 'season_Spring', 'season_Summer', 'season_Winter']\n",
            "DataFrame shape after adding seasons: (13772, 14)\n"
          ]
        }
      ],
      "source": [
        "\n",
        "def preprocess_dates(review_dates):\n",
        "    # Extract month using regex\n",
        "    months = review_dates.str.extract(r'^(\\d{1,2})/', expand=False).astype(int)\n",
        "\n",
        "    # Convert to seasons\n",
        "    def month_to_season(month):\n",
        "        if month in [12, 1, 2]:\n",
        "            return 'Winter'\n",
        "        elif month in [3, 4, 5]:\n",
        "            return 'Spring'\n",
        "        elif month in [6, 7, 8]:\n",
        "            return 'Summer'\n",
        "        else:  # [9, 10, 11]\n",
        "            return 'Fall'\n",
        "\n",
        "    seasons = months.map(month_to_season)\n",
        "\n",
        "    # One-hot encode seasons\n",
        "    season_dummies = pd.get_dummies(seasons, prefix='season')\n",
        "\n",
        "    return season_dummies\n",
        "\n",
        "\n",
        "# Step 1: Apply function to the Review_Date column\n",
        "season_encoded = preprocess_dates(data['Review_Date'])\n",
        "\n",
        "print(\"Date preprocessing complete!\")\n",
        "print(f\"Created {len(season_encoded.columns)} season columns: {season_encoded.columns.tolist()}\")\n",
        "\n",
        "# Step 2: Add the season columns to original dataframe\n",
        "data = pd.concat([data, season_encoded], axis=1)\n",
        "\n",
        "print(f\"DataFrame shape after adding seasons: {data.shape}\")\n"
      ]
    },
    {
      "cell_type": "code",
      "execution_count": null,
      "metadata": {
        "id": "T1JX-o6t7PMX"
      },
      "outputs": [],
      "source": [
        "data = data.drop(columns= 'Review_Date')\n"
      ]
    },
    {
      "cell_type": "markdown",
      "metadata": {
        "id": "TZCcwC9r7PMX"
      },
      "source": [
        "## **NUMBER OF REVIEWS PREPROCESSING**"
      ]
    },
    {
      "cell_type": "markdown",
      "metadata": {
        "id": "Y-fdgRQY7PMX"
      },
      "source": [
        "During the exam, I though about including also the the total number of reviews of the hotel, which may indicate how popular it is. Rather than keeping the raw numbers of reviews, I thought about creating brackets (categories) of popularity levels. Since I couldn't know what were the statistics of the dataset, I wrote hypotetic numbers such as \" Ex [0, 200] [200, 400] etc.\"\n",
        "\n",
        "Now that I do have statistics, I opt for a more data-driven approach with quartiles to ensure balanced categories. The following code creates 4 equal-sized groups based on the actual data distribution and captures the relative popularity concept (Low/Medium-Low/Medium-High/High popularity)\n",
        "\n",
        "Therefore, the following functions:\n",
        "- analyze_quartiles: creates quartiles of the distribution\n",
        "- create_quartile_brackets_onehot(): Creates a categorization function that maps review counts to quartile-based popularity labels\n",
        "- preprocess_review_count_quartiles(): The returned function that converts any review count to 'Low', 'Medium-Low', 'Medium-High', or 'High'\n",
        "\n",
        "I then apply the function to the column number_of_reviews, one-hot encode, and remove the original column.\n"
      ]
    },
    {
      "cell_type": "code",
      "execution_count": null,
      "metadata": {
        "colab": {
          "base_uri": "https://localhost:8080/",
          "height": 458
        },
        "id": "jFaHDl0Q7PMX",
        "outputId": "a8a581bf-bc61-4b7a-ac20-34fa0fcc61b7"
      },
      "outputs": [
        {
          "data": {
            "text/html": [
              "<div>\n",
              "<style scoped>\n",
              "    .dataframe tbody tr th:only-of-type {\n",
              "        vertical-align: middle;\n",
              "    }\n",
              "\n",
              "    .dataframe tbody tr th {\n",
              "        vertical-align: top;\n",
              "    }\n",
              "\n",
              "    .dataframe thead th {\n",
              "        text-align: right;\n",
              "    }\n",
              "</style>\n",
              "<table border=\"1\" class=\"dataframe\">\n",
              "  <thead>\n",
              "    <tr style=\"text-align: right;\">\n",
              "      <th></th>\n",
              "      <th>Hotel_number_reviews</th>\n",
              "    </tr>\n",
              "  </thead>\n",
              "  <tbody>\n",
              "    <tr>\n",
              "      <th>88526</th>\n",
              "      <td>7105</td>\n",
              "    </tr>\n",
              "    <tr>\n",
              "      <th>42019</th>\n",
              "      <td>1877</td>\n",
              "    </tr>\n",
              "    <tr>\n",
              "      <th>80574</th>\n",
              "      <td>4276</td>\n",
              "    </tr>\n",
              "    <tr>\n",
              "      <th>27131</th>\n",
              "      <td>3973</td>\n",
              "    </tr>\n",
              "    <tr>\n",
              "      <th>63857</th>\n",
              "      <td>587</td>\n",
              "    </tr>\n",
              "    <tr>\n",
              "      <th>...</th>\n",
              "      <td>...</td>\n",
              "    </tr>\n",
              "    <tr>\n",
              "      <th>11403</th>\n",
              "      <td>2405</td>\n",
              "    </tr>\n",
              "    <tr>\n",
              "      <th>18169</th>\n",
              "      <td>3583</td>\n",
              "    </tr>\n",
              "    <tr>\n",
              "      <th>15180</th>\n",
              "      <td>4684</td>\n",
              "    </tr>\n",
              "    <tr>\n",
              "      <th>24929</th>\n",
              "      <td>245</td>\n",
              "    </tr>\n",
              "    <tr>\n",
              "      <th>61379</th>\n",
              "      <td>4686</td>\n",
              "    </tr>\n",
              "  </tbody>\n",
              "</table>\n",
              "<p>13772 rows × 1 columns</p>\n",
              "</div><br><label><b>dtype:</b> int64</label>"
            ],
            "text/plain": [
              "88526    7105\n",
              "42019    1877\n",
              "80574    4276\n",
              "27131    3973\n",
              "63857     587\n",
              "         ... \n",
              "11403    2405\n",
              "18169    3583\n",
              "15180    4684\n",
              "24929     245\n",
              "61379    4686\n",
              "Name: Hotel_number_reviews, Length: 13772, dtype: int64"
            ]
          },
          "execution_count": 9,
          "metadata": {},
          "output_type": "execute_result"
        }
      ],
      "source": [
        "data['Hotel_number_reviews']"
      ]
    },
    {
      "cell_type": "code",
      "execution_count": null,
      "metadata": {
        "id": "-XWZ-0N07PMX"
      },
      "outputs": [],
      "source": [
        "def analyze_quartiles(review_counts):\n",
        "\n",
        "\n",
        "    print(\"=== QUARTILE ANALYSIS ===\")\n",
        "    print(f\"Total hotels: {len(review_counts)}\")\n",
        "    print(f\"Missing values: {review_counts.isna().sum()}\")\n",
        "    print()\n",
        "\n",
        "    # Calculate quartiles\n",
        "    q25 = review_counts.quantile(0.25)\n",
        "    q50 = review_counts.quantile(0.50)  # median\n",
        "    q75 = review_counts.quantile(0.75)\n",
        "\n",
        "    print(\"Quartile Breakpoints:\")\n",
        "    print(f\"25th percentile: {q25:.0f}\")\n",
        "    print(f\"50th percentile: {q50:.0f}\")\n",
        "    print(f\"75th percentile: {q75:.0f}\")\n",
        "    print()\n",
        "\n",
        "    print(\"Suggested Categories:\")\n",
        "    print(f\"Low (Q1):        [0 - {q25:.0f}]\")\n",
        "    print(f\"Medium-Low (Q2): [{q25:.0f} - {q50:.0f}]\")\n",
        "    print(f\"Medium-High (Q3): [{q50:.0f} - {q75:.0f}]\")\n",
        "    print(f\"High (Q4):       [{q75:.0f}+]\")\n",
        "\n",
        "    return q25, q50, q75\n",
        "\n",
        "\n"
      ]
    },
    {
      "cell_type": "code",
      "execution_count": null,
      "metadata": {
        "colab": {
          "base_uri": "https://localhost:8080/"
        },
        "id": "zth4qjvx7PMX",
        "outputId": "96a7591d-387a-45c2-f299-fa96e4fdff01"
      },
      "outputs": [
        {
          "name": "stdout",
          "output_type": "stream",
          "text": [
            "=== QUARTILE ANALYSIS ===\n",
            "Total hotels: 13772\n",
            "Missing values: 0\n",
            "\n",
            "Quartile Breakpoints:\n",
            "25th percentile: 1200\n",
            "50th percentile: 2215\n",
            "75th percentile: 3802\n",
            "\n",
            "Suggested Categories:\n",
            "Low (Q1):        [0 - 1200]\n",
            "Medium-Low (Q2): [1200 - 2215]\n",
            "Medium-High (Q3): [2215 - 3802]\n",
            "High (Q4):       [3802+]\n",
            "\n",
            "Created hotel popularity columns: ['hotel_pop_High', 'hotel_pop_Low', 'hotel_pop_Medium-High', 'hotel_pop_Medium-Low']\n",
            "Hotel popularity distribution:\n",
            "Hotel_popularity_category\n",
            "Medium-Low     3449\n",
            "Low            3445\n",
            "Medium-High    3443\n",
            "High           3435\n",
            "Name: count, dtype: int64\n"
          ]
        }
      ],
      "source": [
        "def create_quartile_brackets_onehot(review_counts):\n",
        "    q25, q50, q75 = analyze_quartiles(review_counts)\n",
        "\n",
        "    def preprocess_review_count_quartiles(count):\n",
        "        if pd.isna(count):\n",
        "            return 'Low'  # Default category for missing values\n",
        "        count = int(count)\n",
        "\n",
        "        if count <= q25:\n",
        "            return 'Low'         # Q1\n",
        "        elif count <= q50:\n",
        "            return 'Medium-Low'  # Q2\n",
        "        elif count <= q75:\n",
        "            return 'Medium-High' # Q3\n",
        "        else:\n",
        "            return 'High'        # Q4\n",
        "\n",
        "    return preprocess_review_count_quartiles\n",
        "\n",
        "# Usage:\n",
        "review_counts = data['Hotel_number_reviews']\n",
        "\n",
        "# Create the quartile function\n",
        "quartile_func = create_quartile_brackets_onehot(review_counts)\n",
        "\n",
        "# Apply to create categorical labels\n",
        "data['Hotel_popularity_category'] = data['Hotel_number_reviews'].apply(quartile_func)\n",
        "\n",
        "# Convert directly to one-hot encoding\n",
        "hotel_popularity_encoded = pd.get_dummies(data['Hotel_popularity_category'], prefix='hotel_pop')\n",
        "\n",
        "print(f\"\\nCreated hotel popularity columns: {hotel_popularity_encoded.columns.tolist()}\")\n",
        "print(f\"Hotel popularity distribution:\")\n",
        "print(data['Hotel_popularity_category'].value_counts())\n",
        "\n",
        "# Add to dataframe\n",
        "data = pd.concat([data, hotel_popularity_encoded], axis=1)\n",
        "\n",
        "# Clean up - remove original columns\n",
        "data = data.drop(columns=['Hotel_number_reviews', 'Hotel_popularity_category'])\n",
        "\n",
        "\n"
      ]
    },
    {
      "cell_type": "markdown",
      "metadata": {
        "id": "EiNLhgOm7PMX"
      },
      "source": [
        "we now have the column \"hotel_popularity_encoded\" rather than the exact number of reviews. it is defined by quartiles\n",
        "\n",
        "it is\n",
        "Low (Q1):        [0 - 1200]\n",
        "Medium-Low (Q2): [1200 - 2215]\n",
        "Medium-High (Q3): [2215 - 3802]\n",
        "High (Q4):       [3802+]\n"
      ]
    },
    {
      "cell_type": "markdown",
      "metadata": {
        "id": "GAESS4pc7PMX"
      },
      "source": [
        "## **NATIONALITY PREPROCESSING**\n",
        "\n",
        "During the exam, I stated that I would have kept the nationality feature, since maybe clients from different nationality may give different values as reviews according to how strict they culturally are. I stated that it couldn't stay as a string and we would rather need to transform these into one-hot endoded vectors, each representing a single nationality (or continent).\n",
        "\n",
        "\n",
        "During the exam, I clearly couldn't know how many unique nationalities were present, in order to decide whether to use the single nationalities or rather group them by continents.\n",
        "Now, we can see it . the following code first sees how many nationalities there are, and corresponding distribution.\n",
        "\n",
        "since there are 148 unique nationalities, which are a lot, I am going to group them by continent, yet leaving UK as separate. Since UK,  With 45.32% of all reviews (6,241 out of 13,772), is so dominant that it deserves its own category, I therefore created the following categories:\n",
        "\n",
        "- United Kingdom (45.32% - 6,241 reviews)\n",
        "- Europe (excluding UK) (~8-10% combined)\n",
        "- North America (USA + Canada = ~6.34%)\n",
        "- Middle East (Saudi Arabia + UAE + others = ~6-7%)\n",
        "- Asia\n",
        "- Oceania (Australia + others = ~3.5%)\n",
        "- Other (smaller regions)\n",
        "\n"
      ]
    },
    {
      "cell_type": "code",
      "execution_count": null,
      "metadata": {
        "colab": {
          "base_uri": "https://localhost:8080/"
        },
        "id": "Zwf2GTT87PMX",
        "outputId": "7cd757d2-b2f3-453e-bf35-4c4f2a7ccb89"
      },
      "outputs": [
        {
          "name": "stdout",
          "output_type": "stream",
          "text": [
            "Reviewer_Nationality\n",
            "United Kingdom               6241\n",
            "United States of America      692\n",
            "Australia                     458\n",
            "Saudi Arabia                  396\n",
            "United Arab Emirates          396\n",
            "                             ... \n",
            "St Pierre and Miquelon          1\n",
            "British Virgin Islands          1\n",
            "Abkhazia Georgia                1\n",
            "Vanuatu                         1\n",
            "Maldives                        1\n",
            "Name: count, Length: 148, dtype: int64\n",
            "Unique nationalities: 148\n"
          ]
        }
      ],
      "source": [
        "# See nationality distribution\n",
        "print(data['Reviewer_Nationality'].value_counts())\n",
        "print(f\"Unique nationalities: {data['Reviewer_Nationality'].nunique()}\")"
      ]
    },
    {
      "cell_type": "markdown",
      "metadata": {
        "id": "Krk9KA5w7PMX"
      },
      "source": [
        "we do have 148 unique nationalities which is definitely a lot"
      ]
    },
    {
      "cell_type": "code",
      "execution_count": null,
      "metadata": {
        "colab": {
          "base_uri": "https://localhost:8080/"
        },
        "id": "8Zls1juw7PMX",
        "outputId": "dabbeb24-113f-4bd2-e139-6971b386b2df"
      },
      "outputs": [
        {
          "name": "stdout",
          "output_type": "stream",
          "text": [
            "[' United Kingdom ' ' Netherlands ' ' Switzerland ' ' Canada '\n",
            " ' Saudi Arabia ' ' United States of America ' ' Qatar ' ' India '\n",
            " ' Ireland ' ' United Arab Emirates ' ' China ' ' Germany ' ' Turkey '\n",
            " ' Spain ' ' Poland ' ' Israel ' ' Sri Lanka ' ' Belgium ' ' Thailand '\n",
            " ' Greece ' ' France ' ' Kuwait ' ' Singapore ' ' Romania ' ' Bulgaria '\n",
            " ' Australia ' ' Italy ' ' Oman ' ' Kazakhstan ' ' Latvia ' ' Portugal '\n",
            " ' Japan ' ' Denmark ' ' Hong Kong ' ' Slovenia ' ' Czech Republic '\n",
            " ' Ukraine ' ' South Africa ' ' Philippines ' ' Indonesia ' ' Russia '\n",
            " ' Hungary ' ' Brazil ' ' Azerbaijan ' ' ' ' Lebanon ' ' Finland '\n",
            " ' Slovakia ' ' South Korea ' ' Serbia ' ' Egypt ' ' Jersey '\n",
            " ' Isle of Man ' ' Montenegro ' ' Bahrain ' ' Norway ' ' Croatia '\n",
            " ' Sweden ' ' Iceland ' ' Nigeria ' ' Belarus ' ' Iran ' ' Luxembourg '\n",
            " ' Kenya ' ' Morocco ' ' New Zealand ' ' Panama ' ' Pakistan ' ' Cyprus '\n",
            " ' Ecuador ' ' Jordan ' ' Estonia ' ' Costa Rica ' ' Iraq ' ' Mauritius '\n",
            " ' Austria ' ' Dominican Republic ' ' Gibraltar ' ' Malaysia ' ' Malta '\n",
            " ' Guernsey ' ' Trinidad and Tobago ' ' Monaco ' ' Bermuda '\n",
            " ' Palestinian Territory ' ' Andorra ' ' Peru ' ' Angola ' ' Bahamas '\n",
            " ' Ivory Coast ' ' Lithuania ' ' Libya ' ' Argentina ' ' Georgia '\n",
            " ' Cameroon ' ' Mexico ' ' Colombia ' ' Macau ' ' Vietnam '\n",
            " ' United States Minor Outlying Islands ' ' Kosovo ' ' St Maarten '\n",
            " ' Taiwan ' ' Bosnia and Herzegovina ' ' Bangladesh ' ' Puerto Rico '\n",
            " ' Sudan ' ' Chile ' ' Ghana ' ' Cura ao ' ' Macedonia ' ' Venezuela '\n",
            " ' Albania ' ' Ethiopia ' ' Syria ' ' Madagascar ' ' Nicaragua ' ' Gabon '\n",
            " ' Jamaica ' ' Suriname ' ' Mongolia ' ' Paraguay ' ' Tunisia '\n",
            " ' Namibia ' ' Guatemala ' ' Moldova ' ' Algeria ' ' Botswana ' ' Laos '\n",
            " ' Turkmenistan ' ' Faroe Islands ' ' Cambodia ' ' El Salvador '\n",
            " ' U S Virgin Islands ' ' French Polynesia ' ' Honduras ' ' Mozambique '\n",
            " ' Kyrgyzstan ' ' Togo ' ' Rwanda ' ' Brunei ' ' Uruguay ' ' Guadeloupe '\n",
            " ' St Pierre and Miquelon ' ' British Virgin Islands '\n",
            " ' Abkhazia Georgia ' ' Vanuatu ' ' Maldives ']\n"
          ]
        }
      ],
      "source": [
        "print(data['Reviewer_Nationality'].unique())"
      ]
    },
    {
      "cell_type": "markdown",
      "metadata": {
        "id": "mYeAYGXT7PMX"
      },
      "source": [
        "this function creates a comprehensive analysis of nationality distribution to inform the preprocessing decision. It reveals:\n",
        "- 148 unique nationalities (too many for effective one-hot encoding)\n",
        "- Severe data imbalance (UK dominates with 45.32% of reviews)\n",
        "- High sparsity (many countries have very few reviews)\n"
      ]
    },
    {
      "cell_type": "code",
      "execution_count": null,
      "metadata": {
        "colab": {
          "base_uri": "https://localhost:8080/"
        },
        "id": "4iJaK89Z7PMX",
        "outputId": "4cd2bf6d-1e50-4257-98c2-cc5fb2da9f4a"
      },
      "outputs": [
        {
          "name": "stdout",
          "output_type": "stream",
          "text": [
            "======================================================================\n",
            "COMPLETE NATIONALITY ANALYSIS\n",
            "======================================================================\n",
            "Total Reviews: 13,772\n",
            "Unique Nationalities: 148\n",
            "======================================================================\n",
            "  # Nationality                            Count Percentage\n",
            "----------------------------------------------------------------------\n",
            "  1                                           14      0.10%\n",
            "  2  Abkhazia Georgia                          1      0.01%\n",
            "  3  Albania                                   4      0.03%\n",
            "  4  Algeria                                   3      0.02%\n",
            "  5  Andorra                                   2      0.01%\n",
            "  6  Angola                                    3      0.02%\n",
            "  7  Argentina                                11      0.08%\n",
            "  8  Australia                               458      3.33%\n",
            "  9  Austria                                  56      0.41%\n",
            " 10  Azerbaijan                               11      0.08%\n",
            " 11  Bahamas                                   2      0.01%\n",
            " 12  Bahrain                                  62      0.45%\n",
            " 13  Bangladesh                                7      0.05%\n",
            " 14  Belarus                                   6      0.04%\n",
            " 15  Belgium                                 148      1.07%\n",
            " 16  Bermuda                                   3      0.02%\n",
            " 17  Bosnia and Herzegovina                   12      0.09%\n",
            " 18  Botswana                                  1      0.01%\n",
            " 19  Brazil                                   52      0.38%\n",
            " 20  British Virgin Islands                    1      0.01%\n",
            " 21  Brunei                                    2      0.01%\n",
            " 22  Bulgaria                                 26      0.19%\n",
            " 23  Cambodia                                  1      0.01%\n",
            " 24  Cameroon                                  1      0.01%\n",
            " 25  Canada                                  182      1.32%\n",
            " 26  Chile                                     9      0.07%\n",
            " 27  China                                   109      0.79%\n",
            " 28  Colombia                                 15      0.11%\n",
            " 29  Costa Rica                                3      0.02%\n",
            " 30  Croatia                                  43      0.31%\n",
            " 31  Cura ao                                   3      0.02%\n",
            " 32  Cyprus                                   38      0.28%\n",
            " 33  Czech Republic                           54      0.39%\n",
            " 34  Denmark                                  37      0.27%\n",
            " 35  Dominican Republic                        2      0.01%\n",
            " 36  Ecuador                                   2      0.01%\n",
            " 37  Egypt                                    93      0.68%\n",
            " 38  El Salvador                               2      0.01%\n",
            " 39  Estonia                                  17      0.12%\n",
            " 40  Ethiopia                                  1      0.01%\n",
            " 41  Faroe Islands                             1      0.01%\n",
            " 42  Finland                                  36      0.26%\n",
            " 43  France                                  221      1.60%\n",
            " 44  French Polynesia                          1      0.01%\n",
            " 45  Gabon                                     1      0.01%\n",
            " 46  Georgia                                  11      0.08%\n",
            " 47  Germany                                 204      1.48%\n",
            " 48  Ghana                                     2      0.01%\n",
            " 49  Gibraltar                                10      0.07%\n",
            " 50  Greece                                   97      0.70%\n",
            " 51  Guadeloupe                                1      0.01%\n",
            " 52  Guatemala                                 2      0.01%\n",
            " 53  Guernsey                                 13      0.09%\n",
            " 54  Honduras                                  1      0.01%\n",
            " 55  Hong Kong                                87      0.63%\n",
            " 56  Hungary                                  43      0.31%\n",
            " 57  Iceland                                  24      0.17%\n",
            " 58  India                                   132      0.96%\n",
            " 59  Indonesia                                49      0.36%\n",
            " 60  Iran                                     51      0.37%\n",
            " 61  Iraq                                     14      0.10%\n",
            " 62  Ireland                                 371      2.69%\n",
            " 63  Isle of Man                               7      0.05%\n",
            " 64  Israel                                  167      1.21%\n",
            " 65  Italy                                   187      1.36%\n",
            " 66  Ivory Coast                               3      0.02%\n",
            " 67  Jamaica                                   1      0.01%\n",
            " 68  Japan                                    30      0.22%\n",
            " 69  Jersey                                   23      0.17%\n",
            " 70  Jordan                                   36      0.26%\n",
            " 71  Kazakhstan                               16      0.12%\n",
            " 72  Kenya                                    10      0.07%\n",
            " 73  Kosovo                                    5      0.04%\n",
            " 74  Kuwait                                  209      1.52%\n",
            " 75  Kyrgyzstan                                1      0.01%\n",
            " 76  Laos                                      1      0.01%\n",
            " 77  Latvia                                   16      0.12%\n",
            " 78  Lebanon                                  93      0.68%\n",
            " 79  Libya                                     6      0.04%\n",
            " 80  Lithuania                                15      0.11%\n",
            " 81  Luxembourg                               38      0.28%\n",
            " 82  Macau                                     5      0.04%\n",
            " 83  Macedonia                                 9      0.07%\n",
            " 84  Madagascar                                3      0.02%\n",
            " 85  Malaysia                                 59      0.43%\n",
            " 86  Maldives                                  1      0.01%\n",
            " 87  Malta                                    34      0.25%\n",
            " 88  Mauritius                                10      0.07%\n",
            " 89  Mexico                                   18      0.13%\n",
            " 90  Moldova                                   1      0.01%\n",
            " 91  Monaco                                    7      0.05%\n",
            " 92  Mongolia                                  3      0.02%\n",
            " 93  Montenegro                               13      0.09%\n",
            " 94  Morocco                                   9      0.07%\n",
            " 95  Mozambique                                1      0.01%\n",
            " 96  Namibia                                   3      0.02%\n",
            " 97  Netherlands                             241      1.75%\n",
            " 98  New Zealand                              77      0.56%\n",
            " 99  Nicaragua                                 3      0.02%\n",
            "100  Nigeria                                  33      0.24%\n",
            "101  Norway                                   68      0.49%\n",
            "102  Oman                                     42      0.30%\n",
            "103  Pakistan                                 42      0.30%\n",
            "104  Palestinian Territory                     1      0.01%\n",
            "105  Panama                                    3      0.02%\n",
            "106  Paraguay                                  1      0.01%\n",
            "107  Peru                                      5      0.04%\n",
            "108  Philippines                              35      0.25%\n",
            "109  Poland                                   72      0.52%\n",
            "110  Portugal                                 62      0.45%\n",
            "111  Puerto Rico                               5      0.04%\n",
            "112  Qatar                                   108      0.78%\n",
            "113  Romania                                 132      0.96%\n",
            "114  Russia                                   94      0.68%\n",
            "115  Rwanda                                    2      0.01%\n",
            "116  Saudi Arabia                            396      2.88%\n",
            "117  Serbia                                   31      0.23%\n",
            "118  Singapore                                85      0.62%\n",
            "119  Slovakia                                 30      0.22%\n",
            "120  Slovenia                                 18      0.13%\n",
            "121  South Africa                            102      0.74%\n",
            "122  South Korea                              28      0.20%\n",
            "123  Spain                                   128      0.93%\n",
            "124  Sri Lanka                                10      0.07%\n",
            "125  St Maarten                                2      0.01%\n",
            "126  St Pierre and Miquelon                    1      0.01%\n",
            "127  Sudan                                     1      0.01%\n",
            "128  Suriname                                  1      0.01%\n",
            "129  Sweden                                   83      0.60%\n",
            "130  Switzerland                             267      1.94%\n",
            "131  Syria                                     4      0.03%\n",
            "132  Taiwan                                   28      0.20%\n",
            "133  Thailand                                 78      0.57%\n",
            "134  Togo                                      1      0.01%\n",
            "135  Trinidad and Tobago                       5      0.04%\n",
            "136  Tunisia                                   3      0.02%\n",
            "137  Turkey                                  164      1.19%\n",
            "138  Turkmenistan                              1      0.01%\n",
            "139  U S Virgin Islands                        1      0.01%\n",
            "140  Ukraine                                  23      0.17%\n",
            "141  United Arab Emirates                    396      2.88%\n",
            "142  United Kingdom                        6,241     45.32%\n",
            "143  United States Minor Outlying Islands         5      0.04%\n",
            "144  United States of America                692      5.02%\n",
            "145  Uruguay                                   2      0.01%\n",
            "146  Vanuatu                                   1      0.01%\n",
            "147  Venezuela                                 2      0.01%\n",
            "148  Vietnam                                   7      0.05%\n",
            "======================================================================\n",
            "\n",
            "SUMMARY STATISTICS:\n",
            "Most common:   (14 reviews, 0.10%)\n",
            "\n",
            "TOP 5 BY COUNT:\n",
            "   United Kingdom : 6,241 (45.32%)\n",
            "   United States of America : 692 (5.02%)\n",
            "   Australia : 458 (3.33%)\n",
            "   Saudi Arabia : 396 (2.88%)\n",
            "   United Arab Emirates : 396 (2.88%)\n",
            "\n",
            "Countries with only 1 review: 26\n",
            "Countries with <10 reviews: 67 (45.3% of all countries)\n"
          ]
        }
      ],
      "source": [
        "def analyze_all_nationalities(data):\n",
        "\n",
        "    # Get nationality counts\n",
        "    nationality_counts = data['Reviewer_Nationality'].value_counts()\n",
        "    total_reviews = len(data)\n",
        "\n",
        "    # Create a comprehensive dataframe\n",
        "    nationality_df = pd.DataFrame({\n",
        "        'Nationality': nationality_counts.index,\n",
        "        'Count': nationality_counts.values,\n",
        "        'Percentage': (nationality_counts.values / total_reviews * 100).round(2)\n",
        "    })\n",
        "\n",
        "    # Sort alphabetically by nationality name\n",
        "    nationality_df = nationality_df.sort_values('Nationality').reset_index(drop=True)\n",
        "\n",
        "    print(\"=\" * 70)\n",
        "    print(\"COMPLETE NATIONALITY ANALYSIS\")\n",
        "    print(\"=\" * 70)\n",
        "    print(f\"Total Reviews: {total_reviews:,}\")\n",
        "    print(f\"Unique Nationalities: {len(nationality_df)}\")\n",
        "    print(\"=\" * 70)\n",
        "\n",
        "    # Print header\n",
        "    print(f\"{'#':>3} {'Nationality':<35} {'Count':>8} {'Percentage':>10}\")\n",
        "    print(\"-\" * 70)\n",
        "\n",
        "    # Print all nationalities\n",
        "    for idx, row in nationality_df.iterrows():\n",
        "        print(f\"{idx+1:>3} {row['Nationality']:<35} {row['Count']:>8,} {row['Percentage']:>9.2f}%\")\n",
        "\n",
        "    print(\"=\" * 70)\n",
        "\n",
        "    # Summary statistics\n",
        "    print(\"\\nSUMMARY STATISTICS:\")\n",
        "    print(f\"Most common: {nationality_df.iloc[0]['Nationality']} ({nationality_df.iloc[0]['Count']:,} reviews, {nationality_df.iloc[0]['Percentage']:.2f}%)\")\n",
        "\n",
        "    # Find top 5 by count\n",
        "    top_5 = nationality_df.nlargest(5, 'Count')\n",
        "    print(f\"\\nTOP 5 BY COUNT:\")\n",
        "    for idx, row in top_5.iterrows():\n",
        "        print(f\"  {row['Nationality']}: {row['Count']:,} ({row['Percentage']:.2f}%)\")\n",
        "\n",
        "    # Find countries with only 1 review\n",
        "    single_reviews = nationality_df[nationality_df['Count'] == 1]\n",
        "    print(f\"\\nCountries with only 1 review: {len(single_reviews)}\")\n",
        "\n",
        "    # Countries with <10 reviews\n",
        "    rare_countries = nationality_df[nationality_df['Count'] < 10]\n",
        "    print(f\"Countries with <10 reviews: {len(rare_countries)} ({(len(rare_countries)/len(nationality_df)*100):.1f}% of all countries)\")\n",
        "\n",
        "    return nationality_df\n",
        "\n",
        "def save_nationality_list(nationality_df, filename='nationality_list.txt'):\n",
        "\n",
        "    with open(filename, 'w', encoding='utf-8') as f:\n",
        "        f.write(\"Complete Nationality List\\n\")\n",
        "        f.write(\"=\" * 50 + \"\\n\\n\")\n",
        "\n",
        "        for idx, row in nationality_df.iterrows():\n",
        "            f.write(f\"{idx+1:3d}. {row['Nationality']:<35} {row['Count']:>6,} ({row['Percentage']:>5.2f}%)\\n\")\n",
        "\n",
        "    print(f\"\\nList saved to {filename}\")\n",
        "\n",
        "\n",
        "nationality_analysis = analyze_all_nationalities(data)\n"
      ]
    },
    {
      "cell_type": "markdown",
      "metadata": {
        "id": "OYrzNAia7PMY"
      },
      "source": [
        "Here, I create a dictionary fot the country-continent mapping in order to reduce the sparsity"
      ]
    },
    {
      "cell_type": "code",
      "execution_count": null,
      "metadata": {
        "id": "0bWst3Uc7PMY"
      },
      "outputs": [],
      "source": [
        "nationality_to_continent = {\n",
        "    # UK\n",
        "    'United Kingdom': 'United Kingdom',\n",
        "    # Europe\n",
        "    'France': 'Europe',\n",
        "    'Germany': 'Europe',\n",
        "    'Spain': 'Europe',\n",
        "    'Italy': 'Europe',\n",
        "    'Netherlands': 'Europe',\n",
        "    'Switzerland': 'Europe',\n",
        "    'Austria': 'Europe',\n",
        "    'Belgium': 'Europe',\n",
        "    'Sweden': 'Europe',\n",
        "    'Norway': 'Europe',\n",
        "    'Denmark': 'Europe',\n",
        "    'Finland': 'Europe',\n",
        "    'Poland': 'Europe',\n",
        "    'Czech Republic': 'Europe',\n",
        "    'Hungary': 'Europe',\n",
        "    'Portugal': 'Europe',\n",
        "    'Greece': 'Europe',\n",
        "    'Ireland': 'Europe',\n",
        "    'Croatia': 'Europe',\n",
        "    'Slovenia': 'Europe',\n",
        "    'Slovakia': 'Europe',\n",
        "    'Romania': 'Europe',\n",
        "    'Bulgaria': 'Europe',\n",
        "    'Lithuania': 'Europe',\n",
        "    'Latvia': 'Europe',\n",
        "    'Estonia': 'Europe',\n",
        "    'Luxembourg': 'Europe',\n",
        "    'Malta': 'Europe',\n",
        "    'Cyprus': 'Europe',\n",
        "    'Iceland': 'Europe',\n",
        "    'Russia': 'Europe',\n",
        "    'Ukraine': 'Europe',\n",
        "    'Belarus': 'Europe',\n",
        "    'Serbia': 'Europe',\n",
        "    'Bosnia and Herzegovina': 'Europe',\n",
        "    'Montenegro': 'Europe',\n",
        "    'North Macedonia': 'Europe',\n",
        "    'Albania': 'Europe',\n",
        "    'Moldova': 'Europe',\n",
        "\n",
        "    # North America\n",
        "    'United States of America': 'North America',\n",
        "    'Canada': 'North America',\n",
        "    'Mexico': 'North America',\n",
        "\n",
        "    # Asia\n",
        "    'China': 'Asia',\n",
        "    'Japan': 'Asia',\n",
        "    'India': 'Asia',\n",
        "    'Singapore': 'Asia',\n",
        "    'Thailand': 'Asia',\n",
        "    'Malaysia': 'Asia',\n",
        "    'Indonesia': 'Asia',\n",
        "    'Philippines': 'Asia',\n",
        "    'Vietnam': 'Asia',\n",
        "    'South Korea': 'Asia',\n",
        "    'Hong Kong': 'Asia',\n",
        "    'Taiwan': 'Asia',\n",
        "    'Myanmar': 'Asia',\n",
        "    'Cambodia': 'Asia',\n",
        "    'Laos': 'Asia',\n",
        "    'Bangladesh': 'Asia',\n",
        "    'Pakistan': 'Asia',\n",
        "    'Sri Lanka': 'Asia',\n",
        "    'Nepal': 'Asia',\n",
        "    'Bhutan': 'Asia',\n",
        "    'Maldives': 'Asia',\n",
        "    'Mongolia': 'Asia',\n",
        "    'Kazakhstan': 'Asia',\n",
        "    'Uzbekistan': 'Asia',\n",
        "    'Kyrgyzstan': 'Asia',\n",
        "    'Tajikistan': 'Asia',\n",
        "    'Turkmenistan': 'Asia',\n",
        "    'Afghanistan': 'Asia',\n",
        "\n",
        "    # Middle East\n",
        "    'Saudi Arabia': 'Middle East',\n",
        "    'United Arab Emirates': 'Middle East',\n",
        "    'Qatar': 'Middle East',\n",
        "    'Kuwait': 'Middle East',\n",
        "    'Bahrain': 'Middle East',\n",
        "    'Oman': 'Middle East',\n",
        "    'Jordan': 'Middle East',\n",
        "    'Lebanon': 'Middle East',\n",
        "    'Israel': 'Middle East',\n",
        "    'Palestinian Territory': 'Middle East',\n",
        "    'Syria': 'Middle East',\n",
        "    'Iraq': 'Middle East',\n",
        "    'Iran': 'Middle East',\n",
        "    'Turkey': 'Middle East',\n",
        "    'Yemen': 'Middle East',\n",
        "\n",
        "    # Africa\n",
        "    'South Africa': 'Africa',\n",
        "    'Egypt': 'Africa',\n",
        "    'Morocco': 'Africa',\n",
        "    'Tunisia': 'Africa',\n",
        "    'Algeria': 'Africa',\n",
        "    'Libya': 'Africa',\n",
        "    'Nigeria': 'Africa',\n",
        "    'Kenya': 'Africa',\n",
        "    'Ghana': 'Africa',\n",
        "    'Ethiopia': 'Africa',\n",
        "    'Tanzania': 'Africa',\n",
        "    'Uganda': 'Africa',\n",
        "    'Zimbabwe': 'Africa',\n",
        "    'Botswana': 'Africa',\n",
        "    'Namibia': 'Africa',\n",
        "    'Zambia': 'Africa',\n",
        "    'Malawi': 'Africa',\n",
        "    'Mozambique': 'Africa',\n",
        "    'Madagascar': 'Africa',\n",
        "    'Mauritius': 'Africa',\n",
        "    'Seychelles': 'Africa',\n",
        "    'Rwanda': 'Africa',\n",
        "    'Burundi': 'Africa',\n",
        "    'Gabon': 'Africa',\n",
        "    'Cameroon': 'Africa',\n",
        "    'Sudan': 'Africa',\n",
        "    'Chad': 'Africa',\n",
        "    'Niger': 'Africa',\n",
        "    'Mali': 'Africa',\n",
        "    'Burkina Faso': 'Africa',\n",
        "    'Senegal': 'Africa',\n",
        "    'Guinea': 'Africa',\n",
        "    'Sierra Leone': 'Africa',\n",
        "    'Liberia': 'Africa',\n",
        "    'Ivory Coast': 'Africa',\n",
        "    'Togo': 'Africa',\n",
        "    'Benin': 'Africa',\n",
        "    'Central African Republic': 'Africa',\n",
        "    'Democratic Republic of the Congo': 'Africa',\n",
        "    'Republic of the Congo': 'Africa',\n",
        "    'Angola': 'Africa',\n",
        "    'Eritrea': 'Africa',\n",
        "    'Djibouti': 'Africa',\n",
        "    'Somalia': 'Africa',\n",
        "    'Lesotho': 'Africa',\n",
        "    'Swaziland': 'Africa',\n",
        "    'Comoros': 'Africa',\n",
        "\n",
        "    # Oceania\n",
        "    'Australia': 'Oceania',\n",
        "    'New Zealand': 'Oceania',\n",
        "    'Fiji': 'Oceania',\n",
        "    'Papua New Guinea': 'Oceania',\n",
        "    'Samoa': 'Oceania',\n",
        "    'Tonga': 'Oceania',\n",
        "    'Vanuatu': 'Oceania',\n",
        "    'Solomon Islands': 'Oceania',\n",
        "    'Palau': 'Oceania',\n",
        "    'Marshall Islands': 'Oceania',\n",
        "    'Micronesia': 'Oceania',\n",
        "    'Kiribati': 'Oceania',\n",
        "    'Nauru': 'Oceania',\n",
        "    'Tuvalu': 'Oceania',\n",
        "\n",
        "    # South America\n",
        "    'Brazil': 'South America',\n",
        "    'Argentina': 'South America',\n",
        "    'Chile': 'South America',\n",
        "    'Peru': 'South America',\n",
        "    'Colombia': 'South America',\n",
        "    'Venezuela': 'South America',\n",
        "    'Ecuador': 'South America',\n",
        "    'Bolivia': 'South America',\n",
        "    'Paraguay': 'South America',\n",
        "    'Uruguay': 'South America',\n",
        "    'Guyana': 'South America',\n",
        "    'Suriname': 'South America',\n",
        "    'French Guiana': 'South America',\n",
        "\n",
        "    # Central America & Caribbean\n",
        "    'Guatemala': 'Central America',\n",
        "    'Belize': 'Central America',\n",
        "    'El Salvador': 'Central America',\n",
        "    'Honduras': 'Central America',\n",
        "    'Nicaragua': 'Central America',\n",
        "    'Costa Rica': 'Central America',\n",
        "    'Panama': 'Central America',\n",
        "    'Cuba': 'Central America',\n",
        "    'Jamaica': 'Central America',\n",
        "    'Haiti': 'Central America',\n",
        "    'Dominican Republic': 'Central America',\n",
        "    'Puerto Rico': 'Central America',\n",
        "    'Trinidad and Tobago': 'Central America',\n",
        "    'Barbados': 'Central America',\n",
        "    'Bahamas': 'Central America',\n",
        "    'Antigua and Barbuda': 'Central America',\n",
        "    'Saint Lucia': 'Central America',\n",
        "    'Grenada': 'Central America',\n",
        "    'Saint Vincent and the Grenadines': 'Central America',\n",
        "    'Dominica': 'Central America',\n",
        "    'Saint Kitts and Nevis': 'Central America',\n",
        "}\n",
        "\n",
        "\n",
        "\n"
      ]
    },
    {
      "cell_type": "markdown",
      "metadata": {
        "id": "i_UOA80y7PMY"
      },
      "source": [
        "inspecting reviewer location data type because the mapping is not working"
      ]
    },
    {
      "cell_type": "code",
      "execution_count": null,
      "metadata": {
        "colab": {
          "base_uri": "https://localhost:8080/"
        },
        "id": "wSFtzYQR7PMY",
        "outputId": "e6c80914-0ae0-4a4f-d011-817728ece3a7"
      },
      "outputs": [
        {
          "name": "stdout",
          "output_type": "stream",
          "text": [
            "Data type: object\n",
            "Type of first value: <class 'str'>\n"
          ]
        }
      ],
      "source": [
        "print(\"Data type:\", data['Reviewer_Nationality'].dtype)\n",
        "print(\"Type of first value:\", type(data['Reviewer_Nationality'].iloc[0]))"
      ]
    },
    {
      "cell_type": "code",
      "execution_count": null,
      "metadata": {
        "colab": {
          "base_uri": "https://localhost:8080/"
        },
        "id": "_HAPDVSe7PMY",
        "outputId": "d78404b8-2614-4628-e93d-41c02c8da2d2"
      },
      "outputs": [
        {
          "name": "stdout",
          "output_type": "stream",
          "text": [
            "First 10 nationality values:\n",
            "' United Kingdom ' (len: 16) -> NOT FOUND\n",
            "  repr: ' United Kingdom '\n",
            "\n",
            "' United Kingdom ' (len: 16) -> NOT FOUND\n",
            "  repr: ' United Kingdom '\n",
            "\n",
            "' United Kingdom ' (len: 16) -> NOT FOUND\n",
            "  repr: ' United Kingdom '\n",
            "\n",
            "' United Kingdom ' (len: 16) -> NOT FOUND\n",
            "  repr: ' United Kingdom '\n",
            "\n",
            "' United Kingdom ' (len: 16) -> NOT FOUND\n",
            "  repr: ' United Kingdom '\n",
            "\n",
            "' Netherlands ' (len: 13) -> NOT FOUND\n",
            "  repr: ' Netherlands '\n",
            "\n",
            "' United Kingdom ' (len: 16) -> NOT FOUND\n",
            "  repr: ' United Kingdom '\n",
            "\n",
            "' Switzerland ' (len: 13) -> NOT FOUND\n",
            "  repr: ' Switzerland '\n",
            "\n",
            "' Canada ' (len: 8) -> NOT FOUND\n",
            "  repr: ' Canada '\n",
            "\n",
            "' Saudi Arabia ' (len: 14) -> NOT FOUND\n",
            "  repr: ' Saudi Arabia '\n",
            "\n",
            "Exact matches for 'United Kingdom': 0\n",
            "Contains 'United Kingdom': 6241\n",
            "Values containing 'United Kingdom':\n",
            "[' United Kingdom ']\n"
          ]
        }
      ],
      "source": [
        "# look at the first few values directly\n",
        "print(\"First 10 nationality values:\")\n",
        "for i in range(10):\n",
        "    nat = data['Reviewer_Nationality'].iloc[i]\n",
        "    result = nationality_to_continent.get(nat, 'NOT FOUND')\n",
        "    print(f\"'{nat}' (len: {len(nat)}) -> {result}\")\n",
        "    print(f\"  repr: {repr(nat)}\")\n",
        "    print()\n",
        "\n",
        "# Check if 'United Kingdom' exists at all in data\n",
        "uk_count = (data['Reviewer_Nationality'] == 'United Kingdom').sum()\n",
        "print(f\"Exact matches for 'United Kingdom': {uk_count}\")\n",
        "\n",
        "# Check for similar values\n",
        "uk_like = data['Reviewer_Nationality'].str.contains('United Kingdom', na=False)\n",
        "print(f\"Contains 'United Kingdom': {uk_like.sum()}\")\n",
        "if uk_like.sum() > 0:\n",
        "    print(\"Values containing 'United Kingdom':\")\n",
        "    print(data[uk_like]['Reviewer_Nationality'].unique())"
      ]
    },
    {
      "cell_type": "markdown",
      "metadata": {
        "id": "r2SUbLIv7PMY"
      },
      "source": [
        "The reason why the function is not working is because we have a space before and after, therefore we are going to strip those two spaces."
      ]
    },
    {
      "cell_type": "code",
      "execution_count": null,
      "metadata": {
        "colab": {
          "base_uri": "https://localhost:8080/"
        },
        "id": "sB9NfncA7PMY",
        "outputId": "3abb08c1-d9ca-47a3-d4e4-ae327236ecb3"
      },
      "outputs": [
        {
          "name": "stdout",
          "output_type": "stream",
          "text": [
            "Continent Distribution:\n",
            "Reviewer_Continent\n",
            "United Kingdom     6241\n",
            "Europe             2990\n",
            "Middle East        1743\n",
            "North America       892\n",
            "Asia                810\n",
            "Oceania             536\n",
            "Africa              292\n",
            "Other               139\n",
            "South America       100\n",
            "Central America      29\n",
            "Name: count, dtype: int64\n"
          ]
        }
      ],
      "source": [
        "# Clean the nationality data by removing leading/trailing spaces\n",
        "data['Reviewer_Nationality'] = data['Reviewer_Nationality'].str.strip()\n",
        "\n",
        "# run the mapping again\n",
        "data['Reviewer_Continent'] = data['Reviewer_Nationality'].map(nationality_to_continent)\n",
        "data['Reviewer_Continent'] = data['Reviewer_Continent'].fillna('Other')\n",
        "\n",
        "# Check the distribution\n",
        "print(\"Continent Distribution:\")\n",
        "print(data['Reviewer_Continent'].value_counts())"
      ]
    },
    {
      "cell_type": "markdown",
      "metadata": {
        "id": "F7exAF9n7PMY"
      },
      "source": [
        "I apply the mapping I created"
      ]
    },
    {
      "cell_type": "code",
      "execution_count": null,
      "metadata": {
        "id": "5Srmtvg97PMY"
      },
      "outputs": [],
      "source": [
        "# Map to continents\n",
        "data['Reviewer_Continent'] = data['Reviewer_Nationality'].map(nationality_to_continent)\n",
        "\n",
        "# Handle any unmapped nationalities\n",
        "data['Reviewer_Continent'] = data['Reviewer_Continent'].fillna('Other')\n",
        "\n"
      ]
    },
    {
      "cell_type": "code",
      "execution_count": null,
      "metadata": {
        "colab": {
          "base_uri": "https://localhost:8080/"
        },
        "id": "yzMsaIAV7PMY",
        "outputId": "63673e0a-37d5-45e4-9ad9-f7af6d4dcf3d"
      },
      "outputs": [
        {
          "name": "stdout",
          "output_type": "stream",
          "text": [
            "Continent Distribution:\n",
            "United Kingdom: 6241 (45.3%)\n",
            "Europe: 2990 (21.7%)\n",
            "Middle East: 1743 (12.7%)\n",
            "North America: 892 (6.5%)\n",
            "Asia: 810 (5.9%)\n",
            "Oceania: 536 (3.9%)\n",
            "Africa: 292 (2.1%)\n",
            "Other: 139 (1.0%)\n",
            "South America: 100 (0.7%)\n",
            "Central America: 29 (0.2%)\n"
          ]
        }
      ],
      "source": [
        "print(\"Continent Distribution:\")\n",
        "counts = data['Reviewer_Continent'].value_counts()\n",
        "percentages = data['Reviewer_Continent'].value_counts(normalize=True) * 100\n",
        "\n",
        "for continent in counts.index:\n",
        "    print(f\"{continent}: {counts[continent]} ({percentages[continent]:.1f}%)\")"
      ]
    },
    {
      "cell_type": "markdown",
      "metadata": {
        "id": "nyFzgtBK7PMj"
      },
      "source": [
        "we now have the column Reviewer_Continent and we can remove the original one"
      ]
    },
    {
      "cell_type": "code",
      "execution_count": null,
      "metadata": {
        "id": "jaULCH5U7PMj"
      },
      "outputs": [],
      "source": [
        "data = data.drop(columns=['Reviewer_Nationality'])"
      ]
    },
    {
      "cell_type": "markdown",
      "metadata": {
        "id": "TkOAjG4F7PMj"
      },
      "source": [
        "I now prepare the continent categories for one-hot encoding. I find the unique continents, create index mapping by assigning each continent a number for array indexing, and count the categories to determine how many binary columns are needed for one-hot encoding."
      ]
    },
    {
      "cell_type": "code",
      "execution_count": null,
      "metadata": {
        "colab": {
          "base_uri": "https://localhost:8080/"
        },
        "id": "HwfDsUnX7PMj",
        "outputId": "c00ac403-aa37-411b-a8da-cf5e1c1b1250"
      },
      "outputs": [
        {
          "name": "stdout",
          "output_type": "stream",
          "text": [
            "\n",
            "Unique continents: ['United Kingdom' 'Europe' 'North America' 'Middle East' 'Asia' 'Oceania'\n",
            " 'Africa' 'South America' 'Other' 'Central America']\n",
            "Number of continents: 10\n",
            "Continent to index mapping: {'United Kingdom': 0, 'Europe': 1, 'North America': 2, 'Middle East': 3, 'Asia': 4, 'Oceania': 5, 'Africa': 6, 'South America': 7, 'Other': 8, 'Central America': 9}\n"
          ]
        }
      ],
      "source": [
        "# Get unique continents and create index mapping\n",
        "unique_continents = data['Reviewer_Continent'].unique()\n",
        "continent_to_index = {continent: idx for idx, continent in enumerate(unique_continents)}\n",
        "n_continents = len(unique_continents)\n",
        "\n",
        "print(f\"\\nUnique continents: {unique_continents}\")\n",
        "print(f\"Number of continents: {n_continents}\")\n",
        "print(f\"Continent to index mapping: {continent_to_index}\")"
      ]
    },
    {
      "cell_type": "markdown",
      "metadata": {
        "id": "Duyg1fbN7PMj"
      },
      "source": [
        "I create the one-hot encoded array, initialize a zero matrix with dimensions (number of samples × number of continents), and fill in the encoding by setting each row's corresponding continent position to 1, creating binary feature vectors for the neural network."
      ]
    },
    {
      "cell_type": "code",
      "execution_count": null,
      "metadata": {
        "colab": {
          "base_uri": "https://localhost:8080/"
        },
        "id": "sMqDV8mK7PMj",
        "outputId": "79c0836c-a273-41dc-c0f7-57780ee9e2af"
      },
      "outputs": [
        {
          "name": "stdout",
          "output_type": "stream",
          "text": [
            "\n",
            "One-hot array shape: (13772, 10)\n",
            "First few samples:\n",
            "[[1 0 0 0 0 0 0 0 0 0]\n",
            " [1 0 0 0 0 0 0 0 0 0]\n",
            " [1 0 0 0 0 0 0 0 0 0]\n",
            " [1 0 0 0 0 0 0 0 0 0]\n",
            " [1 0 0 0 0 0 0 0 0 0]]\n"
          ]
        }
      ],
      "source": [
        "# Create one-hot encoded array\n",
        "n_samples = len(data)\n",
        "continent_onehot = np.zeros((n_samples, n_continents), dtype=int) # with bool i do have 0-1 : less memory, yet less clear / readable\n",
        "\n",
        "# Fill in the one-hot encoding\n",
        "for i, continent in enumerate(data['Reviewer_Continent']):\n",
        "    continent_onehot[i, continent_to_index[continent]] = 1  # ← ONE-HOT ENCODING HERE\n",
        "\n",
        "print(f\"\\nOne-hot array shape: {continent_onehot.shape}\")\n",
        "print(\"First few samples:\")\n",
        "print(continent_onehot[:5])"
      ]
    },
    {
      "cell_type": "markdown",
      "metadata": {
        "id": "XDxjcQ557PMj"
      },
      "source": [
        "Here I create descriptive column names, convert the numpy array to a DataFrame with proper column labels and indexing, and integrate the one-hot encoded continent features into the main dataset."
      ]
    },
    {
      "cell_type": "code",
      "execution_count": null,
      "metadata": {
        "id": "ndHjU6ps7PMj"
      },
      "outputs": [],
      "source": [
        "# Create column names\n",
        "column_names = [f'continent_{continent}' for continent in unique_continents]\n",
        "\n",
        "# Convert numpy array to DataFrame\n",
        "continent_encoded_df = pd.DataFrame(continent_onehot,\n",
        "                                  columns=column_names,\n",
        "                                  index=data.index)\n",
        "\n",
        "# Add to main dataframe\n",
        "data = pd.concat([data, continent_encoded_df], axis=1)"
      ]
    },
    {
      "cell_type": "markdown",
      "metadata": {
        "id": "70KXBmnb7PMj"
      },
      "source": [
        "finally I drop the original column to not get confused later."
      ]
    },
    {
      "cell_type": "code",
      "execution_count": null,
      "metadata": {
        "id": "OuI2NKV_7PMk"
      },
      "outputs": [],
      "source": [
        "data = data.drop(columns = ['Reviewer_Continent'])"
      ]
    },
    {
      "cell_type": "markdown",
      "metadata": {
        "id": "wWjC7bWg7PMk"
      },
      "source": [
        "check data"
      ]
    },
    {
      "cell_type": "code",
      "execution_count": null,
      "metadata": {
        "colab": {
          "base_uri": "https://localhost:8080/",
          "height": 999
        },
        "id": "HV700_i37PMk",
        "outputId": "4cb538eb-734b-458a-efbf-1396f87b88ae"
      },
      "outputs": [
        {
          "data": {
            "application/vnd.google.colaboratory.intrinsic+json": {
              "type": "dataframe",
              "variable_name": "data"
            },
            "text/html": [
              "\n",
              "  <div id=\"df-3a01d40d-9e87-4d8c-a14a-1c9ce27470fa\" class=\"colab-df-container\">\n",
              "    <div>\n",
              "<style scoped>\n",
              "    .dataframe tbody tr th:only-of-type {\n",
              "        vertical-align: middle;\n",
              "    }\n",
              "\n",
              "    .dataframe tbody tr th {\n",
              "        vertical-align: top;\n",
              "    }\n",
              "\n",
              "    .dataframe thead th {\n",
              "        text-align: right;\n",
              "    }\n",
              "</style>\n",
              "<table border=\"1\" class=\"dataframe\">\n",
              "  <thead>\n",
              "    <tr style=\"text-align: right;\">\n",
              "      <th></th>\n",
              "      <th>Hotel_Address</th>\n",
              "      <th>Average_Score</th>\n",
              "      <th>Hotel_Name</th>\n",
              "      <th>Reviewer_number_reviews</th>\n",
              "      <th>Review_Score</th>\n",
              "      <th>Review_Type</th>\n",
              "      <th>Review_Processed</th>\n",
              "      <th>season_Fall</th>\n",
              "      <th>season_Spring</th>\n",
              "      <th>season_Summer</th>\n",
              "      <th>...</th>\n",
              "      <th>continent_United Kingdom</th>\n",
              "      <th>continent_Europe</th>\n",
              "      <th>continent_North America</th>\n",
              "      <th>continent_Middle East</th>\n",
              "      <th>continent_Asia</th>\n",
              "      <th>continent_Oceania</th>\n",
              "      <th>continent_Africa</th>\n",
              "      <th>continent_South America</th>\n",
              "      <th>continent_Other</th>\n",
              "      <th>continent_Central America</th>\n",
              "    </tr>\n",
              "  </thead>\n",
              "  <tbody>\n",
              "    <tr>\n",
              "      <th>88526</th>\n",
              "      <td>Scarsdale Scarsdale Place Kensington Kensingto...</td>\n",
              "      <td>8.1</td>\n",
              "      <td>Copthorne Tara Hotel London Kensington</td>\n",
              "      <td>2</td>\n",
              "      <td>6.7</td>\n",
              "      <td>Bad_review</td>\n",
              "      <td>expensive room rate that didn t include parkin...</td>\n",
              "      <td>False</td>\n",
              "      <td>True</td>\n",
              "      <td>False</td>\n",
              "      <td>...</td>\n",
              "      <td>1</td>\n",
              "      <td>0</td>\n",
              "      <td>0</td>\n",
              "      <td>0</td>\n",
              "      <td>0</td>\n",
              "      <td>0</td>\n",
              "      <td>0</td>\n",
              "      <td>0</td>\n",
              "      <td>0</td>\n",
              "      <td>0</td>\n",
              "    </tr>\n",
              "    <tr>\n",
              "      <th>42019</th>\n",
              "      <td>53 53 59 Kilburn High Road Maida Vale London C...</td>\n",
              "      <td>7.1</td>\n",
              "      <td>BEST WESTERN Maitrise Hotel Maida Vale</td>\n",
              "      <td>8</td>\n",
              "      <td>5.8</td>\n",
              "      <td>Bad_review</td>\n",
              "      <td>bedroom basement no windows very small room ne...</td>\n",
              "      <td>False</td>\n",
              "      <td>False</td>\n",
              "      <td>True</td>\n",
              "      <td>...</td>\n",
              "      <td>1</td>\n",
              "      <td>0</td>\n",
              "      <td>0</td>\n",
              "      <td>0</td>\n",
              "      <td>0</td>\n",
              "      <td>0</td>\n",
              "      <td>0</td>\n",
              "      <td>0</td>\n",
              "      <td>0</td>\n",
              "      <td>0</td>\n",
              "    </tr>\n",
              "    <tr>\n",
              "      <th>80574</th>\n",
              "      <td>Pelai Pelai 28 Ciutat Vella 08002 Barcelona Spain</td>\n",
              "      <td>8.6</td>\n",
              "      <td>Catalonia Ramblas 4 Sup</td>\n",
              "      <td>2</td>\n",
              "      <td>6.3</td>\n",
              "      <td>Bad_review</td>\n",
              "      <td>room ready makeover location</td>\n",
              "      <td>True</td>\n",
              "      <td>False</td>\n",
              "      <td>False</td>\n",
              "      <td>...</td>\n",
              "      <td>1</td>\n",
              "      <td>0</td>\n",
              "      <td>0</td>\n",
              "      <td>0</td>\n",
              "      <td>0</td>\n",
              "      <td>0</td>\n",
              "      <td>0</td>\n",
              "      <td>0</td>\n",
              "      <td>0</td>\n",
              "      <td>0</td>\n",
              "    </tr>\n",
              "    <tr>\n",
              "      <th>27131</th>\n",
              "      <td>3 3 Place du G n ral Koenig 17th arr 75017 Par...</td>\n",
              "      <td>7.1</td>\n",
              "      <td>Hyatt Regency Paris Etoile</td>\n",
              "      <td>3</td>\n",
              "      <td>5.8</td>\n",
              "      <td>Bad_review</td>\n",
              "      <td>firstly lady check desk was quite unfriendly s...</td>\n",
              "      <td>False</td>\n",
              "      <td>False</td>\n",
              "      <td>False</td>\n",
              "      <td>...</td>\n",
              "      <td>1</td>\n",
              "      <td>0</td>\n",
              "      <td>0</td>\n",
              "      <td>0</td>\n",
              "      <td>0</td>\n",
              "      <td>0</td>\n",
              "      <td>0</td>\n",
              "      <td>0</td>\n",
              "      <td>0</td>\n",
              "      <td>0</td>\n",
              "    </tr>\n",
              "    <tr>\n",
              "      <th>63857</th>\n",
              "      <td>Epping Epping Forest 30 Oak Hill London IG8 9N...</td>\n",
              "      <td>7.5</td>\n",
              "      <td>Best Western PLUS Epping Forest</td>\n",
              "      <td>7</td>\n",
              "      <td>3.3</td>\n",
              "      <td>Bad_review</td>\n",
              "      <td>not being able park my vehicle due staff filli...</td>\n",
              "      <td>False</td>\n",
              "      <td>False</td>\n",
              "      <td>True</td>\n",
              "      <td>...</td>\n",
              "      <td>1</td>\n",
              "      <td>0</td>\n",
              "      <td>0</td>\n",
              "      <td>0</td>\n",
              "      <td>0</td>\n",
              "      <td>0</td>\n",
              "      <td>0</td>\n",
              "      <td>0</td>\n",
              "      <td>0</td>\n",
              "      <td>0</td>\n",
              "    </tr>\n",
              "    <tr>\n",
              "      <th>...</th>\n",
              "      <td>...</td>\n",
              "      <td>...</td>\n",
              "      <td>...</td>\n",
              "      <td>...</td>\n",
              "      <td>...</td>\n",
              "      <td>...</td>\n",
              "      <td>...</td>\n",
              "      <td>...</td>\n",
              "      <td>...</td>\n",
              "      <td>...</td>\n",
              "      <td>...</td>\n",
              "      <td>...</td>\n",
              "      <td>...</td>\n",
              "      <td>...</td>\n",
              "      <td>...</td>\n",
              "      <td>...</td>\n",
              "      <td>...</td>\n",
              "      <td>...</td>\n",
              "      <td>...</td>\n",
              "      <td>...</td>\n",
              "      <td>...</td>\n",
              "    </tr>\n",
              "    <tr>\n",
              "      <th>11403</th>\n",
              "      <td>150 150 Bayswater Road Kensington and Chelsea ...</td>\n",
              "      <td>8.4</td>\n",
              "      <td>DoubleTree by Hilton London Hyde Park</td>\n",
              "      <td>16</td>\n",
              "      <td>7.5</td>\n",
              "      <td>Good_review</td>\n",
              "      <td>cleanliness room temperature location facilities</td>\n",
              "      <td>False</td>\n",
              "      <td>True</td>\n",
              "      <td>False</td>\n",
              "      <td>...</td>\n",
              "      <td>0</td>\n",
              "      <td>1</td>\n",
              "      <td>0</td>\n",
              "      <td>0</td>\n",
              "      <td>0</td>\n",
              "      <td>0</td>\n",
              "      <td>0</td>\n",
              "      <td>0</td>\n",
              "      <td>0</td>\n",
              "      <td>0</td>\n",
              "    </tr>\n",
              "    <tr>\n",
              "      <th>18169</th>\n",
              "      <td>2 2 Rue Hector Malot 12th arr 75012 Paris France</td>\n",
              "      <td>8.5</td>\n",
              "      <td>Novotel Paris Gare De Lyon</td>\n",
              "      <td>6</td>\n",
              "      <td>8.8</td>\n",
              "      <td>Good_review</td>\n",
              "      <td>cost parking location</td>\n",
              "      <td>True</td>\n",
              "      <td>False</td>\n",
              "      <td>False</td>\n",
              "      <td>...</td>\n",
              "      <td>1</td>\n",
              "      <td>0</td>\n",
              "      <td>0</td>\n",
              "      <td>0</td>\n",
              "      <td>0</td>\n",
              "      <td>0</td>\n",
              "      <td>0</td>\n",
              "      <td>0</td>\n",
              "      <td>0</td>\n",
              "      <td>0</td>\n",
              "    </tr>\n",
              "    <tr>\n",
              "      <th>15180</th>\n",
              "      <td>18 18 Albert Embankment Lambeth London SE1 7TJ UK</td>\n",
              "      <td>8.3</td>\n",
              "      <td>Park Plaza London Riverbank</td>\n",
              "      <td>1</td>\n",
              "      <td>10.0</td>\n",
              "      <td>Good_review</td>\n",
              "      <td>staff was very helpful</td>\n",
              "      <td>True</td>\n",
              "      <td>False</td>\n",
              "      <td>False</td>\n",
              "      <td>...</td>\n",
              "      <td>1</td>\n",
              "      <td>0</td>\n",
              "      <td>0</td>\n",
              "      <td>0</td>\n",
              "      <td>0</td>\n",
              "      <td>0</td>\n",
              "      <td>0</td>\n",
              "      <td>0</td>\n",
              "      <td>0</td>\n",
              "      <td>0</td>\n",
              "    </tr>\n",
              "    <tr>\n",
              "      <th>24929</th>\n",
              "      <td>26 26 Cadogan Gardens Kensington and Chelsea L...</td>\n",
              "      <td>9.2</td>\n",
              "      <td>Draycott Hotel</td>\n",
              "      <td>9</td>\n",
              "      <td>10.0</td>\n",
              "      <td>Good_review</td>\n",
              "      <td>tout home away from home</td>\n",
              "      <td>True</td>\n",
              "      <td>False</td>\n",
              "      <td>False</td>\n",
              "      <td>...</td>\n",
              "      <td>0</td>\n",
              "      <td>1</td>\n",
              "      <td>0</td>\n",
              "      <td>0</td>\n",
              "      <td>0</td>\n",
              "      <td>0</td>\n",
              "      <td>0</td>\n",
              "      <td>0</td>\n",
              "      <td>0</td>\n",
              "      <td>0</td>\n",
              "    </tr>\n",
              "    <tr>\n",
              "      <th>61379</th>\n",
              "      <td>Dam Dam 9 Amsterdam City Center 1012 JS Amster...</td>\n",
              "      <td>8.4</td>\n",
              "      <td>NH Collection Amsterdam Grand Hotel Krasnapolsky</td>\n",
              "      <td>1</td>\n",
              "      <td>7.1</td>\n",
              "      <td>Good_review</td>\n",
              "      <td>there is no business center</td>\n",
              "      <td>False</td>\n",
              "      <td>True</td>\n",
              "      <td>False</td>\n",
              "      <td>...</td>\n",
              "      <td>0</td>\n",
              "      <td>0</td>\n",
              "      <td>0</td>\n",
              "      <td>1</td>\n",
              "      <td>0</td>\n",
              "      <td>0</td>\n",
              "      <td>0</td>\n",
              "      <td>0</td>\n",
              "      <td>0</td>\n",
              "      <td>0</td>\n",
              "    </tr>\n",
              "  </tbody>\n",
              "</table>\n",
              "<p>13772 rows × 25 columns</p>\n",
              "</div>\n",
              "    <div class=\"colab-df-buttons\">\n",
              "\n",
              "  <div class=\"colab-df-container\">\n",
              "    <button class=\"colab-df-convert\" onclick=\"convertToInteractive('df-3a01d40d-9e87-4d8c-a14a-1c9ce27470fa')\"\n",
              "            title=\"Convert this dataframe to an interactive table.\"\n",
              "            style=\"display:none;\">\n",
              "\n",
              "  <svg xmlns=\"http://www.w3.org/2000/svg\" height=\"24px\" viewBox=\"0 -960 960 960\">\n",
              "    <path d=\"M120-120v-720h720v720H120Zm60-500h600v-160H180v160Zm220 220h160v-160H400v160Zm0 220h160v-160H400v160ZM180-400h160v-160H180v160Zm440 0h160v-160H620v160ZM180-180h160v-160H180v160Zm440 0h160v-160H620v160Z\"/>\n",
              "  </svg>\n",
              "    </button>\n",
              "\n",
              "  <style>\n",
              "    .colab-df-container {\n",
              "      display:flex;\n",
              "      gap: 12px;\n",
              "    }\n",
              "\n",
              "    .colab-df-convert {\n",
              "      background-color: #E8F0FE;\n",
              "      border: none;\n",
              "      border-radius: 50%;\n",
              "      cursor: pointer;\n",
              "      display: none;\n",
              "      fill: #1967D2;\n",
              "      height: 32px;\n",
              "      padding: 0 0 0 0;\n",
              "      width: 32px;\n",
              "    }\n",
              "\n",
              "    .colab-df-convert:hover {\n",
              "      background-color: #E2EBFA;\n",
              "      box-shadow: 0px 1px 2px rgba(60, 64, 67, 0.3), 0px 1px 3px 1px rgba(60, 64, 67, 0.15);\n",
              "      fill: #174EA6;\n",
              "    }\n",
              "\n",
              "    .colab-df-buttons div {\n",
              "      margin-bottom: 4px;\n",
              "    }\n",
              "\n",
              "    [theme=dark] .colab-df-convert {\n",
              "      background-color: #3B4455;\n",
              "      fill: #D2E3FC;\n",
              "    }\n",
              "\n",
              "    [theme=dark] .colab-df-convert:hover {\n",
              "      background-color: #434B5C;\n",
              "      box-shadow: 0px 1px 3px 1px rgba(0, 0, 0, 0.15);\n",
              "      filter: drop-shadow(0px 1px 2px rgba(0, 0, 0, 0.3));\n",
              "      fill: #FFFFFF;\n",
              "    }\n",
              "  </style>\n",
              "\n",
              "    <script>\n",
              "      const buttonEl =\n",
              "        document.querySelector('#df-3a01d40d-9e87-4d8c-a14a-1c9ce27470fa button.colab-df-convert');\n",
              "      buttonEl.style.display =\n",
              "        google.colab.kernel.accessAllowed ? 'block' : 'none';\n",
              "\n",
              "      async function convertToInteractive(key) {\n",
              "        const element = document.querySelector('#df-3a01d40d-9e87-4d8c-a14a-1c9ce27470fa');\n",
              "        const dataTable =\n",
              "          await google.colab.kernel.invokeFunction('convertToInteractive',\n",
              "                                                    [key], {});\n",
              "        if (!dataTable) return;\n",
              "\n",
              "        const docLinkHtml = 'Like what you see? Visit the ' +\n",
              "          '<a target=\"_blank\" href=https://colab.research.google.com/notebooks/data_table.ipynb>data table notebook</a>'\n",
              "          + ' to learn more about interactive tables.';\n",
              "        element.innerHTML = '';\n",
              "        dataTable['output_type'] = 'display_data';\n",
              "        await google.colab.output.renderOutput(dataTable, element);\n",
              "        const docLink = document.createElement('div');\n",
              "        docLink.innerHTML = docLinkHtml;\n",
              "        element.appendChild(docLink);\n",
              "      }\n",
              "    </script>\n",
              "  </div>\n",
              "\n",
              "\n",
              "    <div id=\"df-9100309f-eba8-412f-ba17-f3aa7309a627\">\n",
              "      <button class=\"colab-df-quickchart\" onclick=\"quickchart('df-9100309f-eba8-412f-ba17-f3aa7309a627')\"\n",
              "                title=\"Suggest charts\"\n",
              "                style=\"display:none;\">\n",
              "\n",
              "<svg xmlns=\"http://www.w3.org/2000/svg\" height=\"24px\"viewBox=\"0 0 24 24\"\n",
              "     width=\"24px\">\n",
              "    <g>\n",
              "        <path d=\"M19 3H5c-1.1 0-2 .9-2 2v14c0 1.1.9 2 2 2h14c1.1 0 2-.9 2-2V5c0-1.1-.9-2-2-2zM9 17H7v-7h2v7zm4 0h-2V7h2v10zm4 0h-2v-4h2v4z\"/>\n",
              "    </g>\n",
              "</svg>\n",
              "      </button>\n",
              "\n",
              "<style>\n",
              "  .colab-df-quickchart {\n",
              "      --bg-color: #E8F0FE;\n",
              "      --fill-color: #1967D2;\n",
              "      --hover-bg-color: #E2EBFA;\n",
              "      --hover-fill-color: #174EA6;\n",
              "      --disabled-fill-color: #AAA;\n",
              "      --disabled-bg-color: #DDD;\n",
              "  }\n",
              "\n",
              "  [theme=dark] .colab-df-quickchart {\n",
              "      --bg-color: #3B4455;\n",
              "      --fill-color: #D2E3FC;\n",
              "      --hover-bg-color: #434B5C;\n",
              "      --hover-fill-color: #FFFFFF;\n",
              "      --disabled-bg-color: #3B4455;\n",
              "      --disabled-fill-color: #666;\n",
              "  }\n",
              "\n",
              "  .colab-df-quickchart {\n",
              "    background-color: var(--bg-color);\n",
              "    border: none;\n",
              "    border-radius: 50%;\n",
              "    cursor: pointer;\n",
              "    display: none;\n",
              "    fill: var(--fill-color);\n",
              "    height: 32px;\n",
              "    padding: 0;\n",
              "    width: 32px;\n",
              "  }\n",
              "\n",
              "  .colab-df-quickchart:hover {\n",
              "    background-color: var(--hover-bg-color);\n",
              "    box-shadow: 0 1px 2px rgba(60, 64, 67, 0.3), 0 1px 3px 1px rgba(60, 64, 67, 0.15);\n",
              "    fill: var(--button-hover-fill-color);\n",
              "  }\n",
              "\n",
              "  .colab-df-quickchart-complete:disabled,\n",
              "  .colab-df-quickchart-complete:disabled:hover {\n",
              "    background-color: var(--disabled-bg-color);\n",
              "    fill: var(--disabled-fill-color);\n",
              "    box-shadow: none;\n",
              "  }\n",
              "\n",
              "  .colab-df-spinner {\n",
              "    border: 2px solid var(--fill-color);\n",
              "    border-color: transparent;\n",
              "    border-bottom-color: var(--fill-color);\n",
              "    animation:\n",
              "      spin 1s steps(1) infinite;\n",
              "  }\n",
              "\n",
              "  @keyframes spin {\n",
              "    0% {\n",
              "      border-color: transparent;\n",
              "      border-bottom-color: var(--fill-color);\n",
              "      border-left-color: var(--fill-color);\n",
              "    }\n",
              "    20% {\n",
              "      border-color: transparent;\n",
              "      border-left-color: var(--fill-color);\n",
              "      border-top-color: var(--fill-color);\n",
              "    }\n",
              "    30% {\n",
              "      border-color: transparent;\n",
              "      border-left-color: var(--fill-color);\n",
              "      border-top-color: var(--fill-color);\n",
              "      border-right-color: var(--fill-color);\n",
              "    }\n",
              "    40% {\n",
              "      border-color: transparent;\n",
              "      border-right-color: var(--fill-color);\n",
              "      border-top-color: var(--fill-color);\n",
              "    }\n",
              "    60% {\n",
              "      border-color: transparent;\n",
              "      border-right-color: var(--fill-color);\n",
              "    }\n",
              "    80% {\n",
              "      border-color: transparent;\n",
              "      border-right-color: var(--fill-color);\n",
              "      border-bottom-color: var(--fill-color);\n",
              "    }\n",
              "    90% {\n",
              "      border-color: transparent;\n",
              "      border-bottom-color: var(--fill-color);\n",
              "    }\n",
              "  }\n",
              "</style>\n",
              "\n",
              "      <script>\n",
              "        async function quickchart(key) {\n",
              "          const quickchartButtonEl =\n",
              "            document.querySelector('#' + key + ' button');\n",
              "          quickchartButtonEl.disabled = true;  // To prevent multiple clicks.\n",
              "          quickchartButtonEl.classList.add('colab-df-spinner');\n",
              "          try {\n",
              "            const charts = await google.colab.kernel.invokeFunction(\n",
              "                'suggestCharts', [key], {});\n",
              "          } catch (error) {\n",
              "            console.error('Error during call to suggestCharts:', error);\n",
              "          }\n",
              "          quickchartButtonEl.classList.remove('colab-df-spinner');\n",
              "          quickchartButtonEl.classList.add('colab-df-quickchart-complete');\n",
              "        }\n",
              "        (() => {\n",
              "          let quickchartButtonEl =\n",
              "            document.querySelector('#df-9100309f-eba8-412f-ba17-f3aa7309a627 button');\n",
              "          quickchartButtonEl.style.display =\n",
              "            google.colab.kernel.accessAllowed ? 'block' : 'none';\n",
              "        })();\n",
              "      </script>\n",
              "    </div>\n",
              "\n",
              "  <div id=\"id_acd2f868-7b16-448a-890a-0a4daac5b75a\">\n",
              "    <style>\n",
              "      .colab-df-generate {\n",
              "        background-color: #E8F0FE;\n",
              "        border: none;\n",
              "        border-radius: 50%;\n",
              "        cursor: pointer;\n",
              "        display: none;\n",
              "        fill: #1967D2;\n",
              "        height: 32px;\n",
              "        padding: 0 0 0 0;\n",
              "        width: 32px;\n",
              "      }\n",
              "\n",
              "      .colab-df-generate:hover {\n",
              "        background-color: #E2EBFA;\n",
              "        box-shadow: 0px 1px 2px rgba(60, 64, 67, 0.3), 0px 1px 3px 1px rgba(60, 64, 67, 0.15);\n",
              "        fill: #174EA6;\n",
              "      }\n",
              "\n",
              "      [theme=dark] .colab-df-generate {\n",
              "        background-color: #3B4455;\n",
              "        fill: #D2E3FC;\n",
              "      }\n",
              "\n",
              "      [theme=dark] .colab-df-generate:hover {\n",
              "        background-color: #434B5C;\n",
              "        box-shadow: 0px 1px 3px 1px rgba(0, 0, 0, 0.15);\n",
              "        filter: drop-shadow(0px 1px 2px rgba(0, 0, 0, 0.3));\n",
              "        fill: #FFFFFF;\n",
              "      }\n",
              "    </style>\n",
              "    <button class=\"colab-df-generate\" onclick=\"generateWithVariable('data')\"\n",
              "            title=\"Generate code using this dataframe.\"\n",
              "            style=\"display:none;\">\n",
              "\n",
              "  <svg xmlns=\"http://www.w3.org/2000/svg\" height=\"24px\"viewBox=\"0 0 24 24\"\n",
              "       width=\"24px\">\n",
              "    <path d=\"M7,19H8.4L18.45,9,17,7.55,7,17.6ZM5,21V16.75L18.45,3.32a2,2,0,0,1,2.83,0l1.4,1.43a1.91,1.91,0,0,1,.58,1.4,1.91,1.91,0,0,1-.58,1.4L9.25,21ZM18.45,9,17,7.55Zm-12,3A5.31,5.31,0,0,0,4.9,8.1,5.31,5.31,0,0,0,1,6.5,5.31,5.31,0,0,0,4.9,4.9,5.31,5.31,0,0,0,6.5,1,5.31,5.31,0,0,0,8.1,4.9,5.31,5.31,0,0,0,12,6.5,5.46,5.46,0,0,0,6.5,12Z\"/>\n",
              "  </svg>\n",
              "    </button>\n",
              "    <script>\n",
              "      (() => {\n",
              "      const buttonEl =\n",
              "        document.querySelector('#id_acd2f868-7b16-448a-890a-0a4daac5b75a button.colab-df-generate');\n",
              "      buttonEl.style.display =\n",
              "        google.colab.kernel.accessAllowed ? 'block' : 'none';\n",
              "\n",
              "      buttonEl.onclick = () => {\n",
              "        google.colab.notebook.generateWithVariable('data');\n",
              "      }\n",
              "      })();\n",
              "    </script>\n",
              "  </div>\n",
              "\n",
              "    </div>\n",
              "  </div>\n"
            ],
            "text/plain": [
              "                                           Hotel_Address  Average_Score  \\\n",
              "88526  Scarsdale Scarsdale Place Kensington Kensingto...            8.1   \n",
              "42019  53 53 59 Kilburn High Road Maida Vale London C...            7.1   \n",
              "80574  Pelai Pelai 28 Ciutat Vella 08002 Barcelona Spain            8.6   \n",
              "27131  3 3 Place du G n ral Koenig 17th arr 75017 Par...            7.1   \n",
              "63857  Epping Epping Forest 30 Oak Hill London IG8 9N...            7.5   \n",
              "...                                                  ...            ...   \n",
              "11403  150 150 Bayswater Road Kensington and Chelsea ...            8.4   \n",
              "18169   2 2 Rue Hector Malot 12th arr 75012 Paris France            8.5   \n",
              "15180  18 18 Albert Embankment Lambeth London SE1 7TJ UK            8.3   \n",
              "24929  26 26 Cadogan Gardens Kensington and Chelsea L...            9.2   \n",
              "61379  Dam Dam 9 Amsterdam City Center 1012 JS Amster...            8.4   \n",
              "\n",
              "                                             Hotel_Name  \\\n",
              "88526            Copthorne Tara Hotel London Kensington   \n",
              "42019            BEST WESTERN Maitrise Hotel Maida Vale   \n",
              "80574                           Catalonia Ramblas 4 Sup   \n",
              "27131                        Hyatt Regency Paris Etoile   \n",
              "63857                   Best Western PLUS Epping Forest   \n",
              "...                                                 ...   \n",
              "11403             DoubleTree by Hilton London Hyde Park   \n",
              "18169                        Novotel Paris Gare De Lyon   \n",
              "15180                       Park Plaza London Riverbank   \n",
              "24929                                    Draycott Hotel   \n",
              "61379  NH Collection Amsterdam Grand Hotel Krasnapolsky   \n",
              "\n",
              "       Reviewer_number_reviews  Review_Score  Review_Type  \\\n",
              "88526                        2           6.7   Bad_review   \n",
              "42019                        8           5.8   Bad_review   \n",
              "80574                        2           6.3   Bad_review   \n",
              "27131                        3           5.8   Bad_review   \n",
              "63857                        7           3.3   Bad_review   \n",
              "...                        ...           ...          ...   \n",
              "11403                       16           7.5  Good_review   \n",
              "18169                        6           8.8  Good_review   \n",
              "15180                        1          10.0  Good_review   \n",
              "24929                        9          10.0  Good_review   \n",
              "61379                        1           7.1  Good_review   \n",
              "\n",
              "                                        Review_Processed  season_Fall  \\\n",
              "88526  expensive room rate that didn t include parkin...        False   \n",
              "42019  bedroom basement no windows very small room ne...        False   \n",
              "80574                       room ready makeover location         True   \n",
              "27131  firstly lady check desk was quite unfriendly s...        False   \n",
              "63857  not being able park my vehicle due staff filli...        False   \n",
              "...                                                  ...          ...   \n",
              "11403   cleanliness room temperature location facilities        False   \n",
              "18169                              cost parking location         True   \n",
              "15180                             staff was very helpful         True   \n",
              "24929                           tout home away from home         True   \n",
              "61379                        there is no business center        False   \n",
              "\n",
              "       season_Spring  season_Summer  ...  continent_United Kingdom  \\\n",
              "88526           True          False  ...                         1   \n",
              "42019          False           True  ...                         1   \n",
              "80574          False          False  ...                         1   \n",
              "27131          False          False  ...                         1   \n",
              "63857          False           True  ...                         1   \n",
              "...              ...            ...  ...                       ...   \n",
              "11403           True          False  ...                         0   \n",
              "18169          False          False  ...                         1   \n",
              "15180          False          False  ...                         1   \n",
              "24929          False          False  ...                         0   \n",
              "61379           True          False  ...                         0   \n",
              "\n",
              "       continent_Europe  continent_North America  continent_Middle East  \\\n",
              "88526                 0                        0                      0   \n",
              "42019                 0                        0                      0   \n",
              "80574                 0                        0                      0   \n",
              "27131                 0                        0                      0   \n",
              "63857                 0                        0                      0   \n",
              "...                 ...                      ...                    ...   \n",
              "11403                 1                        0                      0   \n",
              "18169                 0                        0                      0   \n",
              "15180                 0                        0                      0   \n",
              "24929                 1                        0                      0   \n",
              "61379                 0                        0                      1   \n",
              "\n",
              "       continent_Asia  continent_Oceania  continent_Africa  \\\n",
              "88526               0                  0                 0   \n",
              "42019               0                  0                 0   \n",
              "80574               0                  0                 0   \n",
              "27131               0                  0                 0   \n",
              "63857               0                  0                 0   \n",
              "...               ...                ...               ...   \n",
              "11403               0                  0                 0   \n",
              "18169               0                  0                 0   \n",
              "15180               0                  0                 0   \n",
              "24929               0                  0                 0   \n",
              "61379               0                  0                 0   \n",
              "\n",
              "       continent_South America  continent_Other  continent_Central America  \n",
              "88526                        0                0                          0  \n",
              "42019                        0                0                          0  \n",
              "80574                        0                0                          0  \n",
              "27131                        0                0                          0  \n",
              "63857                        0                0                          0  \n",
              "...                        ...              ...                        ...  \n",
              "11403                        0                0                          0  \n",
              "18169                        0                0                          0  \n",
              "15180                        0                0                          0  \n",
              "24929                        0                0                          0  \n",
              "61379                        0                0                          0  \n",
              "\n",
              "[13772 rows x 25 columns]"
            ]
          },
          "execution_count": 26,
          "metadata": {},
          "output_type": "execute_result"
        }
      ],
      "source": [
        "data"
      ]
    },
    {
      "cell_type": "markdown",
      "metadata": {
        "id": "oyFOoK3x7PMk"
      },
      "source": [
        "## **REVIEW PREPROCESSING**\n",
        "\n",
        "encoding as 0/1 bad reviews and good reviews as i explicitly stated during the exam"
      ]
    },
    {
      "cell_type": "markdown",
      "metadata": {
        "id": "QFxkQbtJ7PMk"
      },
      "source": [
        "check exact name of the column"
      ]
    },
    {
      "cell_type": "code",
      "execution_count": null,
      "metadata": {
        "colab": {
          "base_uri": "https://localhost:8080/"
        },
        "id": "yJVLI_X47PMk",
        "outputId": "7da49d0a-5d1d-4eb6-ea67-56440096e600"
      },
      "outputs": [
        {
          "data": {
            "text/plain": [
              "Index(['Hotel_Address', 'Average_Score', 'Hotel_Name',\n",
              "       'Reviewer_number_reviews', 'Review_Score', 'Review_Type',\n",
              "       'Review_Processed', 'season_Fall', 'season_Spring', 'season_Summer',\n",
              "       'season_Winter', 'hotel_pop_High', 'hotel_pop_Low',\n",
              "       'hotel_pop_Medium-High', 'hotel_pop_Medium-Low',\n",
              "       'continent_United Kingdom', 'continent_Europe',\n",
              "       'continent_North America', 'continent_Middle East', 'continent_Asia',\n",
              "       'continent_Oceania', 'continent_Africa', 'continent_South America',\n",
              "       'continent_Other', 'continent_Central America'],\n",
              "      dtype='object')"
            ]
          },
          "execution_count": 27,
          "metadata": {},
          "output_type": "execute_result"
        }
      ],
      "source": [
        "data.columns"
      ]
    },
    {
      "cell_type": "code",
      "execution_count": null,
      "metadata": {
        "colab": {
          "base_uri": "https://localhost:8080/",
          "height": 458
        },
        "id": "DnNGY4aW7PMk",
        "outputId": "94730951-c1c8-4979-bfe9-2773e1b51631"
      },
      "outputs": [
        {
          "data": {
            "text/html": [
              "<div>\n",
              "<style scoped>\n",
              "    .dataframe tbody tr th:only-of-type {\n",
              "        vertical-align: middle;\n",
              "    }\n",
              "\n",
              "    .dataframe tbody tr th {\n",
              "        vertical-align: top;\n",
              "    }\n",
              "\n",
              "    .dataframe thead th {\n",
              "        text-align: right;\n",
              "    }\n",
              "</style>\n",
              "<table border=\"1\" class=\"dataframe\">\n",
              "  <thead>\n",
              "    <tr style=\"text-align: right;\">\n",
              "      <th></th>\n",
              "      <th>Review_Type</th>\n",
              "    </tr>\n",
              "  </thead>\n",
              "  <tbody>\n",
              "    <tr>\n",
              "      <th>88526</th>\n",
              "      <td>Bad_review</td>\n",
              "    </tr>\n",
              "    <tr>\n",
              "      <th>42019</th>\n",
              "      <td>Bad_review</td>\n",
              "    </tr>\n",
              "    <tr>\n",
              "      <th>80574</th>\n",
              "      <td>Bad_review</td>\n",
              "    </tr>\n",
              "    <tr>\n",
              "      <th>27131</th>\n",
              "      <td>Bad_review</td>\n",
              "    </tr>\n",
              "    <tr>\n",
              "      <th>63857</th>\n",
              "      <td>Bad_review</td>\n",
              "    </tr>\n",
              "    <tr>\n",
              "      <th>...</th>\n",
              "      <td>...</td>\n",
              "    </tr>\n",
              "    <tr>\n",
              "      <th>11403</th>\n",
              "      <td>Good_review</td>\n",
              "    </tr>\n",
              "    <tr>\n",
              "      <th>18169</th>\n",
              "      <td>Good_review</td>\n",
              "    </tr>\n",
              "    <tr>\n",
              "      <th>15180</th>\n",
              "      <td>Good_review</td>\n",
              "    </tr>\n",
              "    <tr>\n",
              "      <th>24929</th>\n",
              "      <td>Good_review</td>\n",
              "    </tr>\n",
              "    <tr>\n",
              "      <th>61379</th>\n",
              "      <td>Good_review</td>\n",
              "    </tr>\n",
              "  </tbody>\n",
              "</table>\n",
              "<p>13772 rows × 1 columns</p>\n",
              "</div><br><label><b>dtype:</b> object</label>"
            ],
            "text/plain": [
              "88526     Bad_review\n",
              "42019     Bad_review\n",
              "80574     Bad_review\n",
              "27131     Bad_review\n",
              "63857     Bad_review\n",
              "            ...     \n",
              "11403    Good_review\n",
              "18169    Good_review\n",
              "15180    Good_review\n",
              "24929    Good_review\n",
              "61379    Good_review\n",
              "Name: Review_Type, Length: 13772, dtype: object"
            ]
          },
          "execution_count": 28,
          "metadata": {},
          "output_type": "execute_result"
        }
      ],
      "source": [
        "data['Review_Type']"
      ]
    },
    {
      "cell_type": "code",
      "execution_count": null,
      "metadata": {
        "id": "f4il1VbM7PMk"
      },
      "outputs": [],
      "source": [
        "# Simple binary encoding\n",
        "data['Review_Type_Binary_Encoded'] = (data['Review_Type'] == 'Good_review').astype(int)\n",
        "# This gives: 'Good review' -> 1, 'Bad review' -> 0"
      ]
    },
    {
      "cell_type": "code",
      "execution_count": null,
      "metadata": {
        "colab": {
          "base_uri": "https://localhost:8080/",
          "height": 458
        },
        "id": "Fz7umRlY7PMk",
        "outputId": "e268d1ab-adbe-4f65-d7fd-6ed924972c89"
      },
      "outputs": [
        {
          "data": {
            "text/html": [
              "<div>\n",
              "<style scoped>\n",
              "    .dataframe tbody tr th:only-of-type {\n",
              "        vertical-align: middle;\n",
              "    }\n",
              "\n",
              "    .dataframe tbody tr th {\n",
              "        vertical-align: top;\n",
              "    }\n",
              "\n",
              "    .dataframe thead th {\n",
              "        text-align: right;\n",
              "    }\n",
              "</style>\n",
              "<table border=\"1\" class=\"dataframe\">\n",
              "  <thead>\n",
              "    <tr style=\"text-align: right;\">\n",
              "      <th></th>\n",
              "      <th>Review_Type_Binary_Encoded</th>\n",
              "    </tr>\n",
              "  </thead>\n",
              "  <tbody>\n",
              "    <tr>\n",
              "      <th>88526</th>\n",
              "      <td>0</td>\n",
              "    </tr>\n",
              "    <tr>\n",
              "      <th>42019</th>\n",
              "      <td>0</td>\n",
              "    </tr>\n",
              "    <tr>\n",
              "      <th>80574</th>\n",
              "      <td>0</td>\n",
              "    </tr>\n",
              "    <tr>\n",
              "      <th>27131</th>\n",
              "      <td>0</td>\n",
              "    </tr>\n",
              "    <tr>\n",
              "      <th>63857</th>\n",
              "      <td>0</td>\n",
              "    </tr>\n",
              "    <tr>\n",
              "      <th>...</th>\n",
              "      <td>...</td>\n",
              "    </tr>\n",
              "    <tr>\n",
              "      <th>11403</th>\n",
              "      <td>1</td>\n",
              "    </tr>\n",
              "    <tr>\n",
              "      <th>18169</th>\n",
              "      <td>1</td>\n",
              "    </tr>\n",
              "    <tr>\n",
              "      <th>15180</th>\n",
              "      <td>1</td>\n",
              "    </tr>\n",
              "    <tr>\n",
              "      <th>24929</th>\n",
              "      <td>1</td>\n",
              "    </tr>\n",
              "    <tr>\n",
              "      <th>61379</th>\n",
              "      <td>1</td>\n",
              "    </tr>\n",
              "  </tbody>\n",
              "</table>\n",
              "<p>13772 rows × 1 columns</p>\n",
              "</div><br><label><b>dtype:</b> int64</label>"
            ],
            "text/plain": [
              "88526    0\n",
              "42019    0\n",
              "80574    0\n",
              "27131    0\n",
              "63857    0\n",
              "        ..\n",
              "11403    1\n",
              "18169    1\n",
              "15180    1\n",
              "24929    1\n",
              "61379    1\n",
              "Name: Review_Type_Binary_Encoded, Length: 13772, dtype: int64"
            ]
          },
          "execution_count": 30,
          "metadata": {},
          "output_type": "execute_result"
        }
      ],
      "source": [
        "data['Review_Type_Binary_Encoded']"
      ]
    },
    {
      "cell_type": "code",
      "execution_count": null,
      "metadata": {
        "id": "mOCmJ-pM7PMk"
      },
      "outputs": [],
      "source": [
        "data = data.drop(columns =['Review_Type'])"
      ]
    },
    {
      "cell_type": "code",
      "execution_count": null,
      "metadata": {
        "colab": {
          "base_uri": "https://localhost:8080/"
        },
        "id": "OZ_kzFi27PMk",
        "outputId": "689e0e64-bc3a-4e00-d93e-31bbc352e673"
      },
      "outputs": [
        {
          "data": {
            "text/plain": [
              "Index(['Hotel_Address', 'Average_Score', 'Hotel_Name',\n",
              "       'Reviewer_number_reviews', 'Review_Score', 'Review_Processed',\n",
              "       'season_Fall', 'season_Spring', 'season_Summer', 'season_Winter',\n",
              "       'hotel_pop_High', 'hotel_pop_Low', 'hotel_pop_Medium-High',\n",
              "       'hotel_pop_Medium-Low', 'continent_United Kingdom', 'continent_Europe',\n",
              "       'continent_North America', 'continent_Middle East', 'continent_Asia',\n",
              "       'continent_Oceania', 'continent_Africa', 'continent_South America',\n",
              "       'continent_Other', 'continent_Central America',\n",
              "       'Review_Type_Binary_Encoded'],\n",
              "      dtype='object')"
            ]
          },
          "execution_count": 32,
          "metadata": {},
          "output_type": "execute_result"
        }
      ],
      "source": [
        "data.columns"
      ]
    },
    {
      "cell_type": "markdown",
      "metadata": {
        "id": "ZrSY4NBe7PMk"
      },
      "source": [
        "dropping columns I have said I would have not used in my exam.\n",
        "\n",
        "average_score was not defined in the exam paper sheet I don't know what it is"
      ]
    },
    {
      "cell_type": "code",
      "execution_count": null,
      "metadata": {
        "id": "Nf7Pm9qX7PMk"
      },
      "outputs": [],
      "source": [
        "data = data.drop(columns = ['Hotel_Address', 'Hotel_Name', 'Average_Score','Reviewer_number_reviews' ]) # average_score was not defined in the exam paper sheet I don't know what it is"
      ]
    },
    {
      "cell_type": "code",
      "execution_count": null,
      "metadata": {
        "colab": {
          "base_uri": "https://localhost:8080/",
          "height": 429
        },
        "id": "hz9h0d8v7PMk",
        "outputId": "beb8a5f0-6208-41b6-ec58-1cef623b8bc3"
      },
      "outputs": [
        {
          "data": {
            "application/vnd.google.colaboratory.intrinsic+json": {
              "type": "dataframe",
              "variable_name": "data"
            },
            "text/html": [
              "\n",
              "  <div id=\"df-ca6ea0de-73b3-44bc-9c85-832687815fe0\" class=\"colab-df-container\">\n",
              "    <div>\n",
              "<style scoped>\n",
              "    .dataframe tbody tr th:only-of-type {\n",
              "        vertical-align: middle;\n",
              "    }\n",
              "\n",
              "    .dataframe tbody tr th {\n",
              "        vertical-align: top;\n",
              "    }\n",
              "\n",
              "    .dataframe thead th {\n",
              "        text-align: right;\n",
              "    }\n",
              "</style>\n",
              "<table border=\"1\" class=\"dataframe\">\n",
              "  <thead>\n",
              "    <tr style=\"text-align: right;\">\n",
              "      <th></th>\n",
              "      <th>Review_Score</th>\n",
              "      <th>Review_Processed</th>\n",
              "      <th>season_Fall</th>\n",
              "      <th>season_Spring</th>\n",
              "      <th>season_Summer</th>\n",
              "      <th>season_Winter</th>\n",
              "      <th>hotel_pop_High</th>\n",
              "      <th>hotel_pop_Low</th>\n",
              "      <th>hotel_pop_Medium-High</th>\n",
              "      <th>hotel_pop_Medium-Low</th>\n",
              "      <th>...</th>\n",
              "      <th>continent_Europe</th>\n",
              "      <th>continent_North America</th>\n",
              "      <th>continent_Middle East</th>\n",
              "      <th>continent_Asia</th>\n",
              "      <th>continent_Oceania</th>\n",
              "      <th>continent_Africa</th>\n",
              "      <th>continent_South America</th>\n",
              "      <th>continent_Other</th>\n",
              "      <th>continent_Central America</th>\n",
              "      <th>Review_Type_Binary_Encoded</th>\n",
              "    </tr>\n",
              "  </thead>\n",
              "  <tbody>\n",
              "    <tr>\n",
              "      <th>88526</th>\n",
              "      <td>6.7</td>\n",
              "      <td>expensive room rate that didn t include parkin...</td>\n",
              "      <td>False</td>\n",
              "      <td>True</td>\n",
              "      <td>False</td>\n",
              "      <td>False</td>\n",
              "      <td>True</td>\n",
              "      <td>False</td>\n",
              "      <td>False</td>\n",
              "      <td>False</td>\n",
              "      <td>...</td>\n",
              "      <td>0</td>\n",
              "      <td>0</td>\n",
              "      <td>0</td>\n",
              "      <td>0</td>\n",
              "      <td>0</td>\n",
              "      <td>0</td>\n",
              "      <td>0</td>\n",
              "      <td>0</td>\n",
              "      <td>0</td>\n",
              "      <td>0</td>\n",
              "    </tr>\n",
              "    <tr>\n",
              "      <th>42019</th>\n",
              "      <td>5.8</td>\n",
              "      <td>bedroom basement no windows very small room ne...</td>\n",
              "      <td>False</td>\n",
              "      <td>False</td>\n",
              "      <td>True</td>\n",
              "      <td>False</td>\n",
              "      <td>False</td>\n",
              "      <td>False</td>\n",
              "      <td>False</td>\n",
              "      <td>True</td>\n",
              "      <td>...</td>\n",
              "      <td>0</td>\n",
              "      <td>0</td>\n",
              "      <td>0</td>\n",
              "      <td>0</td>\n",
              "      <td>0</td>\n",
              "      <td>0</td>\n",
              "      <td>0</td>\n",
              "      <td>0</td>\n",
              "      <td>0</td>\n",
              "      <td>0</td>\n",
              "    </tr>\n",
              "    <tr>\n",
              "      <th>80574</th>\n",
              "      <td>6.3</td>\n",
              "      <td>room ready makeover location</td>\n",
              "      <td>True</td>\n",
              "      <td>False</td>\n",
              "      <td>False</td>\n",
              "      <td>False</td>\n",
              "      <td>True</td>\n",
              "      <td>False</td>\n",
              "      <td>False</td>\n",
              "      <td>False</td>\n",
              "      <td>...</td>\n",
              "      <td>0</td>\n",
              "      <td>0</td>\n",
              "      <td>0</td>\n",
              "      <td>0</td>\n",
              "      <td>0</td>\n",
              "      <td>0</td>\n",
              "      <td>0</td>\n",
              "      <td>0</td>\n",
              "      <td>0</td>\n",
              "      <td>0</td>\n",
              "    </tr>\n",
              "    <tr>\n",
              "      <th>27131</th>\n",
              "      <td>5.8</td>\n",
              "      <td>firstly lady check desk was quite unfriendly s...</td>\n",
              "      <td>False</td>\n",
              "      <td>False</td>\n",
              "      <td>False</td>\n",
              "      <td>True</td>\n",
              "      <td>True</td>\n",
              "      <td>False</td>\n",
              "      <td>False</td>\n",
              "      <td>False</td>\n",
              "      <td>...</td>\n",
              "      <td>0</td>\n",
              "      <td>0</td>\n",
              "      <td>0</td>\n",
              "      <td>0</td>\n",
              "      <td>0</td>\n",
              "      <td>0</td>\n",
              "      <td>0</td>\n",
              "      <td>0</td>\n",
              "      <td>0</td>\n",
              "      <td>0</td>\n",
              "    </tr>\n",
              "    <tr>\n",
              "      <th>63857</th>\n",
              "      <td>3.3</td>\n",
              "      <td>not being able park my vehicle due staff filli...</td>\n",
              "      <td>False</td>\n",
              "      <td>False</td>\n",
              "      <td>True</td>\n",
              "      <td>False</td>\n",
              "      <td>False</td>\n",
              "      <td>True</td>\n",
              "      <td>False</td>\n",
              "      <td>False</td>\n",
              "      <td>...</td>\n",
              "      <td>0</td>\n",
              "      <td>0</td>\n",
              "      <td>0</td>\n",
              "      <td>0</td>\n",
              "      <td>0</td>\n",
              "      <td>0</td>\n",
              "      <td>0</td>\n",
              "      <td>0</td>\n",
              "      <td>0</td>\n",
              "      <td>0</td>\n",
              "    </tr>\n",
              "  </tbody>\n",
              "</table>\n",
              "<p>5 rows × 21 columns</p>\n",
              "</div>\n",
              "    <div class=\"colab-df-buttons\">\n",
              "\n",
              "  <div class=\"colab-df-container\">\n",
              "    <button class=\"colab-df-convert\" onclick=\"convertToInteractive('df-ca6ea0de-73b3-44bc-9c85-832687815fe0')\"\n",
              "            title=\"Convert this dataframe to an interactive table.\"\n",
              "            style=\"display:none;\">\n",
              "\n",
              "  <svg xmlns=\"http://www.w3.org/2000/svg\" height=\"24px\" viewBox=\"0 -960 960 960\">\n",
              "    <path d=\"M120-120v-720h720v720H120Zm60-500h600v-160H180v160Zm220 220h160v-160H400v160Zm0 220h160v-160H400v160ZM180-400h160v-160H180v160Zm440 0h160v-160H620v160ZM180-180h160v-160H180v160Zm440 0h160v-160H620v160Z\"/>\n",
              "  </svg>\n",
              "    </button>\n",
              "\n",
              "  <style>\n",
              "    .colab-df-container {\n",
              "      display:flex;\n",
              "      gap: 12px;\n",
              "    }\n",
              "\n",
              "    .colab-df-convert {\n",
              "      background-color: #E8F0FE;\n",
              "      border: none;\n",
              "      border-radius: 50%;\n",
              "      cursor: pointer;\n",
              "      display: none;\n",
              "      fill: #1967D2;\n",
              "      height: 32px;\n",
              "      padding: 0 0 0 0;\n",
              "      width: 32px;\n",
              "    }\n",
              "\n",
              "    .colab-df-convert:hover {\n",
              "      background-color: #E2EBFA;\n",
              "      box-shadow: 0px 1px 2px rgba(60, 64, 67, 0.3), 0px 1px 3px 1px rgba(60, 64, 67, 0.15);\n",
              "      fill: #174EA6;\n",
              "    }\n",
              "\n",
              "    .colab-df-buttons div {\n",
              "      margin-bottom: 4px;\n",
              "    }\n",
              "\n",
              "    [theme=dark] .colab-df-convert {\n",
              "      background-color: #3B4455;\n",
              "      fill: #D2E3FC;\n",
              "    }\n",
              "\n",
              "    [theme=dark] .colab-df-convert:hover {\n",
              "      background-color: #434B5C;\n",
              "      box-shadow: 0px 1px 3px 1px rgba(0, 0, 0, 0.15);\n",
              "      filter: drop-shadow(0px 1px 2px rgba(0, 0, 0, 0.3));\n",
              "      fill: #FFFFFF;\n",
              "    }\n",
              "  </style>\n",
              "\n",
              "    <script>\n",
              "      const buttonEl =\n",
              "        document.querySelector('#df-ca6ea0de-73b3-44bc-9c85-832687815fe0 button.colab-df-convert');\n",
              "      buttonEl.style.display =\n",
              "        google.colab.kernel.accessAllowed ? 'block' : 'none';\n",
              "\n",
              "      async function convertToInteractive(key) {\n",
              "        const element = document.querySelector('#df-ca6ea0de-73b3-44bc-9c85-832687815fe0');\n",
              "        const dataTable =\n",
              "          await google.colab.kernel.invokeFunction('convertToInteractive',\n",
              "                                                    [key], {});\n",
              "        if (!dataTable) return;\n",
              "\n",
              "        const docLinkHtml = 'Like what you see? Visit the ' +\n",
              "          '<a target=\"_blank\" href=https://colab.research.google.com/notebooks/data_table.ipynb>data table notebook</a>'\n",
              "          + ' to learn more about interactive tables.';\n",
              "        element.innerHTML = '';\n",
              "        dataTable['output_type'] = 'display_data';\n",
              "        await google.colab.output.renderOutput(dataTable, element);\n",
              "        const docLink = document.createElement('div');\n",
              "        docLink.innerHTML = docLinkHtml;\n",
              "        element.appendChild(docLink);\n",
              "      }\n",
              "    </script>\n",
              "  </div>\n",
              "\n",
              "\n",
              "    <div id=\"df-6442ec14-44d7-4605-9e5e-c234db97439d\">\n",
              "      <button class=\"colab-df-quickchart\" onclick=\"quickchart('df-6442ec14-44d7-4605-9e5e-c234db97439d')\"\n",
              "                title=\"Suggest charts\"\n",
              "                style=\"display:none;\">\n",
              "\n",
              "<svg xmlns=\"http://www.w3.org/2000/svg\" height=\"24px\"viewBox=\"0 0 24 24\"\n",
              "     width=\"24px\">\n",
              "    <g>\n",
              "        <path d=\"M19 3H5c-1.1 0-2 .9-2 2v14c0 1.1.9 2 2 2h14c1.1 0 2-.9 2-2V5c0-1.1-.9-2-2-2zM9 17H7v-7h2v7zm4 0h-2V7h2v10zm4 0h-2v-4h2v4z\"/>\n",
              "    </g>\n",
              "</svg>\n",
              "      </button>\n",
              "\n",
              "<style>\n",
              "  .colab-df-quickchart {\n",
              "      --bg-color: #E8F0FE;\n",
              "      --fill-color: #1967D2;\n",
              "      --hover-bg-color: #E2EBFA;\n",
              "      --hover-fill-color: #174EA6;\n",
              "      --disabled-fill-color: #AAA;\n",
              "      --disabled-bg-color: #DDD;\n",
              "  }\n",
              "\n",
              "  [theme=dark] .colab-df-quickchart {\n",
              "      --bg-color: #3B4455;\n",
              "      --fill-color: #D2E3FC;\n",
              "      --hover-bg-color: #434B5C;\n",
              "      --hover-fill-color: #FFFFFF;\n",
              "      --disabled-bg-color: #3B4455;\n",
              "      --disabled-fill-color: #666;\n",
              "  }\n",
              "\n",
              "  .colab-df-quickchart {\n",
              "    background-color: var(--bg-color);\n",
              "    border: none;\n",
              "    border-radius: 50%;\n",
              "    cursor: pointer;\n",
              "    display: none;\n",
              "    fill: var(--fill-color);\n",
              "    height: 32px;\n",
              "    padding: 0;\n",
              "    width: 32px;\n",
              "  }\n",
              "\n",
              "  .colab-df-quickchart:hover {\n",
              "    background-color: var(--hover-bg-color);\n",
              "    box-shadow: 0 1px 2px rgba(60, 64, 67, 0.3), 0 1px 3px 1px rgba(60, 64, 67, 0.15);\n",
              "    fill: var(--button-hover-fill-color);\n",
              "  }\n",
              "\n",
              "  .colab-df-quickchart-complete:disabled,\n",
              "  .colab-df-quickchart-complete:disabled:hover {\n",
              "    background-color: var(--disabled-bg-color);\n",
              "    fill: var(--disabled-fill-color);\n",
              "    box-shadow: none;\n",
              "  }\n",
              "\n",
              "  .colab-df-spinner {\n",
              "    border: 2px solid var(--fill-color);\n",
              "    border-color: transparent;\n",
              "    border-bottom-color: var(--fill-color);\n",
              "    animation:\n",
              "      spin 1s steps(1) infinite;\n",
              "  }\n",
              "\n",
              "  @keyframes spin {\n",
              "    0% {\n",
              "      border-color: transparent;\n",
              "      border-bottom-color: var(--fill-color);\n",
              "      border-left-color: var(--fill-color);\n",
              "    }\n",
              "    20% {\n",
              "      border-color: transparent;\n",
              "      border-left-color: var(--fill-color);\n",
              "      border-top-color: var(--fill-color);\n",
              "    }\n",
              "    30% {\n",
              "      border-color: transparent;\n",
              "      border-left-color: var(--fill-color);\n",
              "      border-top-color: var(--fill-color);\n",
              "      border-right-color: var(--fill-color);\n",
              "    }\n",
              "    40% {\n",
              "      border-color: transparent;\n",
              "      border-right-color: var(--fill-color);\n",
              "      border-top-color: var(--fill-color);\n",
              "    }\n",
              "    60% {\n",
              "      border-color: transparent;\n",
              "      border-right-color: var(--fill-color);\n",
              "    }\n",
              "    80% {\n",
              "      border-color: transparent;\n",
              "      border-right-color: var(--fill-color);\n",
              "      border-bottom-color: var(--fill-color);\n",
              "    }\n",
              "    90% {\n",
              "      border-color: transparent;\n",
              "      border-bottom-color: var(--fill-color);\n",
              "    }\n",
              "  }\n",
              "</style>\n",
              "\n",
              "      <script>\n",
              "        async function quickchart(key) {\n",
              "          const quickchartButtonEl =\n",
              "            document.querySelector('#' + key + ' button');\n",
              "          quickchartButtonEl.disabled = true;  // To prevent multiple clicks.\n",
              "          quickchartButtonEl.classList.add('colab-df-spinner');\n",
              "          try {\n",
              "            const charts = await google.colab.kernel.invokeFunction(\n",
              "                'suggestCharts', [key], {});\n",
              "          } catch (error) {\n",
              "            console.error('Error during call to suggestCharts:', error);\n",
              "          }\n",
              "          quickchartButtonEl.classList.remove('colab-df-spinner');\n",
              "          quickchartButtonEl.classList.add('colab-df-quickchart-complete');\n",
              "        }\n",
              "        (() => {\n",
              "          let quickchartButtonEl =\n",
              "            document.querySelector('#df-6442ec14-44d7-4605-9e5e-c234db97439d button');\n",
              "          quickchartButtonEl.style.display =\n",
              "            google.colab.kernel.accessAllowed ? 'block' : 'none';\n",
              "        })();\n",
              "      </script>\n",
              "    </div>\n",
              "\n",
              "    </div>\n",
              "  </div>\n"
            ],
            "text/plain": [
              "       Review_Score                                   Review_Processed  \\\n",
              "88526           6.7  expensive room rate that didn t include parkin...   \n",
              "42019           5.8  bedroom basement no windows very small room ne...   \n",
              "80574           6.3                       room ready makeover location   \n",
              "27131           5.8  firstly lady check desk was quite unfriendly s...   \n",
              "63857           3.3  not being able park my vehicle due staff filli...   \n",
              "\n",
              "       season_Fall  season_Spring  season_Summer  season_Winter  \\\n",
              "88526        False           True          False          False   \n",
              "42019        False          False           True          False   \n",
              "80574         True          False          False          False   \n",
              "27131        False          False          False           True   \n",
              "63857        False          False           True          False   \n",
              "\n",
              "       hotel_pop_High  hotel_pop_Low  hotel_pop_Medium-High  \\\n",
              "88526            True          False                  False   \n",
              "42019           False          False                  False   \n",
              "80574            True          False                  False   \n",
              "27131            True          False                  False   \n",
              "63857           False           True                  False   \n",
              "\n",
              "       hotel_pop_Medium-Low  ...  continent_Europe  continent_North America  \\\n",
              "88526                 False  ...                 0                        0   \n",
              "42019                  True  ...                 0                        0   \n",
              "80574                 False  ...                 0                        0   \n",
              "27131                 False  ...                 0                        0   \n",
              "63857                 False  ...                 0                        0   \n",
              "\n",
              "       continent_Middle East  continent_Asia  continent_Oceania  \\\n",
              "88526                      0               0                  0   \n",
              "42019                      0               0                  0   \n",
              "80574                      0               0                  0   \n",
              "27131                      0               0                  0   \n",
              "63857                      0               0                  0   \n",
              "\n",
              "       continent_Africa  continent_South America  continent_Other  \\\n",
              "88526                 0                        0                0   \n",
              "42019                 0                        0                0   \n",
              "80574                 0                        0                0   \n",
              "27131                 0                        0                0   \n",
              "63857                 0                        0                0   \n",
              "\n",
              "       continent_Central America  Review_Type_Binary_Encoded  \n",
              "88526                          0                           0  \n",
              "42019                          0                           0  \n",
              "80574                          0                           0  \n",
              "27131                          0                           0  \n",
              "63857                          0                           0  \n",
              "\n",
              "[5 rows x 21 columns]"
            ]
          },
          "execution_count": 34,
          "metadata": {},
          "output_type": "execute_result"
        }
      ],
      "source": [
        "data.head(5)"
      ]
    },
    {
      "cell_type": "markdown",
      "metadata": {
        "id": "ZcLiFJO57PMk"
      },
      "source": [
        "# 2b **INPUT SHAPE**"
      ]
    },
    {
      "cell_type": "markdown",
      "metadata": {
        "id": "nHdZXe_L7PMk"
      },
      "source": [
        "### **TEXT**"
      ]
    },
    {
      "cell_type": "markdown",
      "metadata": {
        "id": "c9JJqS6i7PMk"
      },
      "source": [
        "Converts preprocessed text reviews into integer sequences for the Embedding layer:\n",
        "1. Creates vocabulary from all unique words in the dataset\n",
        "2. Maps each word to a unique integer index\n",
        "3. Converts text reviews to sequences of integers\n",
        "4. Pads/truncates all sequences to fixed length (400) for neural network compatibility\n",
        "\n",
        "Following Lab 13 approach that I explicitly stated in the exam:  \n",
        "\n",
        "raw text → word indices → padded sequences → Embedding layer\n",
        "\n",
        "\n",
        "This creates the text input for the multi-input model's text processing branch."
      ]
    },
    {
      "cell_type": "code",
      "execution_count": null,
      "metadata": {
        "colab": {
          "base_uri": "https://localhost:8080/"
        },
        "id": "gGcw_Xs37PMk",
        "outputId": "2c609e0b-3f09-42f6-87d7-ef4309ab8f04"
      },
      "outputs": [
        {
          "name": "stdout",
          "output_type": "stream",
          "text": [
            "Unique words (vocabulary size): 11445\n",
            "Example word mappings: [('american', 0), ('hated', 1), ('dysfunctional', 2), ('respectively', 3), ('housekeeper', 4)]\n",
            "Maximum sequence length: 400\n",
            "\n",
            "Text input shape: (13772, 400)\n",
            "Text input type: <class 'numpy.ndarray'>\n",
            "Text input dtype: int64\n",
            "Value domain: integers from 0 to 11444\n",
            "Example sequence (first 20 tokens): [ 6894 11288  8189  2724  1157  6730  7073  3932  6588  4137 10579  7109\n",
            "  3932  4608 11136  4150  5450  9621     0     0]\n",
            "Average actual sequence length (before padding): 20.3\n",
            "Max actual sequence length: 400\n",
            "Min actual sequence length: 0\n",
            "tot_uniq_words: 11445\n",
            "MAX_SEQUENCE_LENGTH (like NPREV_WORDS): 400\n",
            "text_input.shape: (13772, 400)\n"
          ]
        }
      ],
      "source": [
        "# Use preprocessed reviews and split into words\n",
        "all_words = []\n",
        "reviews_as_word_lists = []\n",
        "\n",
        "for review in data['Review_Processed']:\n",
        "    words = review.split()  # Split preprocessed text back into word list\n",
        "    reviews_as_word_lists.append(words)\n",
        "    all_words.extend(words)\n",
        "\n",
        "# Create unique word index mapping\n",
        "unique_words = list(set(all_words))  # Get unique words\n",
        "tot_uniq_words = len(unique_words)\n",
        "unique_word_index = dict((word, i) for i, word in enumerate(unique_words))\n",
        "\n",
        "print(f\"Unique words (vocabulary size): {tot_uniq_words}\")\n",
        "print(f\"Example word mappings: {list(unique_word_index.items())[:5]}\")\n",
        "\n",
        "# Parameters\n",
        "MAX_SEQUENCE_LENGTH = 400\n",
        "print(f\"Maximum sequence length: {MAX_SEQUENCE_LENGTH}\")\n",
        "\n",
        "# Convert reviews to sequences of integers\n",
        "text_sequences = []\n",
        "for review_words in reviews_as_word_lists:\n",
        "    # Convert each word to its index\n",
        "    sequence = []\n",
        "    for word in review_words:\n",
        "        if word in unique_word_index:\n",
        "            sequence.append(unique_word_index[word])\n",
        "        # If word not in vocabulary, skip it\n",
        "\n",
        "    # Truncate or pad to MAX_SEQUENCE_LENGTH\n",
        "    if len(sequence) > MAX_SEQUENCE_LENGTH:\n",
        "        sequence = sequence[:MAX_SEQUENCE_LENGTH]  # Truncate\n",
        "    else:\n",
        "        # Pad with zeros at the end (padding='post')\n",
        "        sequence.extend([0] * (MAX_SEQUENCE_LENGTH - len(sequence)))\n",
        "\n",
        "    text_sequences.append(sequence)\n",
        "\n",
        "# Convert to numpy array )\n",
        "text_input = np.array(text_sequences)\n",
        "\n",
        "print(f\"\\nText input shape: {text_input.shape}\")\n",
        "print(f\"Text input type: {type(text_input)}\")\n",
        "print(f\"Text input dtype: {text_input.dtype}\")\n",
        "print(f\"Value domain: integers from 0 to {tot_uniq_words-1}\")\n",
        "print(f\"Example sequence (first 20 tokens): {text_input[0][:20]}\")\n",
        "\n",
        "# Check sequence statistics\n",
        "actual_lengths = []\n",
        "for seq in text_sequences:\n",
        "    # Count non-zero elements (actual words, not padding)\n",
        "    actual_length = len([x for x in seq if x != 0])\n",
        "    actual_lengths.append(actual_length)\n",
        "\n",
        "print(f\"Average actual sequence length (before padding): {np.mean(actual_lengths):.1f}\")\n",
        "print(f\"Max actual sequence length: {max(actual_lengths)}\")\n",
        "print(f\"Min actual sequence length: {min(actual_lengths)}\")\n",
        "\n",
        "\n",
        "print(f\"tot_uniq_words: {tot_uniq_words}\")\n",
        "print(f\"MAX_SEQUENCE_LENGTH (like NPREV_WORDS): {MAX_SEQUENCE_LENGTH}\")\n",
        "print(f\"text_input.shape: {text_input.shape}\")"
      ]
    },
    {
      "cell_type": "markdown",
      "metadata": {
        "id": "-pSqE4mZ7PMk"
      },
      "source": [
        "## **INPUT SHAPE TEXT (400,)**\n",
        "Tensor shape: (batch_size, 400)"
      ]
    },
    {
      "cell_type": "markdown",
      "metadata": {
        "id": "-s1NTi657PMl"
      },
      "source": [
        "## **CATEGORICAL FEATURES**\n"
      ]
    },
    {
      "cell_type": "markdown",
      "metadata": {
        "id": "NLjVWF787PMl"
      },
      "source": [
        "Aggregates all categorical features for the multi-input model's categorical branch:\n",
        "\n",
        "- Identifies feature groups by column name patterns (continent_, season_, hotel_pop_)\n",
        "- Collects all categorical columns into a single list\n",
        "- Reports feature counts for each preprocessing step\n",
        "\n",
        "Result: Creates the complete categorical feature set (continents + seasons + hotel popularity) that will feed into the Dense layers of the multi-input architecture."
      ]
    },
    {
      "cell_type": "code",
      "execution_count": null,
      "metadata": {
        "colab": {
          "base_uri": "https://localhost:8080/"
        },
        "id": "WN-HaADd7PMl",
        "outputId": "fc1e8483-9979-4e08-e1cd-a7a79ef1f2d3"
      },
      "outputs": [
        {
          "name": "stdout",
          "output_type": "stream",
          "text": [
            "Continent columns (10): ['continent_United Kingdom', 'continent_Europe', 'continent_North America', 'continent_Middle East', 'continent_Asia', 'continent_Oceania', 'continent_Africa', 'continent_South America', 'continent_Other', 'continent_Central America']\n",
            "Season columns (4): ['season_Fall', 'season_Spring', 'season_Summer', 'season_Winter']\n",
            "Hotel popularity columns (4): ['hotel_pop_High', 'hotel_pop_Low', 'hotel_pop_Medium-High', 'hotel_pop_Medium-Low']\n",
            "\n",
            "Total categorical columns: 18\n",
            "All categorical columns: ['continent_United Kingdom', 'continent_Europe', 'continent_North America', 'continent_Middle East', 'continent_Asia', 'continent_Oceania', 'continent_Africa', 'continent_South America', 'continent_Other', 'continent_Central America', 'season_Fall', 'season_Spring', 'season_Summer', 'season_Winter', 'hotel_pop_High', 'hotel_pop_Low', 'hotel_pop_Medium-High', 'hotel_pop_Medium-Low']\n"
          ]
        }
      ],
      "source": [
        "# Collect all categorical feature columns\n",
        "categorical_columns = []\n",
        "\n",
        "# Add continent columns\n",
        "continent_cols = [col for col in data.columns if 'continent_' in col]\n",
        "categorical_columns.extend(continent_cols)\n",
        "print(f\"Continent columns ({len(continent_cols)}): {continent_cols}\")\n",
        "\n",
        "# Add season columns\n",
        "season_cols = [col for col in data.columns if 'season_' in col]\n",
        "categorical_columns.extend(season_cols)\n",
        "print(f\"Season columns ({len(season_cols)}): {season_cols}\")\n",
        "\n",
        "# Add hotel popularity columns\n",
        "hotel_pop_cols = [col for col in data.columns if 'hotel_pop_' in col]\n",
        "categorical_columns.extend(hotel_pop_cols)\n",
        "print(f\"Hotel popularity columns ({len(hotel_pop_cols)}): {hotel_pop_cols}\")\n",
        "\n",
        "print(f\"\\nTotal categorical columns: {len(categorical_columns)}\")\n",
        "print(f\"All categorical columns: {categorical_columns}\")\n"
      ]
    },
    {
      "cell_type": "code",
      "execution_count": null,
      "metadata": {
        "id": "Wsu__lX17PMl"
      },
      "outputs": [],
      "source": [
        "# Extract categorical features as numpy array\n",
        "categorical_input = data[categorical_columns].values.astype(np.float32)\n"
      ]
    },
    {
      "cell_type": "code",
      "execution_count": null,
      "metadata": {
        "colab": {
          "base_uri": "https://localhost:8080/"
        },
        "id": "hmbbdONI7PMl",
        "outputId": "23332973-fbf0-443e-e3f5-a5d2f06eedfa"
      },
      "outputs": [
        {
          "name": "stdout",
          "output_type": "stream",
          "text": [
            "\n",
            "Categorical input shape: (13772, 18)\n",
            "Feature breakdown:\n",
            "- Continents: 10 features\n",
            "- Seasons: 4 features\n",
            "- Hotel popularity: 4 features\n",
            "- Total: 18 features\n"
          ]
        }
      ],
      "source": [
        "print(f\"\\nCategorical input shape: {categorical_input.shape}\")\n",
        "print(f\"Feature breakdown:\")\n",
        "print(f\"- Continents: {len(continent_cols)} features\")\n",
        "print(f\"- Seasons: {len(season_cols)} features\")\n",
        "print(f\"- Hotel popularity: {len(hotel_pop_cols)} features\")\n",
        "print(f\"- Total: {len(categorical_columns)} features\")"
      ]
    },
    {
      "cell_type": "markdown",
      "metadata": {
        "id": "93E11b2c7PMl"
      },
      "source": [
        "# **INPUT SHAPE CATEGORICAL ARRAY (18,)**\n",
        "Tensor shape: (batch_size, 18)"
      ]
    },
    {
      "cell_type": "markdown",
      "metadata": {
        "id": "oSJpjhgYChRG"
      },
      "source": [
        "I now know that features are 18 and I am able to define the dimension of the Input Vector for the categorical part, as I stated in the exam that dimension of the array was dependent on features (but I could not know how many features we would have had since we didn't have the data)\n",
        "\n",
        "on the other hand, I knew that the input size was 400 for the text since we had the data to  clearly know that it was the maximum number of words in a review."
      ]
    },
    {
      "cell_type": "markdown",
      "metadata": {
        "id": "GpLYri3d7PMl"
      },
      "source": [
        "# point 3, 4: output layer and loss function.  I will implement these after defining the complete model architecture to respect the Keras workflow\n"
      ]
    },
    {
      "cell_type": "markdown",
      "metadata": {
        "id": "Wzz9pOji7PMl"
      },
      "source": [
        "# **POINT 5 MODEL CONFIGURATION**"
      ]
    },
    {
      "cell_type": "markdown",
      "metadata": {
        "id": "0uVnozKg7PMl"
      },
      "source": [
        "Defines the input layer shapes for the multi-input model:\n",
        "\n",
        "- Text feature shape: (400,) - sequences of 400 integers for Embedding layer\n",
        "\n",
        "- Categorical feature shape: (18,) - 18 binary features (continents + seasons + hotel popularity)\n",
        "\n",
        "Then creates the Input layers:\n",
        "\n",
        "- Text input: dtype='int32' for word indices - handles large vocabularies efficiently. Text as float32 would Waste memory, indices should be integers.\n",
        "\n",
        "- Categorical input: dtype='float32' for binary features, because neural networks prefer float32 for computations. Even though values are 0/1, float32 enables smooth gradients\n",
        "\n",
        "These define the entry points for the model's two processing branches."
      ]
    },
    {
      "cell_type": "code",
      "execution_count": null,
      "metadata": {
        "id": "S8N1tOgf7PMl"
      },
      "outputs": [],
      "source": [
        "text_feature_shape = (MAX_SEQUENCE_LENGTH,)"
      ]
    },
    {
      "cell_type": "code",
      "execution_count": null,
      "metadata": {
        "colab": {
          "base_uri": "https://localhost:8080/"
        },
        "id": "PLT07ank7PMl",
        "outputId": "0ffcc303-2696-4986-e407-9197503c9fd0"
      },
      "outputs": [
        {
          "name": "stdout",
          "output_type": "stream",
          "text": [
            "(400,)\n"
          ]
        }
      ],
      "source": [
        "print(text_feature_shape)"
      ]
    },
    {
      "cell_type": "code",
      "execution_count": null,
      "metadata": {
        "id": "aup-lhTS7PMl"
      },
      "outputs": [],
      "source": [
        "categorical_feature_shape = (categorical_input.shape[1],)"
      ]
    },
    {
      "cell_type": "code",
      "execution_count": null,
      "metadata": {
        "colab": {
          "base_uri": "https://localhost:8080/"
        },
        "id": "NhC1Ftuo7PMl",
        "outputId": "88d4adfd-d0e4-4eea-c354-cfce76e162d8"
      },
      "outputs": [
        {
          "name": "stdout",
          "output_type": "stream",
          "text": [
            "(18,)\n"
          ]
        }
      ],
      "source": [
        "print(categorical_feature_shape)"
      ]
    },
    {
      "cell_type": "markdown",
      "metadata": {
        "id": "ysXLdSLi7PMl"
      },
      "source": [
        "## **TEXT BRANCH**"
      ]
    },
    {
      "cell_type": "markdown",
      "metadata": {
        "id": "qoGoYRcK7PMl"
      },
      "source": [
        "Creating the Input layers for the multi-input model:\n",
        "\n",
        "- Text input: Accepts integer sequences (shape: 400,) for word indices. These indices will be fed to the Embedding layer which converts them to dense vectors\n",
        "- Categorical input: Accepts float vectors (shape: 18,) for binary features"
      ]
    },
    {
      "cell_type": "code",
      "execution_count": null,
      "metadata": {
        "colab": {
          "base_uri": "https://localhost:8080/"
        },
        "id": "kZzotwX47PMl",
        "outputId": "681b91ed-72aa-4b21-8a40-59103ada82a9"
      },
      "outputs": [
        {
          "name": "stdout",
          "output_type": "stream",
          "text": [
            "Text input layer shape: (None, 400)\n",
            "Categorical input layer shape: (None, 18)\n"
          ]
        }
      ],
      "source": [
        "text_input_layer = Input(shape=text_feature_shape, dtype='int32', name=\"text_input\")\n",
        "categorical_input_layer = Input(shape=categorical_feature_shape, dtype='float32', name=\"categorical_input\")\n",
        "\n",
        "print(f\"Text input layer shape: {text_input_layer.shape}\")\n",
        "print(f\"Categorical input layer shape: {categorical_input_layer.shape}\")"
      ]
    },
    {
      "cell_type": "markdown",
      "metadata": {
        "id": "BQneFTB07PMl"
      },
      "source": [
        "I now import the Glorot Uniform initializer since I mentioned in the exam that I would have used it since I chose to use LSTM and tanh, although actually it is what Keras actually does with as defualt, for LSTM: kernel_initializer='glorot_uniform', but I will make it explicit nonetheless.\n",
        "\n",
        "in fact, Xavier/Glorot initialization was designed to solve the vanishing/exploding gradient problem by maintaining stable variance of activations and gradients across layers. This is particularly important for symmetric activation functions like tanh (range [-1,1]) as I wrote\n",
        "\n",
        "\n",
        "\n"
      ]
    },
    {
      "cell_type": "code",
      "execution_count": null,
      "metadata": {
        "id": "mPjo3WR97PMl"
      },
      "outputs": [],
      "source": [
        "initializer = GlorotUniform(seed=42)"
      ]
    },
    {
      "cell_type": "markdown",
      "metadata": {
        "id": "rElVCYtA7PMm"
      },
      "source": [
        "Here, I create the Embedding layer.\n",
        "\n",
        "input_dim: Vocabulary size (unique words in dataset)\n",
        "output_dim: 128-dimensional dense vectors for each word\n",
        "input_length: Fixed sequence length (400)\n",
        "\n",
        "Transforms: Word indices → Dense word vectors\n",
        "Output shape: (batch_size, 400, 128) - each of the 400 positions gets a 128-dimensional embedding vector."
      ]
    },
    {
      "cell_type": "code",
      "execution_count": null,
      "metadata": {
        "colab": {
          "base_uri": "https://localhost:8080/"
        },
        "id": "X78HhA_n7PMm",
        "outputId": "9c920ce7-9c4b-4093-a512-c0e1ca7664e7"
      },
      "outputs": [
        {
          "name": "stdout",
          "output_type": "stream",
          "text": [
            "Using vocabulary size: 11445\n",
            "Using embedding dimension: 128\n",
            "Using sequence length: 400\n"
          ]
        },
        {
          "name": "stderr",
          "output_type": "stream",
          "text": [
            "/usr/local/lib/python3.11/dist-packages/keras/src/layers/core/embedding.py:90: UserWarning: Argument `input_length` is deprecated. Just remove it.\n",
            "  warnings.warn(\n"
          ]
        },
        {
          "name": "stdout",
          "output_type": "stream",
          "text": [
            "After embedding: shape will be (batch_size, 400, 128)\n"
          ]
        }
      ],
      "source": [
        "embedding_dim = 128  # Choose embedding size\n",
        "print(f\"Using vocabulary size: {tot_uniq_words}\")\n",
        "print(f\"Using embedding dimension: {embedding_dim}\")\n",
        "print(f\"Using sequence length: {MAX_SEQUENCE_LENGTH}\")\n",
        "\n",
        "\n",
        "\n",
        "x1 = Embedding(input_dim=tot_uniq_words,\n",
        "               output_dim=embedding_dim,\n",
        "               input_length=MAX_SEQUENCE_LENGTH,\n",
        "               name=\"embedding\")(text_input_layer)\n",
        "\n",
        "print(f\"After embedding: shape will be (batch_size, {MAX_SEQUENCE_LENGTH}, {embedding_dim})\")"
      ]
    },
    {
      "cell_type": "markdown",
      "metadata": {
        "id": "pYumkY2z7PMm"
      },
      "source": [
        "This creates the LSTM layer exactly as I described in my exam answer:\n",
        "\n",
        "- Long Short-Term Memory: with its gate mechanisms, chosen to handle sequential text and avoid vanishing gradient problems\n",
        "- tanh activation: tanh(x) = (e^x - e^(-x)) / (e^x + e^(-x)) As specified in the exam - symmetric activation between -1 and 1, which I noted is \"actually great for our sentiment analysis task\" and LSTM gates.\n",
        "- 64 units: Number of neurons in the LSTM cell\n",
        "- Xavier/Glorot initialization: Following my exam suggestion for LSTM layers (although it is default)\n",
        "\n",
        "Purpose: Processes the 400-length sequences to capture \"long term memory\" of the entire review text, in order to keep track of the full text with equal importance.\n",
        "\n",
        "Output: Reduces from (batch_size, 400, 128) to (batch_size, 64) - single vector summarizing the entire review."
      ]
    },
    {
      "cell_type": "code",
      "execution_count": null,
      "metadata": {
        "id": "dQpdbV7c7PMm"
      },
      "outputs": [],
      "source": [
        "lstm_units = 64  # LSTM units\n",
        "x1 = LSTM(units=lstm_units,\n",
        "          activation='tanh',\n",
        "          kernel_initializer=initializer,\n",
        "          name=\"lstm\")(x1)\n"
      ]
    },
    {
      "cell_type": "markdown",
      "metadata": {
        "id": "fGF-wRgB7PMm"
      },
      "source": [
        "## **CATEGORICAL BRANCH**"
      ]
    },
    {
      "cell_type": "markdown",
      "metadata": {
        "id": "7tpS7c1T7PMm"
      },
      "source": [
        "This creates the categorical processing branch as I described in the exam:\n",
        "\n",
        "- Dense layers with ReLU: Following my exam answer for processing tabular data. As I wrote, I would use ReLU as max(0, z), and mentioned that \"although it is not differentiable in 0, it usually performs well in these tasks, in practice, we may experiment with variants as leaky relu etc - max(alfa*z, z)\"  to avoid the \"dead neuron problem\". (for time constraints, I will just use ReLU right now)\n",
        "- Multi-layer perceptron structure: As I wrote, no need for spatial relationships since it's categorical data\n",
        "- Dimensionality progression: 18 features → 32 → 16, creating learned representations\n",
        "\n",
        "Purpose: Processes the one-hot encoded categorical features (continents, seasons, hotel popularity) through fully connected layers for non-sequential data."
      ]
    },
    {
      "cell_type": "code",
      "execution_count": null,
      "metadata": {
        "colab": {
          "base_uri": "https://localhost:8080/"
        },
        "id": "7njsXDYe7PMm",
        "outputId": "6d9f074c-adb2-4335-cdb7-f16411ec9ee5"
      },
      "outputs": [
        {
          "name": "stdout",
          "output_type": "stream",
          "text": [
            "Categorical branch: (18,) → Dense(32) → Dense(16)\n"
          ]
        }
      ],
      "source": [
        "x2 = Dense(32, activation='relu', name=\"categorical_dense1\")(categorical_input_layer)\n",
        "x2 = Dense(16, activation='relu', name=\"categorical_dense2\")(x2)\n",
        "\n",
        "print(f\"Categorical branch: {categorical_feature_shape} → Dense(32) → Dense(16)\")\n"
      ]
    },
    {
      "cell_type": "markdown",
      "metadata": {
        "id": "We10PkHn7PMm"
      },
      "source": [
        "## **MERGING THROUGH CONCATENATION THE TWO BRANCHES**\n"
      ]
    },
    {
      "cell_type": "markdown",
      "metadata": {
        "id": "D5mpebDa7PMm"
      },
      "source": [
        "This implements the merging strategy from my exam answer:\n",
        "\n",
        "- Concatenation: Combines text features + categorical features = 80 total features\n",
        "- Additional processing: Dense layers to learn interactions between merged features\n",
        "- Dropout regularization: foe avoiding \"hyper-dependency on specific neurons\"\n",
        "- ReLU activation: Following my exam approach for dense layers, where I mentioned that although ReLU is not differentiable in 0, it empirically works well for these kind of problems.\n",
        "\n",
        "Purpose: Merges the two branches and allows the model to learn complex interactions between text sentiment and contextual features (seasonality, reviewer culture, hotel popularity) before final predictions."
      ]
    },
    {
      "cell_type": "code",
      "execution_count": null,
      "metadata": {
        "colab": {
          "base_uri": "https://localhost:8080/"
        },
        "id": "zX6fZf3U7PMm",
        "outputId": "9895e91c-bf9d-4c80-b7a9-a813708d8987"
      },
      "outputs": [
        {
          "name": "stdout",
          "output_type": "stream",
          "text": [
            "After concatenation: LSTM(64) + Dense(16) = 80 features\n"
          ]
        }
      ],
      "source": [
        "# Merge the two branches\n",
        "merged = Concatenate(name=\"concatenate\")([x1, x2])\n",
        "total_features = lstm_units + 16\n",
        "print(f\"After concatenation: LSTM({lstm_units}) + Dense(16) = {total_features} features\")\n",
        "\n",
        "# Additional processing layers\n",
        "merged = Dense(32, activation='relu', name=\"merged_dense1\")(merged)\n",
        "merged = Dropout(0.2, name=\"dropout\")(merged)\n",
        "merged = Dense(16, activation='relu', name=\"merged_dense2\")(merged)\n"
      ]
    },
    {
      "cell_type": "markdown",
      "metadata": {
        "id": "0eLjPveY7PMm"
      },
      "source": [
        "## **OUTPUT LAYER**"
      ]
    },
    {
      "cell_type": "markdown",
      "metadata": {
        "id": "3tceKWV-7PMm"
      },
      "source": [
        "This creates the **multi-output layers** exactly as I described in my exam answer:\n",
        "\n",
        "- **Classification output**: 1 neuron with sigmoid activation for binary classification (Good/Bad review), outputting probability 0-1\n",
        "- **Regression output**: 1 neuron with no activation (linear) for predicting continuous review score\n",
        "\n",
        "**Purpose**: Implements my design for simultaneous prediction of both review type and review score, which I stated requires different activation functions and loss functions for each task."
      ]
    },
    {
      "cell_type": "code",
      "execution_count": null,
      "metadata": {
        "colab": {
          "base_uri": "https://localhost:8080/"
        },
        "id": "bFStXfNC7PMm",
        "outputId": "6962c7c4-d8ca-41dd-82f4-7d2365c140ba"
      },
      "outputs": [
        {
          "name": "stdout",
          "output_type": "stream",
          "text": [
            "Classification output: 1 neuron with sigmoid activation\n",
            "Regression output: 1 neuron with no activation (linear)\n"
          ]
        }
      ],
      "source": [
        "# OUTPUT 1: Classification (Good/Bad review)\n",
        "classification_output = Dense(1, activation='sigmoid', name=\"classification_output\")(merged)\n",
        "print(\"Classification output: 1 neuron with sigmoid activation\")\n",
        "\n",
        "# OUTPUT 2: Regression (Review score)\n",
        "regression_output = Dense(1, activation=None, name=\"regression_output\")(merged)\n",
        "print(\"Regression output: 1 neuron with no activation (linear)\")"
      ]
    },
    {
      "cell_type": "markdown",
      "metadata": {
        "id": "XgREHQJb7PMm"
      },
      "source": [
        "## **MODEL**"
      ]
    },
    {
      "cell_type": "markdown",
      "metadata": {
        "id": "LKhwcyUa7PMm"
      },
      "source": [
        "This creates the complete multi-input, multi-output model using the Keras Functional API.\n",
        "\n",
        "- Inputs: Two branches (text + categorical) that we have just created.\n",
        "- Outputs: Two tasks (classification + regression) for simultaneous prediction\n",
        "- Architecture: Exactly matches my exam answer about needing Functional API instead of Sequential for multi-input/multi-output models\n",
        "\n",
        "Result: The complete neural network that can predict both review type and review score from text and categorical features."
      ]
    },
    {
      "cell_type": "code",
      "execution_count": null,
      "metadata": {
        "id": "KX8TcWqM7PMm"
      },
      "outputs": [],
      "source": [
        "model = Model(inputs=[text_input_layer, categorical_input_layer],\n",
        "              outputs=[classification_output, regression_output],\n",
        "              name='Multi_Input_Multi_Output_Review_Model')\n",
        "\n"
      ]
    },
    {
      "cell_type": "markdown",
      "metadata": {
        "id": "EVtK1WIK7PMm"
      },
      "source": [
        "i now plot the summary and plot it so that I can check everything, including input / output layer and sizes."
      ]
    },
    {
      "cell_type": "code",
      "execution_count": null,
      "metadata": {
        "colab": {
          "base_uri": "https://localhost:8080/",
          "height": 673
        },
        "id": "vEXlXVUR7PMm",
        "outputId": "a313543c-7e00-4c99-ffb5-737eeb726fc7"
      },
      "outputs": [
        {
          "data": {
            "text/html": [
              "<pre style=\"white-space:pre;overflow-x:auto;line-height:normal;font-family:Menlo,'DejaVu Sans Mono',consolas,'Courier New',monospace\"><span style=\"font-weight: bold\">Model: \"Multi_Input_Multi_Output_Review_Model\"</span>\n",
              "</pre>\n"
            ],
            "text/plain": [
              "\u001b[1mModel: \"Multi_Input_Multi_Output_Review_Model\"\u001b[0m\n"
            ]
          },
          "metadata": {},
          "output_type": "display_data"
        },
        {
          "data": {
            "text/html": [
              "<pre style=\"white-space:pre;overflow-x:auto;line-height:normal;font-family:Menlo,'DejaVu Sans Mono',consolas,'Courier New',monospace\">┏━━━━━━━━━━━━━━━━━━━━━┳━━━━━━━━━━━━━━━━━━━┳━━━━━━━━━━━━┳━━━━━━━━━━━━━━━━━━━┓\n",
              "┃<span style=\"font-weight: bold\"> Layer (type)        </span>┃<span style=\"font-weight: bold\"> Output Shape      </span>┃<span style=\"font-weight: bold\">    Param # </span>┃<span style=\"font-weight: bold\"> Connected to      </span>┃\n",
              "┡━━━━━━━━━━━━━━━━━━━━━╇━━━━━━━━━━━━━━━━━━━╇━━━━━━━━━━━━╇━━━━━━━━━━━━━━━━━━━┩\n",
              "│ text_input          │ (<span style=\"color: #00d7ff; text-decoration-color: #00d7ff\">None</span>, <span style=\"color: #00af00; text-decoration-color: #00af00\">400</span>)       │          <span style=\"color: #00af00; text-decoration-color: #00af00\">0</span> │ -                 │\n",
              "│ (<span style=\"color: #0087ff; text-decoration-color: #0087ff\">InputLayer</span>)        │                   │            │                   │\n",
              "├─────────────────────┼───────────────────┼────────────┼───────────────────┤\n",
              "│ categorical_input   │ (<span style=\"color: #00d7ff; text-decoration-color: #00d7ff\">None</span>, <span style=\"color: #00af00; text-decoration-color: #00af00\">18</span>)        │          <span style=\"color: #00af00; text-decoration-color: #00af00\">0</span> │ -                 │\n",
              "│ (<span style=\"color: #0087ff; text-decoration-color: #0087ff\">InputLayer</span>)        │                   │            │                   │\n",
              "├─────────────────────┼───────────────────┼────────────┼───────────────────┤\n",
              "│ embedding           │ (<span style=\"color: #00d7ff; text-decoration-color: #00d7ff\">None</span>, <span style=\"color: #00af00; text-decoration-color: #00af00\">400</span>, <span style=\"color: #00af00; text-decoration-color: #00af00\">128</span>)  │  <span style=\"color: #00af00; text-decoration-color: #00af00\">1,464,960</span> │ text_input[<span style=\"color: #00af00; text-decoration-color: #00af00\">0</span>][<span style=\"color: #00af00; text-decoration-color: #00af00\">0</span>]  │\n",
              "│ (<span style=\"color: #0087ff; text-decoration-color: #0087ff\">Embedding</span>)         │                   │            │                   │\n",
              "├─────────────────────┼───────────────────┼────────────┼───────────────────┤\n",
              "│ categorical_dense1  │ (<span style=\"color: #00d7ff; text-decoration-color: #00d7ff\">None</span>, <span style=\"color: #00af00; text-decoration-color: #00af00\">32</span>)        │        <span style=\"color: #00af00; text-decoration-color: #00af00\">608</span> │ categorical_inpu… │\n",
              "│ (<span style=\"color: #0087ff; text-decoration-color: #0087ff\">Dense</span>)             │                   │            │                   │\n",
              "├─────────────────────┼───────────────────┼────────────┼───────────────────┤\n",
              "│ lstm (<span style=\"color: #0087ff; text-decoration-color: #0087ff\">LSTM</span>)         │ (<span style=\"color: #00d7ff; text-decoration-color: #00d7ff\">None</span>, <span style=\"color: #00af00; text-decoration-color: #00af00\">64</span>)        │     <span style=\"color: #00af00; text-decoration-color: #00af00\">49,408</span> │ embedding[<span style=\"color: #00af00; text-decoration-color: #00af00\">0</span>][<span style=\"color: #00af00; text-decoration-color: #00af00\">0</span>]   │\n",
              "├─────────────────────┼───────────────────┼────────────┼───────────────────┤\n",
              "│ categorical_dense2  │ (<span style=\"color: #00d7ff; text-decoration-color: #00d7ff\">None</span>, <span style=\"color: #00af00; text-decoration-color: #00af00\">16</span>)        │        <span style=\"color: #00af00; text-decoration-color: #00af00\">528</span> │ categorical_dens… │\n",
              "│ (<span style=\"color: #0087ff; text-decoration-color: #0087ff\">Dense</span>)             │                   │            │                   │\n",
              "├─────────────────────┼───────────────────┼────────────┼───────────────────┤\n",
              "│ concatenate         │ (<span style=\"color: #00d7ff; text-decoration-color: #00d7ff\">None</span>, <span style=\"color: #00af00; text-decoration-color: #00af00\">80</span>)        │          <span style=\"color: #00af00; text-decoration-color: #00af00\">0</span> │ lstm[<span style=\"color: #00af00; text-decoration-color: #00af00\">0</span>][<span style=\"color: #00af00; text-decoration-color: #00af00\">0</span>],       │\n",
              "│ (<span style=\"color: #0087ff; text-decoration-color: #0087ff\">Concatenate</span>)       │                   │            │ categorical_dens… │\n",
              "├─────────────────────┼───────────────────┼────────────┼───────────────────┤\n",
              "│ merged_dense1       │ (<span style=\"color: #00d7ff; text-decoration-color: #00d7ff\">None</span>, <span style=\"color: #00af00; text-decoration-color: #00af00\">32</span>)        │      <span style=\"color: #00af00; text-decoration-color: #00af00\">2,592</span> │ concatenate[<span style=\"color: #00af00; text-decoration-color: #00af00\">0</span>][<span style=\"color: #00af00; text-decoration-color: #00af00\">0</span>] │\n",
              "│ (<span style=\"color: #0087ff; text-decoration-color: #0087ff\">Dense</span>)             │                   │            │                   │\n",
              "├─────────────────────┼───────────────────┼────────────┼───────────────────┤\n",
              "│ dropout (<span style=\"color: #0087ff; text-decoration-color: #0087ff\">Dropout</span>)   │ (<span style=\"color: #00d7ff; text-decoration-color: #00d7ff\">None</span>, <span style=\"color: #00af00; text-decoration-color: #00af00\">32</span>)        │          <span style=\"color: #00af00; text-decoration-color: #00af00\">0</span> │ merged_dense1[<span style=\"color: #00af00; text-decoration-color: #00af00\">0</span>]… │\n",
              "├─────────────────────┼───────────────────┼────────────┼───────────────────┤\n",
              "│ merged_dense2       │ (<span style=\"color: #00d7ff; text-decoration-color: #00d7ff\">None</span>, <span style=\"color: #00af00; text-decoration-color: #00af00\">16</span>)        │        <span style=\"color: #00af00; text-decoration-color: #00af00\">528</span> │ dropout[<span style=\"color: #00af00; text-decoration-color: #00af00\">0</span>][<span style=\"color: #00af00; text-decoration-color: #00af00\">0</span>]     │\n",
              "│ (<span style=\"color: #0087ff; text-decoration-color: #0087ff\">Dense</span>)             │                   │            │                   │\n",
              "├─────────────────────┼───────────────────┼────────────┼───────────────────┤\n",
              "│ classification_out… │ (<span style=\"color: #00d7ff; text-decoration-color: #00d7ff\">None</span>, <span style=\"color: #00af00; text-decoration-color: #00af00\">1</span>)         │         <span style=\"color: #00af00; text-decoration-color: #00af00\">17</span> │ merged_dense2[<span style=\"color: #00af00; text-decoration-color: #00af00\">0</span>]… │\n",
              "│ (<span style=\"color: #0087ff; text-decoration-color: #0087ff\">Dense</span>)             │                   │            │                   │\n",
              "├─────────────────────┼───────────────────┼────────────┼───────────────────┤\n",
              "│ regression_output   │ (<span style=\"color: #00d7ff; text-decoration-color: #00d7ff\">None</span>, <span style=\"color: #00af00; text-decoration-color: #00af00\">1</span>)         │         <span style=\"color: #00af00; text-decoration-color: #00af00\">17</span> │ merged_dense2[<span style=\"color: #00af00; text-decoration-color: #00af00\">0</span>]… │\n",
              "│ (<span style=\"color: #0087ff; text-decoration-color: #0087ff\">Dense</span>)             │                   │            │                   │\n",
              "└─────────────────────┴───────────────────┴────────────┴───────────────────┘\n",
              "</pre>\n"
            ],
            "text/plain": [
              "┏━━━━━━━━━━━━━━━━━━━━━┳━━━━━━━━━━━━━━━━━━━┳━━━━━━━━━━━━┳━━━━━━━━━━━━━━━━━━━┓\n",
              "┃\u001b[1m \u001b[0m\u001b[1mLayer (type)       \u001b[0m\u001b[1m \u001b[0m┃\u001b[1m \u001b[0m\u001b[1mOutput Shape     \u001b[0m\u001b[1m \u001b[0m┃\u001b[1m \u001b[0m\u001b[1m   Param #\u001b[0m\u001b[1m \u001b[0m┃\u001b[1m \u001b[0m\u001b[1mConnected to     \u001b[0m\u001b[1m \u001b[0m┃\n",
              "┡━━━━━━━━━━━━━━━━━━━━━╇━━━━━━━━━━━━━━━━━━━╇━━━━━━━━━━━━╇━━━━━━━━━━━━━━━━━━━┩\n",
              "│ text_input          │ (\u001b[38;5;45mNone\u001b[0m, \u001b[38;5;34m400\u001b[0m)       │          \u001b[38;5;34m0\u001b[0m │ -                 │\n",
              "│ (\u001b[38;5;33mInputLayer\u001b[0m)        │                   │            │                   │\n",
              "├─────────────────────┼───────────────────┼────────────┼───────────────────┤\n",
              "│ categorical_input   │ (\u001b[38;5;45mNone\u001b[0m, \u001b[38;5;34m18\u001b[0m)        │          \u001b[38;5;34m0\u001b[0m │ -                 │\n",
              "│ (\u001b[38;5;33mInputLayer\u001b[0m)        │                   │            │                   │\n",
              "├─────────────────────┼───────────────────┼────────────┼───────────────────┤\n",
              "│ embedding           │ (\u001b[38;5;45mNone\u001b[0m, \u001b[38;5;34m400\u001b[0m, \u001b[38;5;34m128\u001b[0m)  │  \u001b[38;5;34m1,464,960\u001b[0m │ text_input[\u001b[38;5;34m0\u001b[0m][\u001b[38;5;34m0\u001b[0m]  │\n",
              "│ (\u001b[38;5;33mEmbedding\u001b[0m)         │                   │            │                   │\n",
              "├─────────────────────┼───────────────────┼────────────┼───────────────────┤\n",
              "│ categorical_dense1  │ (\u001b[38;5;45mNone\u001b[0m, \u001b[38;5;34m32\u001b[0m)        │        \u001b[38;5;34m608\u001b[0m │ categorical_inpu… │\n",
              "│ (\u001b[38;5;33mDense\u001b[0m)             │                   │            │                   │\n",
              "├─────────────────────┼───────────────────┼────────────┼───────────────────┤\n",
              "│ lstm (\u001b[38;5;33mLSTM\u001b[0m)         │ (\u001b[38;5;45mNone\u001b[0m, \u001b[38;5;34m64\u001b[0m)        │     \u001b[38;5;34m49,408\u001b[0m │ embedding[\u001b[38;5;34m0\u001b[0m][\u001b[38;5;34m0\u001b[0m]   │\n",
              "├─────────────────────┼───────────────────┼────────────┼───────────────────┤\n",
              "│ categorical_dense2  │ (\u001b[38;5;45mNone\u001b[0m, \u001b[38;5;34m16\u001b[0m)        │        \u001b[38;5;34m528\u001b[0m │ categorical_dens… │\n",
              "│ (\u001b[38;5;33mDense\u001b[0m)             │                   │            │                   │\n",
              "├─────────────────────┼───────────────────┼────────────┼───────────────────┤\n",
              "│ concatenate         │ (\u001b[38;5;45mNone\u001b[0m, \u001b[38;5;34m80\u001b[0m)        │          \u001b[38;5;34m0\u001b[0m │ lstm[\u001b[38;5;34m0\u001b[0m][\u001b[38;5;34m0\u001b[0m],       │\n",
              "│ (\u001b[38;5;33mConcatenate\u001b[0m)       │                   │            │ categorical_dens… │\n",
              "├─────────────────────┼───────────────────┼────────────┼───────────────────┤\n",
              "│ merged_dense1       │ (\u001b[38;5;45mNone\u001b[0m, \u001b[38;5;34m32\u001b[0m)        │      \u001b[38;5;34m2,592\u001b[0m │ concatenate[\u001b[38;5;34m0\u001b[0m][\u001b[38;5;34m0\u001b[0m] │\n",
              "│ (\u001b[38;5;33mDense\u001b[0m)             │                   │            │                   │\n",
              "├─────────────────────┼───────────────────┼────────────┼───────────────────┤\n",
              "│ dropout (\u001b[38;5;33mDropout\u001b[0m)   │ (\u001b[38;5;45mNone\u001b[0m, \u001b[38;5;34m32\u001b[0m)        │          \u001b[38;5;34m0\u001b[0m │ merged_dense1[\u001b[38;5;34m0\u001b[0m]… │\n",
              "├─────────────────────┼───────────────────┼────────────┼───────────────────┤\n",
              "│ merged_dense2       │ (\u001b[38;5;45mNone\u001b[0m, \u001b[38;5;34m16\u001b[0m)        │        \u001b[38;5;34m528\u001b[0m │ dropout[\u001b[38;5;34m0\u001b[0m][\u001b[38;5;34m0\u001b[0m]     │\n",
              "│ (\u001b[38;5;33mDense\u001b[0m)             │                   │            │                   │\n",
              "├─────────────────────┼───────────────────┼────────────┼───────────────────┤\n",
              "│ classification_out… │ (\u001b[38;5;45mNone\u001b[0m, \u001b[38;5;34m1\u001b[0m)         │         \u001b[38;5;34m17\u001b[0m │ merged_dense2[\u001b[38;5;34m0\u001b[0m]… │\n",
              "│ (\u001b[38;5;33mDense\u001b[0m)             │                   │            │                   │\n",
              "├─────────────────────┼───────────────────┼────────────┼───────────────────┤\n",
              "│ regression_output   │ (\u001b[38;5;45mNone\u001b[0m, \u001b[38;5;34m1\u001b[0m)         │         \u001b[38;5;34m17\u001b[0m │ merged_dense2[\u001b[38;5;34m0\u001b[0m]… │\n",
              "│ (\u001b[38;5;33mDense\u001b[0m)             │                   │            │                   │\n",
              "└─────────────────────┴───────────────────┴────────────┴───────────────────┘\n"
            ]
          },
          "metadata": {},
          "output_type": "display_data"
        },
        {
          "data": {
            "text/html": [
              "<pre style=\"white-space:pre;overflow-x:auto;line-height:normal;font-family:Menlo,'DejaVu Sans Mono',consolas,'Courier New',monospace\"><span style=\"font-weight: bold\"> Total params: </span><span style=\"color: #00af00; text-decoration-color: #00af00\">1,518,658</span> (5.79 MB)\n",
              "</pre>\n"
            ],
            "text/plain": [
              "\u001b[1m Total params: \u001b[0m\u001b[38;5;34m1,518,658\u001b[0m (5.79 MB)\n"
            ]
          },
          "metadata": {},
          "output_type": "display_data"
        },
        {
          "data": {
            "text/html": [
              "<pre style=\"white-space:pre;overflow-x:auto;line-height:normal;font-family:Menlo,'DejaVu Sans Mono',consolas,'Courier New',monospace\"><span style=\"font-weight: bold\"> Trainable params: </span><span style=\"color: #00af00; text-decoration-color: #00af00\">1,518,658</span> (5.79 MB)\n",
              "</pre>\n"
            ],
            "text/plain": [
              "\u001b[1m Trainable params: \u001b[0m\u001b[38;5;34m1,518,658\u001b[0m (5.79 MB)\n"
            ]
          },
          "metadata": {},
          "output_type": "display_data"
        },
        {
          "data": {
            "text/html": [
              "<pre style=\"white-space:pre;overflow-x:auto;line-height:normal;font-family:Menlo,'DejaVu Sans Mono',consolas,'Courier New',monospace\"><span style=\"font-weight: bold\"> Non-trainable params: </span><span style=\"color: #00af00; text-decoration-color: #00af00\">0</span> (0.00 B)\n",
              "</pre>\n"
            ],
            "text/plain": [
              "\u001b[1m Non-trainable params: \u001b[0m\u001b[38;5;34m0\u001b[0m (0.00 B)\n"
            ]
          },
          "metadata": {},
          "output_type": "display_data"
        }
      ],
      "source": [
        "model.summary()"
      ]
    },
    {
      "cell_type": "code",
      "execution_count": null,
      "metadata": {
        "colab": {
          "base_uri": "https://localhost:8080/",
          "height": 1000
        },
        "id": "fD-TZhCk7PMm",
        "outputId": "76030aa7-a4a9-4293-a40c-0201229e4ec9"
      },
      "outputs": [
        {
          "data": {
            "image/png": "[encoded data removed]",
            "text/plain": [
              "<IPython.core.display.Image object>"
            ]
          },
          "execution_count": 52,
          "metadata": {},
          "output_type": "execute_result"
        }
      ],
      "source": [
        "from tensorflow.keras.utils import plot_model\n",
        "plot_model(model)\n",
        "\n"
      ]
    },
    {
      "cell_type": "markdown",
      "metadata": {
        "id": "iXLr7VI37PMm"
      },
      "source": []
    },
    {
      "cell_type": "markdown",
      "metadata": {
        "id": "l7nIvhHO7PMm"
      },
      "source": [
        "#  **TARGET**\n"
      ]
    },
    {
      "cell_type": "code",
      "execution_count": null,
      "metadata": {
        "colab": {
          "base_uri": "https://localhost:8080/",
          "height": 686
        },
        "id": "pdEn3PjI7PMn",
        "outputId": "f3360ab2-c3c0-4051-853d-294bd90d2c93"
      },
      "outputs": [
        {
          "data": {
            "application/vnd.google.colaboratory.intrinsic+json": {
              "type": "dataframe",
              "variable_name": "data"
            },
            "text/html": [
              "\n",
              "  <div id=\"df-a243c4c2-b429-490d-a3e2-8930f6b05a95\" class=\"colab-df-container\">\n",
              "    <div>\n",
              "<style scoped>\n",
              "    .dataframe tbody tr th:only-of-type {\n",
              "        vertical-align: middle;\n",
              "    }\n",
              "\n",
              "    .dataframe tbody tr th {\n",
              "        vertical-align: top;\n",
              "    }\n",
              "\n",
              "    .dataframe thead th {\n",
              "        text-align: right;\n",
              "    }\n",
              "</style>\n",
              "<table border=\"1\" class=\"dataframe\">\n",
              "  <thead>\n",
              "    <tr style=\"text-align: right;\">\n",
              "      <th></th>\n",
              "      <th>Review_Score</th>\n",
              "      <th>Review_Processed</th>\n",
              "      <th>season_Fall</th>\n",
              "      <th>season_Spring</th>\n",
              "      <th>season_Summer</th>\n",
              "      <th>season_Winter</th>\n",
              "      <th>hotel_pop_High</th>\n",
              "      <th>hotel_pop_Low</th>\n",
              "      <th>hotel_pop_Medium-High</th>\n",
              "      <th>hotel_pop_Medium-Low</th>\n",
              "      <th>...</th>\n",
              "      <th>continent_Europe</th>\n",
              "      <th>continent_North America</th>\n",
              "      <th>continent_Middle East</th>\n",
              "      <th>continent_Asia</th>\n",
              "      <th>continent_Oceania</th>\n",
              "      <th>continent_Africa</th>\n",
              "      <th>continent_South America</th>\n",
              "      <th>continent_Other</th>\n",
              "      <th>continent_Central America</th>\n",
              "      <th>Review_Type_Binary_Encoded</th>\n",
              "    </tr>\n",
              "  </thead>\n",
              "  <tbody>\n",
              "    <tr>\n",
              "      <th>88526</th>\n",
              "      <td>6.7</td>\n",
              "      <td>expensive room rate that didn t include parkin...</td>\n",
              "      <td>False</td>\n",
              "      <td>True</td>\n",
              "      <td>False</td>\n",
              "      <td>False</td>\n",
              "      <td>True</td>\n",
              "      <td>False</td>\n",
              "      <td>False</td>\n",
              "      <td>False</td>\n",
              "      <td>...</td>\n",
              "      <td>0</td>\n",
              "      <td>0</td>\n",
              "      <td>0</td>\n",
              "      <td>0</td>\n",
              "      <td>0</td>\n",
              "      <td>0</td>\n",
              "      <td>0</td>\n",
              "      <td>0</td>\n",
              "      <td>0</td>\n",
              "      <td>0</td>\n",
              "    </tr>\n",
              "    <tr>\n",
              "      <th>42019</th>\n",
              "      <td>5.8</td>\n",
              "      <td>bedroom basement no windows very small room ne...</td>\n",
              "      <td>False</td>\n",
              "      <td>False</td>\n",
              "      <td>True</td>\n",
              "      <td>False</td>\n",
              "      <td>False</td>\n",
              "      <td>False</td>\n",
              "      <td>False</td>\n",
              "      <td>True</td>\n",
              "      <td>...</td>\n",
              "      <td>0</td>\n",
              "      <td>0</td>\n",
              "      <td>0</td>\n",
              "      <td>0</td>\n",
              "      <td>0</td>\n",
              "      <td>0</td>\n",
              "      <td>0</td>\n",
              "      <td>0</td>\n",
              "      <td>0</td>\n",
              "      <td>0</td>\n",
              "    </tr>\n",
              "    <tr>\n",
              "      <th>80574</th>\n",
              "      <td>6.3</td>\n",
              "      <td>room ready makeover location</td>\n",
              "      <td>True</td>\n",
              "      <td>False</td>\n",
              "      <td>False</td>\n",
              "      <td>False</td>\n",
              "      <td>True</td>\n",
              "      <td>False</td>\n",
              "      <td>False</td>\n",
              "      <td>False</td>\n",
              "      <td>...</td>\n",
              "      <td>0</td>\n",
              "      <td>0</td>\n",
              "      <td>0</td>\n",
              "      <td>0</td>\n",
              "      <td>0</td>\n",
              "      <td>0</td>\n",
              "      <td>0</td>\n",
              "      <td>0</td>\n",
              "      <td>0</td>\n",
              "      <td>0</td>\n",
              "    </tr>\n",
              "    <tr>\n",
              "      <th>27131</th>\n",
              "      <td>5.8</td>\n",
              "      <td>firstly lady check desk was quite unfriendly s...</td>\n",
              "      <td>False</td>\n",
              "      <td>False</td>\n",
              "      <td>False</td>\n",
              "      <td>True</td>\n",
              "      <td>True</td>\n",
              "      <td>False</td>\n",
              "      <td>False</td>\n",
              "      <td>False</td>\n",
              "      <td>...</td>\n",
              "      <td>0</td>\n",
              "      <td>0</td>\n",
              "      <td>0</td>\n",
              "      <td>0</td>\n",
              "      <td>0</td>\n",
              "      <td>0</td>\n",
              "      <td>0</td>\n",
              "      <td>0</td>\n",
              "      <td>0</td>\n",
              "      <td>0</td>\n",
              "    </tr>\n",
              "    <tr>\n",
              "      <th>63857</th>\n",
              "      <td>3.3</td>\n",
              "      <td>not being able park my vehicle due staff filli...</td>\n",
              "      <td>False</td>\n",
              "      <td>False</td>\n",
              "      <td>True</td>\n",
              "      <td>False</td>\n",
              "      <td>False</td>\n",
              "      <td>True</td>\n",
              "      <td>False</td>\n",
              "      <td>False</td>\n",
              "      <td>...</td>\n",
              "      <td>0</td>\n",
              "      <td>0</td>\n",
              "      <td>0</td>\n",
              "      <td>0</td>\n",
              "      <td>0</td>\n",
              "      <td>0</td>\n",
              "      <td>0</td>\n",
              "      <td>0</td>\n",
              "      <td>0</td>\n",
              "      <td>0</td>\n",
              "    </tr>\n",
              "    <tr>\n",
              "      <th>...</th>\n",
              "      <td>...</td>\n",
              "      <td>...</td>\n",
              "      <td>...</td>\n",
              "      <td>...</td>\n",
              "      <td>...</td>\n",
              "      <td>...</td>\n",
              "      <td>...</td>\n",
              "      <td>...</td>\n",
              "      <td>...</td>\n",
              "      <td>...</td>\n",
              "      <td>...</td>\n",
              "      <td>...</td>\n",
              "      <td>...</td>\n",
              "      <td>...</td>\n",
              "      <td>...</td>\n",
              "      <td>...</td>\n",
              "      <td>...</td>\n",
              "      <td>...</td>\n",
              "      <td>...</td>\n",
              "      <td>...</td>\n",
              "      <td>...</td>\n",
              "    </tr>\n",
              "    <tr>\n",
              "      <th>11403</th>\n",
              "      <td>7.5</td>\n",
              "      <td>cleanliness room temperature location facilities</td>\n",
              "      <td>False</td>\n",
              "      <td>True</td>\n",
              "      <td>False</td>\n",
              "      <td>False</td>\n",
              "      <td>False</td>\n",
              "      <td>False</td>\n",
              "      <td>True</td>\n",
              "      <td>False</td>\n",
              "      <td>...</td>\n",
              "      <td>1</td>\n",
              "      <td>0</td>\n",
              "      <td>0</td>\n",
              "      <td>0</td>\n",
              "      <td>0</td>\n",
              "      <td>0</td>\n",
              "      <td>0</td>\n",
              "      <td>0</td>\n",
              "      <td>0</td>\n",
              "      <td>1</td>\n",
              "    </tr>\n",
              "    <tr>\n",
              "      <th>18169</th>\n",
              "      <td>8.8</td>\n",
              "      <td>cost parking location</td>\n",
              "      <td>True</td>\n",
              "      <td>False</td>\n",
              "      <td>False</td>\n",
              "      <td>False</td>\n",
              "      <td>False</td>\n",
              "      <td>False</td>\n",
              "      <td>True</td>\n",
              "      <td>False</td>\n",
              "      <td>...</td>\n",
              "      <td>0</td>\n",
              "      <td>0</td>\n",
              "      <td>0</td>\n",
              "      <td>0</td>\n",
              "      <td>0</td>\n",
              "      <td>0</td>\n",
              "      <td>0</td>\n",
              "      <td>0</td>\n",
              "      <td>0</td>\n",
              "      <td>1</td>\n",
              "    </tr>\n",
              "    <tr>\n",
              "      <th>15180</th>\n",
              "      <td>10.0</td>\n",
              "      <td>staff was very helpful</td>\n",
              "      <td>True</td>\n",
              "      <td>False</td>\n",
              "      <td>False</td>\n",
              "      <td>False</td>\n",
              "      <td>True</td>\n",
              "      <td>False</td>\n",
              "      <td>False</td>\n",
              "      <td>False</td>\n",
              "      <td>...</td>\n",
              "      <td>0</td>\n",
              "      <td>0</td>\n",
              "      <td>0</td>\n",
              "      <td>0</td>\n",
              "      <td>0</td>\n",
              "      <td>0</td>\n",
              "      <td>0</td>\n",
              "      <td>0</td>\n",
              "      <td>0</td>\n",
              "      <td>1</td>\n",
              "    </tr>\n",
              "    <tr>\n",
              "      <th>24929</th>\n",
              "      <td>10.0</td>\n",
              "      <td>tout home away from home</td>\n",
              "      <td>True</td>\n",
              "      <td>False</td>\n",
              "      <td>False</td>\n",
              "      <td>False</td>\n",
              "      <td>False</td>\n",
              "      <td>True</td>\n",
              "      <td>False</td>\n",
              "      <td>False</td>\n",
              "      <td>...</td>\n",
              "      <td>1</td>\n",
              "      <td>0</td>\n",
              "      <td>0</td>\n",
              "      <td>0</td>\n",
              "      <td>0</td>\n",
              "      <td>0</td>\n",
              "      <td>0</td>\n",
              "      <td>0</td>\n",
              "      <td>0</td>\n",
              "      <td>1</td>\n",
              "    </tr>\n",
              "    <tr>\n",
              "      <th>61379</th>\n",
              "      <td>7.1</td>\n",
              "      <td>there is no business center</td>\n",
              "      <td>False</td>\n",
              "      <td>True</td>\n",
              "      <td>False</td>\n",
              "      <td>False</td>\n",
              "      <td>True</td>\n",
              "      <td>False</td>\n",
              "      <td>False</td>\n",
              "      <td>False</td>\n",
              "      <td>...</td>\n",
              "      <td>0</td>\n",
              "      <td>0</td>\n",
              "      <td>1</td>\n",
              "      <td>0</td>\n",
              "      <td>0</td>\n",
              "      <td>0</td>\n",
              "      <td>0</td>\n",
              "      <td>0</td>\n",
              "      <td>0</td>\n",
              "      <td>1</td>\n",
              "    </tr>\n",
              "  </tbody>\n",
              "</table>\n",
              "<p>13772 rows × 21 columns</p>\n",
              "</div>\n",
              "    <div class=\"colab-df-buttons\">\n",
              "\n",
              "  <div class=\"colab-df-container\">\n",
              "    <button class=\"colab-df-convert\" onclick=\"convertToInteractive('df-a243c4c2-b429-490d-a3e2-8930f6b05a95')\"\n",
              "            title=\"Convert this dataframe to an interactive table.\"\n",
              "            style=\"display:none;\">\n",
              "\n",
              "  <svg xmlns=\"http://www.w3.org/2000/svg\" height=\"24px\" viewBox=\"0 -960 960 960\">\n",
              "    <path d=\"M120-120v-720h720v720H120Zm60-500h600v-160H180v160Zm220 220h160v-160H400v160Zm0 220h160v-160H400v160ZM180-400h160v-160H180v160Zm440 0h160v-160H620v160ZM180-180h160v-160H180v160Zm440 0h160v-160H620v160Z\"/>\n",
              "  </svg>\n",
              "    </button>\n",
              "\n",
              "  <style>\n",
              "    .colab-df-container {\n",
              "      display:flex;\n",
              "      gap: 12px;\n",
              "    }\n",
              "\n",
              "    .colab-df-convert {\n",
              "      background-color: #E8F0FE;\n",
              "      border: none;\n",
              "      border-radius: 50%;\n",
              "      cursor: pointer;\n",
              "      display: none;\n",
              "      fill: #1967D2;\n",
              "      height: 32px;\n",
              "      padding: 0 0 0 0;\n",
              "      width: 32px;\n",
              "    }\n",
              "\n",
              "    .colab-df-convert:hover {\n",
              "      background-color: #E2EBFA;\n",
              "      box-shadow: 0px 1px 2px rgba(60, 64, 67, 0.3), 0px 1px 3px 1px rgba(60, 64, 67, 0.15);\n",
              "      fill: #174EA6;\n",
              "    }\n",
              "\n",
              "    .colab-df-buttons div {\n",
              "      margin-bottom: 4px;\n",
              "    }\n",
              "\n",
              "    [theme=dark] .colab-df-convert {\n",
              "      background-color: #3B4455;\n",
              "      fill: #D2E3FC;\n",
              "    }\n",
              "\n",
              "    [theme=dark] .colab-df-convert:hover {\n",
              "      background-color: #434B5C;\n",
              "      box-shadow: 0px 1px 3px 1px rgba(0, 0, 0, 0.15);\n",
              "      filter: drop-shadow(0px 1px 2px rgba(0, 0, 0, 0.3));\n",
              "      fill: #FFFFFF;\n",
              "    }\n",
              "  </style>\n",
              "\n",
              "    <script>\n",
              "      const buttonEl =\n",
              "        document.querySelector('#df-a243c4c2-b429-490d-a3e2-8930f6b05a95 button.colab-df-convert');\n",
              "      buttonEl.style.display =\n",
              "        google.colab.kernel.accessAllowed ? 'block' : 'none';\n",
              "\n",
              "      async function convertToInteractive(key) {\n",
              "        const element = document.querySelector('#df-a243c4c2-b429-490d-a3e2-8930f6b05a95');\n",
              "        const dataTable =\n",
              "          await google.colab.kernel.invokeFunction('convertToInteractive',\n",
              "                                                    [key], {});\n",
              "        if (!dataTable) return;\n",
              "\n",
              "        const docLinkHtml = 'Like what you see? Visit the ' +\n",
              "          '<a target=\"_blank\" href=https://colab.research.google.com/notebooks/data_table.ipynb>data table notebook</a>'\n",
              "          + ' to learn more about interactive tables.';\n",
              "        element.innerHTML = '';\n",
              "        dataTable['output_type'] = 'display_data';\n",
              "        await google.colab.output.renderOutput(dataTable, element);\n",
              "        const docLink = document.createElement('div');\n",
              "        docLink.innerHTML = docLinkHtml;\n",
              "        element.appendChild(docLink);\n",
              "      }\n",
              "    </script>\n",
              "  </div>\n",
              "\n",
              "\n",
              "    <div id=\"df-2621737e-53d8-444a-8143-3299b7715593\">\n",
              "      <button class=\"colab-df-quickchart\" onclick=\"quickchart('df-2621737e-53d8-444a-8143-3299b7715593')\"\n",
              "                title=\"Suggest charts\"\n",
              "                style=\"display:none;\">\n",
              "\n",
              "<svg xmlns=\"http://www.w3.org/2000/svg\" height=\"24px\"viewBox=\"0 0 24 24\"\n",
              "     width=\"24px\">\n",
              "    <g>\n",
              "        <path d=\"M19 3H5c-1.1 0-2 .9-2 2v14c0 1.1.9 2 2 2h14c1.1 0 2-.9 2-2V5c0-1.1-.9-2-2-2zM9 17H7v-7h2v7zm4 0h-2V7h2v10zm4 0h-2v-4h2v4z\"/>\n",
              "    </g>\n",
              "</svg>\n",
              "      </button>\n",
              "\n",
              "<style>\n",
              "  .colab-df-quickchart {\n",
              "      --bg-color: #E8F0FE;\n",
              "      --fill-color: #1967D2;\n",
              "      --hover-bg-color: #E2EBFA;\n",
              "      --hover-fill-color: #174EA6;\n",
              "      --disabled-fill-color: #AAA;\n",
              "      --disabled-bg-color: #DDD;\n",
              "  }\n",
              "\n",
              "  [theme=dark] .colab-df-quickchart {\n",
              "      --bg-color: #3B4455;\n",
              "      --fill-color: #D2E3FC;\n",
              "      --hover-bg-color: #434B5C;\n",
              "      --hover-fill-color: #FFFFFF;\n",
              "      --disabled-bg-color: #3B4455;\n",
              "      --disabled-fill-color: #666;\n",
              "  }\n",
              "\n",
              "  .colab-df-quickchart {\n",
              "    background-color: var(--bg-color);\n",
              "    border: none;\n",
              "    border-radius: 50%;\n",
              "    cursor: pointer;\n",
              "    display: none;\n",
              "    fill: var(--fill-color);\n",
              "    height: 32px;\n",
              "    padding: 0;\n",
              "    width: 32px;\n",
              "  }\n",
              "\n",
              "  .colab-df-quickchart:hover {\n",
              "    background-color: var(--hover-bg-color);\n",
              "    box-shadow: 0 1px 2px rgba(60, 64, 67, 0.3), 0 1px 3px 1px rgba(60, 64, 67, 0.15);\n",
              "    fill: var(--button-hover-fill-color);\n",
              "  }\n",
              "\n",
              "  .colab-df-quickchart-complete:disabled,\n",
              "  .colab-df-quickchart-complete:disabled:hover {\n",
              "    background-color: var(--disabled-bg-color);\n",
              "    fill: var(--disabled-fill-color);\n",
              "    box-shadow: none;\n",
              "  }\n",
              "\n",
              "  .colab-df-spinner {\n",
              "    border: 2px solid var(--fill-color);\n",
              "    border-color: transparent;\n",
              "    border-bottom-color: var(--fill-color);\n",
              "    animation:\n",
              "      spin 1s steps(1) infinite;\n",
              "  }\n",
              "\n",
              "  @keyframes spin {\n",
              "    0% {\n",
              "      border-color: transparent;\n",
              "      border-bottom-color: var(--fill-color);\n",
              "      border-left-color: var(--fill-color);\n",
              "    }\n",
              "    20% {\n",
              "      border-color: transparent;\n",
              "      border-left-color: var(--fill-color);\n",
              "      border-top-color: var(--fill-color);\n",
              "    }\n",
              "    30% {\n",
              "      border-color: transparent;\n",
              "      border-left-color: var(--fill-color);\n",
              "      border-top-color: var(--fill-color);\n",
              "      border-right-color: var(--fill-color);\n",
              "    }\n",
              "    40% {\n",
              "      border-color: transparent;\n",
              "      border-right-color: var(--fill-color);\n",
              "      border-top-color: var(--fill-color);\n",
              "    }\n",
              "    60% {\n",
              "      border-color: transparent;\n",
              "      border-right-color: var(--fill-color);\n",
              "    }\n",
              "    80% {\n",
              "      border-color: transparent;\n",
              "      border-right-color: var(--fill-color);\n",
              "      border-bottom-color: var(--fill-color);\n",
              "    }\n",
              "    90% {\n",
              "      border-color: transparent;\n",
              "      border-bottom-color: var(--fill-color);\n",
              "    }\n",
              "  }\n",
              "</style>\n",
              "\n",
              "      <script>\n",
              "        async function quickchart(key) {\n",
              "          const quickchartButtonEl =\n",
              "            document.querySelector('#' + key + ' button');\n",
              "          quickchartButtonEl.disabled = true;  // To prevent multiple clicks.\n",
              "          quickchartButtonEl.classList.add('colab-df-spinner');\n",
              "          try {\n",
              "            const charts = await google.colab.kernel.invokeFunction(\n",
              "                'suggestCharts', [key], {});\n",
              "          } catch (error) {\n",
              "            console.error('Error during call to suggestCharts:', error);\n",
              "          }\n",
              "          quickchartButtonEl.classList.remove('colab-df-spinner');\n",
              "          quickchartButtonEl.classList.add('colab-df-quickchart-complete');\n",
              "        }\n",
              "        (() => {\n",
              "          let quickchartButtonEl =\n",
              "            document.querySelector('#df-2621737e-53d8-444a-8143-3299b7715593 button');\n",
              "          quickchartButtonEl.style.display =\n",
              "            google.colab.kernel.accessAllowed ? 'block' : 'none';\n",
              "        })();\n",
              "      </script>\n",
              "    </div>\n",
              "\n",
              "  <div id=\"id_bdc8b88d-5094-4512-9b9b-99ddbb527173\">\n",
              "    <style>\n",
              "      .colab-df-generate {\n",
              "        background-color: #E8F0FE;\n",
              "        border: none;\n",
              "        border-radius: 50%;\n",
              "        cursor: pointer;\n",
              "        display: none;\n",
              "        fill: #1967D2;\n",
              "        height: 32px;\n",
              "        padding: 0 0 0 0;\n",
              "        width: 32px;\n",
              "      }\n",
              "\n",
              "      .colab-df-generate:hover {\n",
              "        background-color: #E2EBFA;\n",
              "        box-shadow: 0px 1px 2px rgba(60, 64, 67, 0.3), 0px 1px 3px 1px rgba(60, 64, 67, 0.15);\n",
              "        fill: #174EA6;\n",
              "      }\n",
              "\n",
              "      [theme=dark] .colab-df-generate {\n",
              "        background-color: #3B4455;\n",
              "        fill: #D2E3FC;\n",
              "      }\n",
              "\n",
              "      [theme=dark] .colab-df-generate:hover {\n",
              "        background-color: #434B5C;\n",
              "        box-shadow: 0px 1px 3px 1px rgba(0, 0, 0, 0.15);\n",
              "        filter: drop-shadow(0px 1px 2px rgba(0, 0, 0, 0.3));\n",
              "        fill: #FFFFFF;\n",
              "      }\n",
              "    </style>\n",
              "    <button class=\"colab-df-generate\" onclick=\"generateWithVariable('data')\"\n",
              "            title=\"Generate code using this dataframe.\"\n",
              "            style=\"display:none;\">\n",
              "\n",
              "  <svg xmlns=\"http://www.w3.org/2000/svg\" height=\"24px\"viewBox=\"0 0 24 24\"\n",
              "       width=\"24px\">\n",
              "    <path d=\"M7,19H8.4L18.45,9,17,7.55,7,17.6ZM5,21V16.75L18.45,3.32a2,2,0,0,1,2.83,0l1.4,1.43a1.91,1.91,0,0,1,.58,1.4,1.91,1.91,0,0,1-.58,1.4L9.25,21ZM18.45,9,17,7.55Zm-12,3A5.31,5.31,0,0,0,4.9,8.1,5.31,5.31,0,0,0,1,6.5,5.31,5.31,0,0,0,4.9,4.9,5.31,5.31,0,0,0,6.5,1,5.31,5.31,0,0,0,8.1,4.9,5.31,5.31,0,0,0,12,6.5,5.46,5.46,0,0,0,6.5,12Z\"/>\n",
              "  </svg>\n",
              "    </button>\n",
              "    <script>\n",
              "      (() => {\n",
              "      const buttonEl =\n",
              "        document.querySelector('#id_bdc8b88d-5094-4512-9b9b-99ddbb527173 button.colab-df-generate');\n",
              "      buttonEl.style.display =\n",
              "        google.colab.kernel.accessAllowed ? 'block' : 'none';\n",
              "\n",
              "      buttonEl.onclick = () => {\n",
              "        google.colab.notebook.generateWithVariable('data');\n",
              "      }\n",
              "      })();\n",
              "    </script>\n",
              "  </div>\n",
              "\n",
              "    </div>\n",
              "  </div>\n"
            ],
            "text/plain": [
              "       Review_Score                                   Review_Processed  \\\n",
              "88526           6.7  expensive room rate that didn t include parkin...   \n",
              "42019           5.8  bedroom basement no windows very small room ne...   \n",
              "80574           6.3                       room ready makeover location   \n",
              "27131           5.8  firstly lady check desk was quite unfriendly s...   \n",
              "63857           3.3  not being able park my vehicle due staff filli...   \n",
              "...             ...                                                ...   \n",
              "11403           7.5   cleanliness room temperature location facilities   \n",
              "18169           8.8                              cost parking location   \n",
              "15180          10.0                             staff was very helpful   \n",
              "24929          10.0                           tout home away from home   \n",
              "61379           7.1                        there is no business center   \n",
              "\n",
              "       season_Fall  season_Spring  season_Summer  season_Winter  \\\n",
              "88526        False           True          False          False   \n",
              "42019        False          False           True          False   \n",
              "80574         True          False          False          False   \n",
              "27131        False          False          False           True   \n",
              "63857        False          False           True          False   \n",
              "...            ...            ...            ...            ...   \n",
              "11403        False           True          False          False   \n",
              "18169         True          False          False          False   \n",
              "15180         True          False          False          False   \n",
              "24929         True          False          False          False   \n",
              "61379        False           True          False          False   \n",
              "\n",
              "       hotel_pop_High  hotel_pop_Low  hotel_pop_Medium-High  \\\n",
              "88526            True          False                  False   \n",
              "42019           False          False                  False   \n",
              "80574            True          False                  False   \n",
              "27131            True          False                  False   \n",
              "63857           False           True                  False   \n",
              "...               ...            ...                    ...   \n",
              "11403           False          False                   True   \n",
              "18169           False          False                   True   \n",
              "15180            True          False                  False   \n",
              "24929           False           True                  False   \n",
              "61379            True          False                  False   \n",
              "\n",
              "       hotel_pop_Medium-Low  ...  continent_Europe  continent_North America  \\\n",
              "88526                 False  ...                 0                        0   \n",
              "42019                  True  ...                 0                        0   \n",
              "80574                 False  ...                 0                        0   \n",
              "27131                 False  ...                 0                        0   \n",
              "63857                 False  ...                 0                        0   \n",
              "...                     ...  ...               ...                      ...   \n",
              "11403                 False  ...                 1                        0   \n",
              "18169                 False  ...                 0                        0   \n",
              "15180                 False  ...                 0                        0   \n",
              "24929                 False  ...                 1                        0   \n",
              "61379                 False  ...                 0                        0   \n",
              "\n",
              "       continent_Middle East  continent_Asia  continent_Oceania  \\\n",
              "88526                      0               0                  0   \n",
              "42019                      0               0                  0   \n",
              "80574                      0               0                  0   \n",
              "27131                      0               0                  0   \n",
              "63857                      0               0                  0   \n",
              "...                      ...             ...                ...   \n",
              "11403                      0               0                  0   \n",
              "18169                      0               0                  0   \n",
              "15180                      0               0                  0   \n",
              "24929                      0               0                  0   \n",
              "61379                      1               0                  0   \n",
              "\n",
              "       continent_Africa  continent_South America  continent_Other  \\\n",
              "88526                 0                        0                0   \n",
              "42019                 0                        0                0   \n",
              "80574                 0                        0                0   \n",
              "27131                 0                        0                0   \n",
              "63857                 0                        0                0   \n",
              "...                 ...                      ...              ...   \n",
              "11403                 0                        0                0   \n",
              "18169                 0                        0                0   \n",
              "15180                 0                        0                0   \n",
              "24929                 0                        0                0   \n",
              "61379                 0                        0                0   \n",
              "\n",
              "       continent_Central America  Review_Type_Binary_Encoded  \n",
              "88526                          0                           0  \n",
              "42019                          0                           0  \n",
              "80574                          0                           0  \n",
              "27131                          0                           0  \n",
              "63857                          0                           0  \n",
              "...                          ...                         ...  \n",
              "11403                          0                           1  \n",
              "18169                          0                           1  \n",
              "15180                          0                           1  \n",
              "24929                          0                           1  \n",
              "61379                          0                           1  \n",
              "\n",
              "[13772 rows x 21 columns]"
            ]
          },
          "execution_count": 53,
          "metadata": {},
          "output_type": "execute_result"
        }
      ],
      "source": [
        "data"
      ]
    },
    {
      "cell_type": "markdown",
      "metadata": {
        "id": "8UedoRUq7PMn"
      },
      "source": [
        "I will rename my classification / regression targets, that I already encoded for clearer naming when modeling, ensuring correct data types and verifying target distributions before training for both my classification and regression target."
      ]
    },
    {
      "cell_type": "code",
      "execution_count": null,
      "metadata": {
        "colab": {
          "base_uri": "https://localhost:8080/"
        },
        "id": "RaIzpbaH7PMn",
        "outputId": "5c2655a4-2e33-4043-ca8d-dfef616713a2"
      },
      "outputs": [
        {
          "name": "stdout",
          "output_type": "stream",
          "text": [
            "Classification target shape: (13772,)\n",
            "Classification target type: int32\n",
            "Class distribution: [6888 6884]\n"
          ]
        }
      ],
      "source": [
        "# Classification target (Good/Bad review)\n",
        "classification_target = (data['Review_Type_Binary_Encoded']).astype(np.int32)\n",
        "print(f\"Classification target shape: {classification_target.shape}\")\n",
        "print(f\"Classification target type: {classification_target.dtype}\")\n",
        "print(f\"Class distribution: {np.bincount(classification_target)}\")\n",
        "\n"
      ]
    },
    {
      "cell_type": "code",
      "execution_count": null,
      "metadata": {
        "colab": {
          "base_uri": "https://localhost:8080/"
        },
        "id": "bMu-gc7I7PMn",
        "outputId": "e355e084-c74c-4a5f-fc07-ff14e9f18c05"
      },
      "outputs": [
        {
          "name": "stdout",
          "output_type": "stream",
          "text": [
            "Regression target shape: (13772,)\n",
            "Regression target type: float32\n",
            "Score range: [2.5, 10.0]\n"
          ]
        }
      ],
      "source": [
        "regression_target = data['Review_Score'].values.astype(np.float32)\n",
        "print(f\"Regression target shape: {regression_target.shape}\")\n",
        "print(f\"Regression target type: {regression_target.dtype}\")\n",
        "print(f\"Score range: [{regression_target.min():.1f}, {regression_target.max():.1f}]\")\n"
      ]
    },
    {
      "cell_type": "markdown",
      "metadata": {
        "id": "SWT-H0j87PMn"
      },
      "source": [
        "## **LOSS FUNCTION**"
      ]
    },
    {
      "cell_type": "markdown",
      "metadata": {
        "id": "wUSV6m927PMn"
      },
      "source": [
        "I am now putting the loss functions and metrics for measuring how well the model is performing.\n",
        "\n",
        "In the exam, I said I would have used:\n",
        "- binary crossentropy for my classification sigmoid\n",
        "- MSE for the regression\n",
        "\n",
        "As metrics:\n",
        "- accuracy for the classification part, since from exam data we knew we didn't have particularly unbalanced classes\n",
        "- MAE for the regression"
      ]
    },
    {
      "cell_type": "code",
      "execution_count": null,
      "metadata": {
        "id": "6Pj2wRT77PMn"
      },
      "outputs": [],
      "source": [
        "loss_dict = {\n",
        "    \"classification_output\": 'binary_crossentropy',  # For sigmoid output\n",
        "    \"regression_output\": 'mse'                       # For linear output\n",
        "}\n",
        "\n"
      ]
    },
    {
      "cell_type": "markdown",
      "metadata": {
        "id": "NoRFXqea7PMn"
      },
      "source": [
        "## **METRICS CONFIGURATION**"
      ]
    },
    {
      "cell_type": "code",
      "execution_count": null,
      "metadata": {
        "id": "_DJIqW3v7PMn"
      },
      "outputs": [],
      "source": [
        "metric_dict = {\n",
        "    \"classification_output\": 'accuracy',\n",
        "    \"regression_output\": 'mae'\n",
        "}\n"
      ]
    },
    {
      "cell_type": "markdown",
      "metadata": {
        "id": "FiEUBEE87PMn"
      },
      "source": [
        "## **LOSS WEIGHTING**"
      ]
    },
    {
      "cell_type": "markdown",
      "metadata": {
        "id": "_9p62xt77PMn"
      },
      "source": [
        "In my exam, I wrote that, since we had two losses, the best approach was to do the weighted sum of the two.\n",
        "\n",
        "In the exam, I wrote the formula \"Total_loss = λ1 * MSE + λ2 * binary cross entropy\".\n",
        "\n",
        "I will put them with equal weights (1.0 each) initially, which can be tuned during training if one task dominates the other."
      ]
    },
    {
      "cell_type": "code",
      "execution_count": null,
      "metadata": {
        "id": "k2srYsvK7PMn"
      },
      "outputs": [],
      "source": [
        "loss_weights = {\n",
        "    \"classification_output\": 1.0,  # λ2 for binary cross entropy\n",
        "    \"regression_output\": 1.0       # λ1 for MSE\n",
        "}"
      ]
    },
    {
      "cell_type": "markdown",
      "metadata": {
        "id": "oqbqe2VL7PMn"
      },
      "source": [
        "## **COMPILING THE MODEL**"
      ]
    },
    {
      "cell_type": "markdown",
      "metadata": {
        "id": "7lTs6gJu7PMn"
      },
      "source": [
        "prepares the training data in dictionary format for the multi-input, multi-output model"
      ]
    },
    {
      "cell_type": "markdown",
      "metadata": {
        "id": "Gb-_V8Lh7PMn"
      },
      "source": [
        "Implements train/test split to separate the data into training and test data, in order to measure the generalization capability.\n",
        "\n",
        "I will use 80/20 as it is standard.\n"
      ]
    },
    {
      "cell_type": "code",
      "execution_count": null,
      "metadata": {
        "colab": {
          "base_uri": "https://localhost:8080/"
        },
        "id": "rnkAdP4b7PMn",
        "outputId": "da47cfae-cce1-4912-d2e1-3bce34fc5fec"
      },
      "outputs": [
        {
          "name": "stdout",
          "output_type": "stream",
          "text": [
            "Training samples: 11017\n",
            "Test samples: 2755\n",
            "Train class distribution: [5510 5507]\n",
            "Test class distribution: [1378 1377]\n"
          ]
        }
      ],
      "source": [
        "# Split the data (80/20 as standard)\n",
        "# Use stratify for balanced classification split\n",
        "X_train_text, X_test_text, y_train_class, y_test_class = train_test_split(\n",
        "    text_input, classification_target,\n",
        "    test_size=0.2,\n",
        "    random_state=42,\n",
        "    stratify=classification_target  # Ensure balanced split\n",
        ")\n",
        "\n",
        "X_train_cat, X_test_cat, y_train_reg, y_test_reg = train_test_split(\n",
        "    categorical_input, regression_target,\n",
        "    test_size=0.2,\n",
        "    random_state=42\n",
        ")\n",
        "\n",
        "print(f\"Training samples: {len(X_train_text)}\")\n",
        "print(f\"Test samples: {len(X_test_text)}\")\n",
        "print(f\"Train class distribution: {np.bincount(y_train_class)}\")\n",
        "print(f\"Test class distribution: {np.bincount(y_test_class)}\")"
      ]
    },
    {
      "cell_type": "markdown",
      "metadata": {
        "id": "3WhhCQjE7PMn"
      },
      "source": [
        "This cell **organizes the split data into dictionary format** for the multi-input, multi-output model:\n",
        "\n",
        "**Training data dictionaries:**\n",
        "- **X_train**: Maps input names to training features (text sequences + categorical features)\n",
        "- **y_train**: Maps output names to training targets (binary labels + continuous scores)\n",
        "\n",
        "**Test data dictionaries:**\n",
        "- **X_test/y_test**: Same structure for evaluation data\n",
        "\n",
        "**Purpose**: Converts the individual arrays from train_test_split into the dictionary format required by Keras Functional API, matching my model's input/output layer names for proper data flow during training and evaluation."
      ]
    },
    {
      "cell_type": "code",
      "execution_count": null,
      "metadata": {
        "id": "5o6-LPkP7PMn"
      },
      "outputs": [],
      "source": [
        "X_train = {\n",
        "    'text_input': X_train_text,\n",
        "    'categorical_input': X_train_cat\n",
        "}\n",
        "\n",
        "X_test = {\n",
        "    'text_input': X_test_text,\n",
        "    'categorical_input': X_test_cat\n",
        "}\n",
        "\n",
        "y_train = {\n",
        "    'classification_output': y_train_class,\n",
        "    'regression_output': y_train_reg\n",
        "}\n",
        "\n",
        "y_test = {\n",
        "    'classification_output': y_test_class,\n",
        "    'regression_output': y_test_reg\n",
        "}\n"
      ]
    },
    {
      "cell_type": "markdown",
      "metadata": {
        "id": "HrkKe9AC7PMn"
      },
      "source": [
        "Defines the hyperparameter search space based on my exam answer.\n",
        "\n",
        "**Parameters to optimize:**\n",
        "\n",
        "- Learning rates: Tests different optimization speeds\n",
        "- Batch sizes: Tests different mini-batch sizes for gradient updates\n",
        "- Dropout rates: Tests different regularization strengths\n",
        "\n",
        "**Purpose:**\n",
        "\n",
        "Sets up the parameter ranges for random search hyperparameter optimization, focusing on the easily testable parameters I mentioned in my exam answer about using grid search/random search for the best hyperparameters."
      ]
    },
    {
      "cell_type": "code",
      "execution_count": null,
      "metadata": {
        "colab": {
          "base_uri": "https://localhost:8080/"
        },
        "id": "ov3i8U5A7PMo",
        "outputId": "2576052c-803c-43b5-e953-2b8b6fb91c9c"
      },
      "outputs": [
        {
          "name": "stdout",
          "output_type": "stream",
          "text": [
            "Parameters to test:\n",
            "  learning_rates: [0.001, 0.0005, 0.002]\n",
            "  batch_sizes: [32, 64]\n",
            "  dropout_rates: [0.1, 0.2]\n"
          ]
        }
      ],
      "source": [
        "# Hyperparameters to test (from  my exam answer)\n",
        "test_params = {\n",
        "    'learning_rates': [0.001, 0.0005, 0.002],     # Learning rate\n",
        "    'batch_sizes': [32, 64],                      # Batch size\n",
        "    'dropout_rates': [0.1, 0.2],                 # Dropout\n",
        "}\n",
        "\n",
        "print(\"Parameters to test:\")\n",
        "for param, values in test_params.items():\n",
        "    print(f\"  {param}: {values}\")"
      ]
    },
    {
      "cell_type": "markdown",
      "metadata": {
        "id": "bO7j0BDh7PMo"
      },
      "source": [
        "As a first thing, I will start with standard hyperparameters before optimization, since this establishes baseline performance before hyperparameter search."
      ]
    },
    {
      "cell_type": "code",
      "execution_count": null,
      "metadata": {
        "id": "WyAHdF9q7PMo"
      },
      "outputs": [],
      "source": [
        "# Starting with standard hyperparameters\n",
        "LEARNING_RATE = 0.001\n",
        "BATCH_SIZE = 32\n",
        "EPOCHS = 15\n",
        "DROPOUT_RATE = 0.2\n",
        "\n",
        "\n",
        "# Recompile model with specific hyperparameters\n",
        "\n",
        "model.compile(\n",
        "    optimizer=Adam(learning_rate=LEARNING_RATE),\n",
        "    loss=loss_dict,\n",
        "    loss_weights=loss_weights,\n",
        "    metrics=metric_dict\n",
        ")"
      ]
    },
    {
      "cell_type": "markdown",
      "metadata": {
        "id": "OQvTgcY57PMo"
      },
      "source": [
        "I will use early stopping to prevent overfitting and find optimal training point:\n",
        "\n",
        "- Monitor validation loss for improvement\n",
        "- Stop if no improvement for 5 epochs (patience)\n",
        "- Restore best weights from training history\n",
        "\n",
        "This establishes baseline performance before hyperparameter optimization."
      ]
    },
    {
      "cell_type": "code",
      "execution_count": null,
      "metadata": {
        "colab": {
          "base_uri": "https://localhost:8080/"
        },
        "id": "ai18W-lO7PMo",
        "outputId": "5e525fb8-bd6d-4086-aa51-48d23b32e1c7"
      },
      "outputs": [
        {
          "name": "stdout",
          "output_type": "stream",
          "text": [
            "\n",
            " Starting baseline training...\n",
            "Epoch 1/15\n",
            "\u001b[1m276/276\u001b[0m \u001b[32m━━━━━━━━━━━━━━━━━━━━\u001b[0m\u001b[37m\u001b[0m \u001b[1m13s\u001b[0m 25ms/step - classification_output_accuracy: 0.4967 - classification_output_loss: 0.7221 - loss: 14.2823 - regression_output_loss: 13.5601 - regression_output_mae: 2.8626 - val_classification_output_accuracy: 0.4982 - val_classification_output_loss: 0.6939 - val_loss: 5.0620 - val_regression_output_loss: 4.3688 - val_regression_output_mae: 1.7757\n",
            "Epoch 2/15\n",
            "\u001b[1m276/276\u001b[0m \u001b[32m━━━━━━━━━━━━━━━━━━━━\u001b[0m\u001b[37m\u001b[0m \u001b[1m6s\u001b[0m 20ms/step - classification_output_accuracy: 0.5006 - classification_output_loss: 0.7221 - loss: 5.7542 - regression_output_loss: 5.0321 - regression_output_mae: 1.8904 - val_classification_output_accuracy: 0.5054 - val_classification_output_loss: 0.6963 - val_loss: 5.5830 - val_regression_output_loss: 4.8864 - val_regression_output_mae: 1.8305\n",
            "Epoch 3/15\n",
            "\u001b[1m276/276\u001b[0m \u001b[32m━━━━━━━━━━━━━━━━━━━━\u001b[0m\u001b[37m\u001b[0m \u001b[1m10s\u001b[0m 20ms/step - classification_output_accuracy: 0.5114 - classification_output_loss: 0.7051 - loss: 5.3445 - regression_output_loss: 4.6393 - regression_output_mae: 1.8198 - val_classification_output_accuracy: 0.5059 - val_classification_output_loss: 0.6941 - val_loss: 6.2046 - val_regression_output_loss: 5.5096 - val_regression_output_mae: 1.9345\n",
            "Epoch 4/15\n",
            "\u001b[1m276/276\u001b[0m \u001b[32m━━━━━━━━━━━━━━━━━━━━\u001b[0m\u001b[37m\u001b[0m \u001b[1m6s\u001b[0m 22ms/step - classification_output_accuracy: 0.5036 - classification_output_loss: 0.7019 - loss: 5.3561 - regression_output_loss: 4.6542 - regression_output_mae: 1.8261 - val_classification_output_accuracy: 0.5127 - val_classification_output_loss: 0.6932 - val_loss: 6.4720 - val_regression_output_loss: 5.7777 - val_regression_output_mae: 1.9794\n",
            "Epoch 5/15\n",
            "\u001b[1m276/276\u001b[0m \u001b[32m━━━━━━━━━━━━━━━━━━━━\u001b[0m\u001b[37m\u001b[0m \u001b[1m6s\u001b[0m 20ms/step - classification_output_accuracy: 0.5016 - classification_output_loss: 0.7007 - loss: 5.2597 - regression_output_loss: 4.5589 - regression_output_mae: 1.8082 - val_classification_output_accuracy: 0.5059 - val_classification_output_loss: 0.6944 - val_loss: 5.8954 - val_regression_output_loss: 5.2004 - val_regression_output_mae: 1.8835\n",
            "Epoch 6/15\n",
            "\u001b[1m276/276\u001b[0m \u001b[32m━━━━━━━━━━━━━━━━━━━━\u001b[0m\u001b[37m\u001b[0m \u001b[1m6s\u001b[0m 21ms/step - classification_output_accuracy: 0.4988 - classification_output_loss: 0.7023 - loss: 5.1895 - regression_output_loss: 4.4872 - regression_output_mae: 1.8124 - val_classification_output_accuracy: 0.5054 - val_classification_output_loss: 0.6941 - val_loss: 6.6458 - val_regression_output_loss: 5.9504 - val_regression_output_mae: 2.0075\n",
            "Epoch 6: early stopping\n",
            "Restoring model weights from the end of the best epoch: 1.\n",
            "Baseline training complete!\n"
          ]
        }
      ],
      "source": [
        "# Add callbacks\n",
        "\n",
        "early_stopping = EarlyStopping(\n",
        "    monitor='val_loss',\n",
        "    patience=5,\n",
        "    restore_best_weights=True,\n",
        "    verbose=1\n",
        ")\n",
        "\n",
        "print(\"\\n Starting baseline training...\")\n",
        "\n",
        "# Train the model\n",
        "history = model.fit(\n",
        "    x=X_train,\n",
        "    y=y_train,\n",
        "    batch_size=BATCH_SIZE,\n",
        "    epochs=EPOCHS,\n",
        "    validation_split=0.2,  # 80% train, 20% validation\n",
        "    callbacks=[early_stopping],\n",
        "    verbose=1\n",
        ")\n",
        "\n",
        "print(\"Baseline training complete!\")\n"
      ]
    },
    {
      "cell_type": "markdown",
      "metadata": {
        "id": "1OBg058G7PMo"
      },
      "source": [
        "## **EVALUATION ON TEST DATA**"
      ]
    },
    {
      "cell_type": "markdown",
      "metadata": {
        "id": "t5fafxpI7PMo"
      },
      "source": [
        "Clearly we have separated data into training and test data, measuring then the the generalization capabilities of the model on unseen data."
      ]
    },
    {
      "cell_type": "code",
      "execution_count": null,
      "metadata": {
        "colab": {
          "base_uri": "https://localhost:8080/"
        },
        "id": "FK9QdNH07PMo",
        "outputId": "19a2cbd3-b9ba-42ca-ae92-7963e7ca6586"
      },
      "outputs": [
        {
          "name": "stdout",
          "output_type": "stream",
          "text": [
            "BASELINE TEST RESULTS:\n",
            "  loss: 4.9636\n",
            "  compile_metrics: 0.6931\n",
            "  classification_output_loss: 4.2494\n",
            "  regression_output_loss: 0.4980\n",
            "\n",
            "BASELINE PERFORMANCE SUMMARY:\n",
            "  Test Accuracy: 0.4980\n",
            "  Test MAE: 1.7564\n",
            "  Test Loss: 4.9636\n"
          ]
        }
      ],
      "source": [
        "# Evaluate on test set (unseen data)\n",
        "test_results = model.evaluate(X_test, y_test, verbose=0)\n",
        "\n",
        "print(\"BASELINE TEST RESULTS:\")\n",
        "for i, metric_name in enumerate(model.metrics_names):\n",
        "    print(f\"  {metric_name}: {test_results[i]:.4f}\")\n",
        "\n",
        "# Extract key metrics\n",
        "baseline_acc = test_results[3]  # classification accuracy\n",
        "baseline_mae = test_results[4]  # regression MAE\n",
        "baseline_loss = test_results[0] # total loss\n",
        "\n",
        "print(f\"\\nBASELINE PERFORMANCE SUMMARY:\")\n",
        "print(f\"  Test Accuracy: {baseline_acc:.4f}\")\n",
        "print(f\"  Test MAE: {baseline_mae:.4f}\")\n",
        "print(f\"  Test Loss: {baseline_loss:.4f}\")"
      ]
    },
    {
      "cell_type": "markdown",
      "metadata": {
        "id": "y0pN1Hov7PMo"
      },
      "source": [
        "okay, now that we have a baseline model we can go into the final part of the exam, where I said I would have used Cross Validation + Random Search or Grid Search for the search of the best hyper parameters"
      ]
    },
    {
      "cell_type": "markdown",
      "metadata": {
        "id": "LwILl-4C7PMo"
      },
      "source": [
        "## **HYPERPARAMETER OPTIMIZATION: RANDOM SEARCH / GRID SEARCH**"
      ]
    },
    {
      "cell_type": "markdown",
      "metadata": {
        "id": "kup9GQ4x7PMo"
      },
      "source": [
        "Following exam answer: \"The choice of hyperparameters could be done by using Grid Search or Random Search for looking for the best hyperparameters.\"\n",
        "\n",
        "This implements random search to optimize the hyperparameters I mentioned in my exam:\n",
        "\n",
        "- Learning rate\n",
        "- batch size\n",
        "- dropout rate\n",
        "- number of neurons (LSTM units)\n",
        "\n",
        "\n",
        "**Process:**\n",
        "1. Define parameter ranges based on exam answer\n",
        "2. Sample random combinations (5 trials for efficiency)\n",
        "3. Train each configuration with validation split (cross-validation approach)\n",
        "4. Select best parameters based on validation loss\n",
        "5. Retrain final model with optimal hyperparameters\n",
        "6. Evaluate on test set and compare with baseline performance\n",
        "\n",
        "This addresses Point 5b from my exam about optimizing hyperparameters and Point 6 about assessing generalization capabilities on unseen data, through cross-validation by holding out part of the dataset.\n",
        "\n",
        "I will do Random Search and not use cross-validation since it takes less time than GridSearch."
      ]
    },
    {
      "cell_type": "code",
      "execution_count": null,
      "metadata": {
        "colab": {
          "base_uri": "https://localhost:8080/"
        },
        "id": "OcJEC5B-7PMo",
        "outputId": "6de84bf9-b7f5-4416-d84f-4f9edf82f9df"
      },
      "outputs": [
        {
          "name": "stdout",
          "output_type": "stream",
          "text": [
            "\n",
            "============================================================\n",
            "RANDOM SEARCH FOR HYPERPARAMETERS\n",
            "============================================================\n",
            "Testing parameters:\n",
            "  learning_rate: [0.001, 0.0005, 0.002, 0.005]\n",
            "  batch_size: [32, 64, 128]\n",
            "  dropout_rate: [0.1, 0.2, 0.3]\n",
            "  lstm_units: [32, 64, 128]\n",
            "\n",
            "=== STARTING RANDOM SEARCH ===\n",
            "\n",
            "Trial 1/5: {'learning_rate': 0.001, 'batch_size': 32, 'dropout_rate': 0.3, 'lstm_units': 64}\n"
          ]
        },
        {
          "name": "stderr",
          "output_type": "stream",
          "text": [
            "/usr/local/lib/python3.11/dist-packages/keras/src/layers/core/embedding.py:90: UserWarning: Argument `input_length` is deprecated. Just remove it.\n",
            "  warnings.warn(\n"
          ]
        },
        {
          "name": "stdout",
          "output_type": "stream",
          "text": [
            "Results: Loss=5.1986, Acc=0.5059, MAE=1.7813\n",
            "NEW BEST PARAMETERS!\n",
            "\n",
            "Trial 2/5: {'learning_rate': 0.005, 'batch_size': 32, 'dropout_rate': 0.1, 'lstm_units': 32}\n",
            "Results: Loss=5.1738, Acc=0.5054, MAE=1.7839\n",
            "NEW BEST PARAMETERS!\n",
            "\n",
            "Trial 3/5: {'learning_rate': 0.005, 'batch_size': 32, 'dropout_rate': 0.2, 'lstm_units': 128}\n",
            "Results: Loss=5.4385, Acc=0.5054, MAE=1.8105\n",
            "\n",
            "Trial 4/5: {'learning_rate': 0.0005, 'batch_size': 32, 'dropout_rate': 0.2, 'lstm_units': 32}\n",
            "Results: Loss=5.1897, Acc=0.5064, MAE=1.7852\n",
            "\n",
            "Trial 5/5: {'learning_rate': 0.005, 'batch_size': 128, 'dropout_rate': 0.1, 'lstm_units': 64}\n",
            "Results: Loss=4.9522, Acc=0.5091, MAE=1.7729\n",
            "NEW BEST PARAMETERS!\n",
            "\n",
            "==================================================\n",
            "RANDOM SEARCH RESULTS\n",
            "==================================================\n",
            "Best parameters: {'learning_rate': 0.005, 'batch_size': 128, 'dropout_rate': 0.1, 'lstm_units': 64}\n",
            "Best validation loss: 4.9522\n",
            "\n",
            "=== FINAL TRAINING WITH BEST PARAMETERS ===\n",
            "Epoch 1/20\n",
            "\u001b[1m69/69\u001b[0m \u001b[32m━━━━━━━━━━━━━━━━━━━━\u001b[0m\u001b[37m\u001b[0m \u001b[1m5s\u001b[0m 33ms/step - classification_output_accuracy: 0.5009 - classification_output_loss: 0.8840 - loss: 21.4992 - regression_output_loss: 20.6148 - regression_output_mae: 3.6399 - val_classification_output_accuracy: 0.4946 - val_classification_output_loss: 0.7046 - val_loss: 4.9794 - val_regression_output_loss: 4.3087 - val_regression_output_mae: 1.7843\n",
            "Epoch 2/20\n",
            "\u001b[1m69/69\u001b[0m \u001b[32m━━━━━━━━━━━━━━━━━━━━\u001b[0m\u001b[37m\u001b[0m \u001b[1m2s\u001b[0m 33ms/step - classification_output_accuracy: 0.4918 - classification_output_loss: 0.7155 - loss: 5.3669 - regression_output_loss: 4.6513 - regression_output_mae: 1.8283 - val_classification_output_accuracy: 0.4950 - val_classification_output_loss: 0.6954 - val_loss: 5.0121 - val_regression_output_loss: 4.3410 - val_regression_output_mae: 1.7770\n",
            "Epoch 3/20\n",
            "\u001b[1m69/69\u001b[0m \u001b[32m━━━━━━━━━━━━━━━━━━━━\u001b[0m\u001b[37m\u001b[0m \u001b[1m2s\u001b[0m 26ms/step - classification_output_accuracy: 0.5050 - classification_output_loss: 0.7031 - loss: 5.2717 - regression_output_loss: 4.5686 - regression_output_mae: 1.8181 - val_classification_output_accuracy: 0.4986 - val_classification_output_loss: 0.6942 - val_loss: 5.1634 - val_regression_output_loss: 4.4810 - val_regression_output_mae: 1.7781\n",
            "Epoch 4/20\n",
            "\u001b[1m69/69\u001b[0m \u001b[32m━━━━━━━━━━━━━━━━━━━━\u001b[0m\u001b[37m\u001b[0m \u001b[1m2s\u001b[0m 26ms/step - classification_output_accuracy: 0.4907 - classification_output_loss: 0.7045 - loss: 5.2025 - regression_output_loss: 4.4980 - regression_output_mae: 1.8117 - val_classification_output_accuracy: 0.4887 - val_classification_output_loss: 0.6933 - val_loss: 5.0862 - val_regression_output_loss: 4.4056 - val_regression_output_mae: 1.7726\n",
            "Epoch 5/20\n",
            "\u001b[1m69/69\u001b[0m \u001b[32m━━━━━━━━━━━━━━━━━━━━\u001b[0m\u001b[37m\u001b[0m \u001b[1m2s\u001b[0m 28ms/step - classification_output_accuracy: 0.4961 - classification_output_loss: 0.7028 - loss: 5.1981 - regression_output_loss: 4.4953 - regression_output_mae: 1.8121 - val_classification_output_accuracy: 0.4946 - val_classification_output_loss: 0.6969 - val_loss: 5.2101 - val_regression_output_loss: 4.5194 - val_regression_output_mae: 1.7846\n",
            "Epoch 6/20\n",
            "\u001b[1m69/69\u001b[0m \u001b[32m━━━━━━━━━━━━━━━━━━━━\u001b[0m\u001b[37m\u001b[0m \u001b[1m2s\u001b[0m 28ms/step - classification_output_accuracy: 0.5032 - classification_output_loss: 0.7021 - loss: 5.1234 - regression_output_loss: 4.4213 - regression_output_mae: 1.7995 - val_classification_output_accuracy: 0.4946 - val_classification_output_loss: 0.7019 - val_loss: 5.6397 - val_regression_output_loss: 4.9292 - val_regression_output_mae: 1.8396\n",
            "\n",
            " FINAL OPTIMIZED RESULTS:\n",
            "  loss: 4.9204\n",
            "  compile_metrics: 0.7018\n",
            "  classification_output_loss: 4.1914\n",
            "  regression_output_loss: 0.5002\n"
          ]
        }
      ],
      "source": [
        "print(\"\\n\" + \"=\"*60)\n",
        "print(\"RANDOM SEARCH FOR HYPERPARAMETERS\")\n",
        "print(\"=\"*60)\n",
        "\n",
        "# Parameter ranges\n",
        "param_ranges = {\n",
        "    'learning_rate': [0.001, 0.0005, 0.002, 0.005],  # Learning rate\n",
        "    'batch_size': [32, 64, 128],                     # Batch size\n",
        "    'dropout_rate': [0.1, 0.2, 0.3],                # Dropout\n",
        "    'lstm_units': [32, 64, 128]                     # Number of neurons\n",
        "}\n",
        "\n",
        "print(\"Testing parameters:\")\n",
        "for param, values in param_ranges.items():\n",
        "    print(f\"  {param}: {values}\")\n",
        "\n",
        "def create_model_with_params(lr, dropout, lstm_units):\n",
        "\n",
        "    # Input layers\n",
        "    text_input_layer = Input(shape=text_feature_shape, dtype='int32', name=\"text_input\")\n",
        "    categorical_input_layer = Input(shape=categorical_feature_shape, dtype='float32', name=\"categorical_input\")\n",
        "\n",
        "    # Text branch\n",
        "    x1 = Embedding(input_dim=tot_uniq_words,\n",
        "                   output_dim=128,  # Same as my current model\n",
        "                   input_length=MAX_SEQUENCE_LENGTH,\n",
        "                   embeddings_initializer='glorot_uniform',  # Better than default\n",
        "                   name=\"embedding\")(text_input_layer)\n",
        "\n",
        "    x1 = LSTM(units=lstm_units,  # Variable LSTM units\n",
        "              activation='tanh',  # As per exam\n",
        "              name=\"lstm\")(x1)\n",
        "\n",
        "    # Categorical branch\n",
        "    x2 = Dense(32, activation='relu', name=\"categorical_dense1\")(categorical_input_layer)\n",
        "    x2 = Dense(16, activation='relu', name=\"categorical_dense2\")(x2)\n",
        "\n",
        "    # Merge\n",
        "    merged = Concatenate(name=\"concatenate\")([x1, x2])\n",
        "    merged = Dense(32, activation='relu', name=\"merged_dense1\")(merged)\n",
        "    merged = Dropout(dropout, name=\"dropout\")(merged)  # Variable dropout\n",
        "    merged = Dense(16, activation='relu', name=\"merged_dense2\")(merged)\n",
        "\n",
        "    # Outputs\n",
        "    classification_output = Dense(1, activation='sigmoid', name=\"classification_output\")(merged)\n",
        "    regression_output = Dense(1, activation=None, name=\"regression_output\")(merged)\n",
        "\n",
        "    # Create model\n",
        "    model = Model(inputs=[text_input_layer, categorical_input_layer],\n",
        "                  outputs=[classification_output, regression_output])\n",
        "\n",
        "    # Compile\n",
        "    model.compile(\n",
        "        optimizer=Adam(learning_rate=lr),  # Variable learning rate\n",
        "        loss=loss_dict,\n",
        "        loss_weights=loss_weights,\n",
        "        metrics=metric_dict\n",
        "    )\n",
        "\n",
        "    return model\n",
        "\n",
        "# Random search execution\n",
        "print(f\"\\n=== STARTING RANDOM SEARCH ===\")\n",
        "n_trials = 5  # Quick search\n",
        "best_score = float('inf')\n",
        "best_params = None\n",
        "best_model = None\n",
        "\n",
        "random.seed(42)  # Reproducibility\n",
        "\n",
        "for trial in range(n_trials):\n",
        "    # Sample random parameters\n",
        "    params = {k: random.choice(v) for k, v in param_ranges.items()}\n",
        "    print(f\"\\nTrial {trial+1}/{n_trials}: {params}\")\n",
        "\n",
        "    # Create model with random parameters\n",
        "    trial_model = create_model_with_params(\n",
        "        lr=params['learning_rate'],\n",
        "        dropout=params['dropout_rate'],\n",
        "        lstm_units=params['lstm_units']\n",
        "    )\n",
        "\n",
        "    # Train with early stopping\n",
        "    early_stopping = EarlyStopping(monitor='val_loss', patience=3, restore_best_weights=True, verbose=0)\n",
        "\n",
        "    history = trial_model.fit(\n",
        "        x=X_train, y=y_train,\n",
        "        batch_size=params['batch_size'],\n",
        "        epochs=10,  # Reduced for speed\n",
        "        validation_split=0.2,\n",
        "        callbacks=[early_stopping],\n",
        "        verbose=0  # Silent training\n",
        "    )\n",
        "\n",
        "    # Check performance\n",
        "    val_loss = min(history.history['val_loss'])\n",
        "    val_acc = max(history.history['val_classification_output_accuracy'])\n",
        "    val_mae = min(history.history['val_regression_output_mae'])\n",
        "\n",
        "    print(f\"Results: Loss={val_loss:.4f}, Acc={val_acc:.4f}, MAE={val_mae:.4f}\")\n",
        "\n",
        "    # Track best\n",
        "    if val_loss < best_score:\n",
        "        best_score = val_loss\n",
        "        best_params = params.copy()\n",
        "        best_model = trial_model\n",
        "        print(\"NEW BEST PARAMETERS!\")\n",
        "\n",
        "print(f\"\\n\" + \"=\"*50)\n",
        "print(\"RANDOM SEARCH RESULTS\")\n",
        "print(\"=\"*50)\n",
        "print(f\"Best parameters: {best_params}\")\n",
        "print(f\"Best validation loss: {best_score:.4f}\")\n",
        "\n",
        "# Train final model with best parameters\n",
        "print(f\"\\n=== FINAL TRAINING WITH BEST PARAMETERS ===\")\n",
        "final_model = create_model_with_params(\n",
        "    lr=best_params['learning_rate'],\n",
        "    dropout=best_params['dropout_rate'],\n",
        "    lstm_units=best_params['lstm_units']\n",
        ")\n",
        "\n",
        "final_history = final_model.fit(\n",
        "    x=X_train, y=y_train,\n",
        "    batch_size=best_params['batch_size'],\n",
        "    epochs=20,  # Full training\n",
        "    validation_split=0.2,\n",
        "    callbacks=[EarlyStopping(monitor='val_loss', patience=5, restore_best_weights=True)],\n",
        "    verbose=1\n",
        ")\n",
        "\n",
        "# Final evaluation\n",
        "final_results = final_model.evaluate(X_test, y_test, verbose=0)\n",
        "\n",
        "print(f\"\\n FINAL OPTIMIZED RESULTS:\")\n",
        "for i, metric_name in enumerate(final_model.metrics_names):\n",
        "    print(f\"  {metric_name}: {final_results[i]:.4f}\")\n",
        "\n"
      ]
    },
    {
      "cell_type": "markdown",
      "metadata": {
        "id": "4Jg9S0NnfKi9"
      },
      "source": [
        "- cross validation (5 folds)"
      ]
    },
    {
      "cell_type": "code",
      "execution_count": null,
      "metadata": {
        "colab": {
          "background_save": true,
          "base_uri": "https://localhost:8080/"
        },
        "id": "LWOS1cNdfM1r",
        "outputId": "329e2fef-0613-46c4-9168-a72c97cb54b7"
      },
      "outputs": [
        {
          "name": "stdout",
          "output_type": "stream",
          "text": [
            "\n",
            "================================================================================\n",
            "STARTING 5-FOLD CROSS-VALIDATION\n",
            "================================================================================\n",
            "\n",
            "--- FOLD 1/5 ---\n",
            "Train: 11017, Val: 2755\n"
          ]
        },
        {
          "name": "stderr",
          "output_type": "stream",
          "text": [
            "/usr/local/lib/python3.11/dist-packages/keras/src/layers/core/embedding.py:90: UserWarning: Argument `input_length` is deprecated. Just remove it.\n",
            "  warnings.warn(\n"
          ]
        },
        {
          "name": "stdout",
          "output_type": "stream",
          "text": [
            "Val Loss: 5.2988\n",
            "Val Accuracy: 0.5002\n",
            "Val MAE: 1.7845\n",
            "\n",
            "--- FOLD 2/5 ---\n",
            "Train: 11017, Val: 2755\n",
            "Val Loss: 5.6513\n",
            "Val Accuracy: 0.4998\n",
            "Val MAE: 1.8440\n",
            "\n",
            "--- FOLD 3/5 ---\n",
            "Train: 11018, Val: 2754\n",
            "Val Loss: 6.1683\n",
            "Val Accuracy: 0.5033\n",
            "Val MAE: 1.9288\n",
            "\n",
            "--- FOLD 4/5 ---\n",
            "Train: 11018, Val: 2754\n",
            "Val Loss: 5.4820\n",
            "Val Accuracy: 0.5207\n",
            "Val MAE: 1.8103\n",
            "\n",
            "--- FOLD 5/5 ---\n",
            "Train: 11018, Val: 2754\n"
          ]
        }
      ],
      "source": [
        "from sklearn.model_selection import StratifiedKFold\n",
        "import pandas as pd\n",
        "\n",
        "def create_model_cv():\n",
        "    # Input layers - using existing shapes\n",
        "    text_feature_shape = (MAX_SEQUENCE_LENGTH,)\n",
        "    categorical_feature_shape = (len(categorical_columns),)\n",
        "\n",
        "    text_input_layer = Input(shape=text_feature_shape, dtype='int32', name=\"text_input\")\n",
        "    categorical_input_layer = Input(shape=categorical_feature_shape, dtype='float32', name=\"categorical_input\")\n",
        "\n",
        "    # Text processing branch\n",
        "    x1 = Embedding(input_dim=tot_uniq_words,\n",
        "                   output_dim=128,\n",
        "                   input_length=MAX_SEQUENCE_LENGTH,\n",
        "                   name=\"embedding\")(text_input_layer)\n",
        "    x1 = LSTM(units=64, activation='tanh', name=\"lstm\")(x1)\n",
        "\n",
        "    # Categorical processing branch\n",
        "    x2 = Dense(32, activation='relu', name=\"categorical_dense1\")(categorical_input_layer)\n",
        "    x2 = Dense(16, activation='relu', name=\"categorical_dense2\")(x2)\n",
        "\n",
        "    # Merge branches\n",
        "    merged = Concatenate(name=\"concatenate\")([x1, x2])\n",
        "    merged = Dense(32, activation='relu', name=\"merged_dense1\")(merged)\n",
        "    merged = Dropout(0.2, name=\"dropout\")(merged)\n",
        "    merged = Dense(16, activation='relu', name=\"merged_dense2\")(merged)\n",
        "\n",
        "    # Outputs\n",
        "    classification_output = Dense(1, activation='sigmoid', name=\"classification_output\")(merged)\n",
        "    regression_output = Dense(1, activation=None, name=\"regression_output\")(merged)\n",
        "\n",
        "    # Create and compile model\n",
        "    cv_model = Model(inputs=[text_input_layer, categorical_input_layer],\n",
        "                     outputs=[classification_output, regression_output],\n",
        "                     name='CV_Model')\n",
        "\n",
        "    cv_model.compile(\n",
        "        optimizer=Adam(learning_rate=0.001),\n",
        "        loss=loss_dict,\n",
        "        loss_weights=loss_weights,\n",
        "        metrics=metric_dict\n",
        "    )\n",
        "\n",
        "    return cv_model\n",
        "\n",
        "print(\"\\n\" + \"=\"*80)\n",
        "print(\"STARTING 5-FOLD CROSS-VALIDATION\")\n",
        "print(\"=\"*80)\n",
        "\n",
        "# Convert to numpy arrays if needed (handle both pandas Series and numpy arrays)\n",
        "if hasattr(classification_target, 'values'):\n",
        "    classification_target_array = classification_target.values\n",
        "else:\n",
        "    classification_target_array = classification_target\n",
        "\n",
        "if hasattr(regression_target, 'values'):\n",
        "    regression_target_array = regression_target.values\n",
        "else:\n",
        "    regression_target_array = regression_target\n",
        "\n",
        "\n",
        "\n",
        "\n",
        "\n",
        "# Use stratified k-fold for balanced splits\n",
        "skf = StratifiedKFold(n_splits=5, shuffle=True, random_state=42)\n",
        "\n",
        "\n",
        "\n",
        "\n",
        "# Store results\n",
        "cv_results = []\n",
        "\n",
        "fold = 0\n",
        "for train_idx, val_idx in skf.split(text_input, classification_target_array):\n",
        "    fold += 1\n",
        "    print(f\"\\n--- FOLD {fold}/5 ---\")\n",
        "\n",
        "    # Split data for this fold\n",
        "    X_train_text_cv = text_input[train_idx]\n",
        "    X_val_text_cv = text_input[val_idx]\n",
        "    X_train_cat_cv = categorical_input[train_idx]\n",
        "    X_val_cat_cv = categorical_input[val_idx]\n",
        "\n",
        "    y_train_class_cv = classification_target_array[train_idx]\n",
        "    y_val_class_cv = classification_target_array[val_idx]\n",
        "    y_train_reg_cv = regression_target_array[train_idx]\n",
        "    y_val_reg_cv = regression_target_array[val_idx]\n",
        "\n",
        "    print(f\"Train: {len(X_train_text_cv)}, Val: {len(X_val_text_cv)}\")\n",
        "\n",
        "    # Prepare data dictionaries\n",
        "    X_train_cv = {\n",
        "        'text_input': X_train_text_cv,\n",
        "        'categorical_input': X_train_cat_cv\n",
        "    }\n",
        "\n",
        "    X_val_cv = {\n",
        "        'text_input': X_val_text_cv,\n",
        "        'categorical_input': X_val_cat_cv\n",
        "    }\n",
        "\n",
        "    y_train_cv = {\n",
        "        'classification_output': y_train_class_cv,\n",
        "        'regression_output': y_train_reg_cv\n",
        "    }\n",
        "\n",
        "    y_val_cv = {\n",
        "        'classification_output': y_val_class_cv,\n",
        "        'regression_output': y_val_reg_cv\n",
        "    }\n",
        "\n",
        "    # Create fresh model\n",
        "    cv_model = create_model_cv()\n",
        "\n",
        "    # Early stopping for CV\n",
        "    early_stopping_cv = EarlyStopping(\n",
        "        monitor='val_loss',\n",
        "        patience=3,\n",
        "        restore_best_weights=True,\n",
        "        verbose=0\n",
        "    )\n",
        "\n",
        "    # Train model\n",
        "    history_cv = cv_model.fit(\n",
        "        x=X_train_cv,\n",
        "        y=y_train_cv,\n",
        "        validation_data=(X_val_cv, y_val_cv),\n",
        "        batch_size=32,\n",
        "        epochs=15,\n",
        "        callbacks=[early_stopping_cv],\n",
        "        verbose=0\n",
        "    )\n",
        "\n",
        "    # Get final epoch results\n",
        "    final_epoch = len(history_cv.history['loss']) - 1\n",
        "\n",
        "    fold_result = {\n",
        "        'fold': fold,\n",
        "        'val_loss': history_cv.history['val_loss'][final_epoch],\n",
        "        'val_accuracy': history_cv.history['val_classification_output_accuracy'][final_epoch],\n",
        "        'val_mae': history_cv.history['val_regression_output_mae'][final_epoch],\n",
        "        'train_loss': history_cv.history['loss'][final_epoch],\n",
        "        'train_accuracy': history_cv.history['classification_output_accuracy'][final_epoch],\n",
        "        'train_mae': history_cv.history['regression_output_mae'][final_epoch]\n",
        "    }\n",
        "\n",
        "    cv_results.append(fold_result)\n",
        "\n",
        "    print(f\"Val Loss: {fold_result['val_loss']:.4f}\")\n",
        "    print(f\"Val Accuracy: {fold_result['val_accuracy']:.4f}\")\n",
        "    print(f\"Val MAE: {fold_result['val_mae']:.4f}\")\n",
        "\n",
        "# Convert to DataFrame and analyze results\n",
        "cv_df = pd.DataFrame(cv_results)\n",
        "\n",
        "print(\"\\n\" + \"=\"*80)\n",
        "print(\"CROSS-VALIDATION RESULTS SUMMARY\")\n",
        "print(\"=\"*80)\n",
        "\n",
        "print(\"\\nVALIDATION METRICS:\")\n",
        "print(\"-\" * 50)\n",
        "print(f\"Validation Loss:     {cv_df['val_loss'].mean():.4f} ± {cv_df['val_loss'].std():.4f}\")\n",
        "print(f\"Validation Accuracy: {cv_df['val_accuracy'].mean():.4f} ± {cv_df['val_accuracy'].std():.4f}\")\n",
        "print(f\"Validation MAE:      {cv_df['val_mae'].mean():.4f} ± {cv_df['val_mae'].std():.4f}\")\n",
        "\n",
        "print(\"\\nTRAINING METRICS:\")\n",
        "print(\"-\" * 50)\n",
        "print(f\"Training Loss:       {cv_df['train_loss'].mean():.4f} ± {cv_df['train_loss'].std():.4f}\")\n",
        "print(f\"Training Accuracy:   {cv_df['train_accuracy'].mean():.4f} ± {cv_df['train_accuracy'].std():.4f}\")\n",
        "print(f\"Training MAE:        {cv_df['train_mae'].mean():.4f} ± {cv_df['train_mae'].std():.4f}\")\n",
        "\n",
        "\n",
        "\n",
        "print(f\"\\n=== COMPARISON WITH BASELINE ===\")\n",
        "print(f\"CV Validation Accuracy:  {cv_df['val_accuracy'].mean():.4f} ± {cv_df['val_accuracy'].std():.4f}\")\n",
        "print(f\"CV Validation MAE:       {cv_df['val_mae'].mean():.4f} ± {cv_df['val_mae'].std():.4f}\")\n",
        "print(f\"CV Validation Loss:      {cv_df['val_loss'].mean():.4f} ± {cv_df['val_loss'].std():.4f}\")\n",
        "\n",
        "print(f\"\\nBaseline Test Accuracy:  {baseline_acc:.4f}\")\n",
        "print(f\"Baseline Test MAE:       {baseline_mae:.4f}\")\n",
        "print(f\"Baseline Test Loss:      {baseline_loss:.4f}\")\n",
        "\n",
        "# Check consistency\n",
        "acc_diff = abs(cv_df['val_accuracy'].mean() - baseline_acc)\n",
        "mae_diff = abs(cv_df['val_mae'].mean() - baseline_mae)\n",
        "\n",
        "print(f\"\\nDifference Analysis:\")\n",
        "print(f\"Accuracy difference:     {acc_diff:.4f}\")\n",
        "print(f\"MAE difference:          {mae_diff:.4f}\")"
      ]
    }
  ],
  "metadata": {
    "accelerator": "GPU",
    "colab": {
      "gpuType": "T4",
      "provenance": []
    },
    "kernelspec": {
      "display_name": ".venv",
      "language": "python",
      "name": "python3"
    },
    "language_info": {
      "codemirror_mode": {
        "name": "ipython",
        "version": 3
      },
      "file_extension": ".py",
      "mimetype": "text/x-python",
      "name": "python",
      "nbconvert_exporter": "python",
      "pygments_lexer": "ipython3",
      "version": "3.10.12"
    }
  },
  "nbformat": 4,
  "nbformat_minor": 0
}
